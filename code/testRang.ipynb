{
 "cells": [
  {
   "cell_type": "code",
   "execution_count": 1,
   "metadata": {},
   "outputs": [
    {
     "data": {
      "text/latex": [
       "$$ \\begin{equation}\n",
       "\\left[\n",
       "\\begin{array}{c}\n",
       " - \\left( 1 - r \\right) v \\frac{k_{m} s}{K_{m} + s} \\\\\n",
       "\\frac{k_{m} \\left( 1 - r \\right) s}{K_{m} + s} + \\frac{ - k_{r} p \\left( 1 + p \\right) r}{K_{r} + p} \\\\\n",
       " - r^{2} \\frac{k_{r} p}{K_{r} + p} \\\\\n",
       "\\frac{k_{r} p r v}{K_{r} + p} \\\\\n",
       "\\end{array}\n",
       "\\right]\n",
       "\\end{equation}\n",
       " $$"
      ],
      "text/plain": [
       "4-element Vector{Num}:\n",
       "                             -(1 - r)*v*((k_m*s) / (K_m + s))\n",
       " (k_m*(1 - r)*s) / (K_m + s) + (-k_r*p*(1 + p)*r) / (K_r + p)\n",
       "                                 -(r^2)*((k_r*p) / (K_r + p))\n",
       "                                      (k_r*p*r*v) / (K_r + p)"
      ]
     },
     "metadata": {},
     "output_type": "display_data"
    },
    {
     "data": {
      "text/latex": [
       "$$ \\begin{equation}\n",
       "\\left[\n",
       "\\begin{array}{c}\n",
       "0 \\\\\n",
       "0 \\\\\n",
       "\\frac{k_{r} p r}{K_{r} + p} \\\\\n",
       "0 \\\\\n",
       "\\end{array}\n",
       "\\right]\n",
       "\\end{equation}\n",
       " $$"
      ],
      "text/plain": [
       "4-element Vector{Num}:\n",
       "                     0\n",
       "                     0\n",
       " (k_r*p*r) / (K_r + p)\n",
       "                     0"
      ]
     },
     "metadata": {},
     "output_type": "display_data"
    }
   ],
   "source": [
    "using Symbolics\n",
    "\n",
    "@variables s, p, r, v, k_r, k_m, K_r, K_m\n",
    "\n",
    "w_r = k_r * p / (K_r + p)\n",
    "w_m = k_m * s / (K_m + s)\n",
    "\n",
    "F0 = [-(k_m * s / (K_m + s)) * (1-r)*v, (k_m * s / (K_m + s))*(1-r) - (k_r * p / (K_r + p)) *r * (p+1), -(k_r * p / (K_r + p))*r^2, (k_r * p / (K_r + p))*r*v]\n",
    "F1 = [0, 0, (k_r * p / (K_r + p))*r, 0]\n",
    "\n",
    "display(F0)\n",
    "display(F1)"
   ]
  },
  {
   "cell_type": "code",
   "execution_count": 2,
   "metadata": {},
   "outputs": [
    {
     "data": {
      "text/latex": [
       "$$ \\begin{equation}\n",
       "\\left[\n",
       "\\begin{array}{c}\n",
       " - \\frac{k_{m} k_{r} p r s v}{\\left( K_{m} + s \\right) \\left( K_{r} + p \\right)} \\\\\n",
       " - \\frac{k_{r} p r \\left( \\frac{ - k_{m} s}{K_{m} + s} + \\frac{ - k_{r} p \\left( 1 + p \\right)}{K_{r} + p} \\right)}{K_{r} + p} \\\\\n",
       "\\frac{ - r^{2} k_{r} p \\frac{k_{r} p}{K_{r} + p}}{K_{r} + p} + \\frac{2 r^{2} p^{2} k_{r}^{2}}{\\left( K_{r} + p \\right)^{2}} + \\left( \\frac{k_{r} r}{K_{r} + p} + \\frac{ - k_{r} p r}{\\left( K_{r} + p \\right)^{2}} \\right) \\left( \\frac{k_{m} \\left( 1 - r \\right) s}{K_{m} + s} + \\frac{ - k_{r} p \\left( 1 + p \\right) r}{K_{r} + p} \\right) \\\\\n",
       " - \\frac{p^{2} k_{r}^{2} r v}{\\left( K_{r} + p \\right)^{2}} \\\\\n",
       "\\end{array}\n",
       "\\right]\n",
       "\\end{equation}\n",
       " $$"
      ],
      "text/plain": [
       "4-element Vector{Num}:\n",
       "                                                                                                                                                                  -((k_m*k_r*p*r*s*v) / ((K_m + s)*(K_r + p)))\n",
       "                                                                                                                                -((k_r*p*r*((-k_m*s) / (K_m + s) + (-k_r*p*(1 + p)) / (K_r + p))) / (K_r + p))\n",
       " (-k_r*p*(r^2)*((k_r*p) / (K_r + p))) / (K_r + p) + (2(k_r^2)*(p^2)*(r^2)) / ((K_r + p)^2) + ((k_r*r) / (K_r + p) + (-k_r*p*r) / ((K_r + p)^2))*((k_m*(1 - r)*s) / (K_m + s) + (-k_r*p*(1 + p)*r) / (K_r + p))\n",
       "                                                                                                                                                                        -(((k_r^2)*(p^2)*r*v) / ((K_r + p)^2))"
      ]
     },
     "metadata": {},
     "output_type": "display_data"
    }
   ],
   "source": [
    "# Calcul du crochet de Lie de F0 et F1\n",
    "\n",
    "F0_prime = Symbolics.jacobian(F0, [s, p, r, v])\n",
    "F1_prime = Symbolics.jacobian(F1, [s, p, r, v])\n",
    "\n",
    "F01 = F1_prime * F0 - F0_prime * F1\n",
    "\n",
    "display(F01)"
   ]
  },
  {
   "cell_type": "code",
   "execution_count": 3,
   "metadata": {},
   "outputs": [
    {
     "data": {
      "text/latex": [
       "$$ \\begin{equation}\n",
       "\\left[\n",
       "\\begin{array}{c}\n",
       "\\frac{ - p^{2} k_{r}^{2} k_{m} r s v}{\\left( K_{r} + p \\right)^{2} \\left( K_{m} + s \\right)} \\\\\n",
       "\\frac{ - p^{2} k_{r}^{2} r \\left( \\frac{ - k_{m} s}{K_{m} + s} + \\frac{ - k_{r} p \\left( 1 + p \\right)}{K_{r} + p} \\right)}{\\left( K_{r} + p \\right)^{2}} \\\\\n",
       "\\frac{ - k_{r} p \\left( \\frac{ - r^{2} k_{r} p \\frac{k_{r} p}{K_{r} + p}}{K_{r} + p} + \\frac{2 r^{2} p^{2} k_{r}^{2}}{\\left( K_{r} + p \\right)^{2}} + \\left( \\frac{k_{r} r}{K_{r} + p} + \\frac{ - k_{r} p r}{\\left( K_{r} + p \\right)^{2}} \\right) \\left( \\frac{k_{m} \\left( 1 - r \\right) s}{K_{m} + s} + \\frac{ - k_{r} p \\left( 1 + p \\right) r}{K_{r} + p} \\right) \\right)}{K_{r} + p} + \\frac{k_{r} p r \\left( \\frac{ - 2 p^{2} k_{r}^{2} r}{\\left( K_{r} + p \\right)^{2}} + \\frac{4 p^{2} k_{r}^{2} r}{\\left( K_{r} + p \\right)^{2}} + \\left( \\frac{ - k_{m} s}{K_{m} + s} + \\frac{ - k_{r} p \\left( 1 + p \\right)}{K_{r} + p} \\right) \\left( \\frac{k_{r} r}{K_{r} + p} + \\frac{ - k_{r} p r}{\\left( K_{r} + p \\right)^{2}} \\right) + \\left( \\frac{k_{m} \\left( 1 - r \\right) s}{K_{m} + s} + \\frac{ - k_{r} p \\left( 1 + p \\right) r}{K_{r} + p} \\right) \\left( \\frac{ - k_{r} p}{\\left( K_{r} + p \\right)^{2}} + \\frac{k_{r}}{K_{r} + p} \\right) \\right)}{K_{r} + p} + \\left( \\frac{k_{r} r}{K_{r} + p} + \\frac{ - k_{r} p r}{\\left( K_{r} + p \\right)^{2}} \\right) \\frac{k_{r} p r \\left( \\frac{ - k_{m} s}{K_{m} + s} + \\frac{ - k_{r} p \\left( 1 + p \\right)}{K_{r} + p} \\right)}{K_{r} + p} \\\\\n",
       "\\frac{ - p^{3} k_{r}^{3} r v}{\\left( K_{r} + p \\right)^{3}} \\\\\n",
       "\\end{array}\n",
       "\\right]\n",
       "\\end{equation}\n",
       " $$"
      ],
      "text/plain": [
       "4-element Vector{Num}:\n",
       "                                                                                                                                                                                                                                                                                                                                                                                                                                                                                                                                                                                                                                              (-k_m*(k_r^2)*(p^2)*r*s*v) / ((K_m + s)*((K_r + p)^2))\n",
       "                                                                                                                                                                                                                                                                                                                                                                                                                                                                                                                                                                                                            (-(k_r^2)*(p^2)*r*((-k_m*s) / (K_m + s) + (-k_r*p*(1 + p)) / (K_r + p))) / ((K_r + p)^2)\n",
       " (-k_r*p*((-k_r*p*(r^2)*((k_r*p) / (K_r + p))) / (K_r + p) + (2(k_r^2)*(p^2)*(r^2)) / ((K_r + p)^2) + ((k_r*r) / (K_r + p) + (-k_r*p*r) / ((K_r + p)^2))*((k_m*(1 - r)*s) / (K_m + s) + (-k_r*p*(1 + p)*r) / (K_r + p)))) / (K_r + p) + (k_r*p*r*((-2(k_r^2)*(p^2)*r) / ((K_r + p)^2) + (4(k_r^2)*(p^2)*r) / ((K_r + p)^2) + ((-k_m*s) / (K_m + s) + (-k_r*p*(1 + p)) / (K_r + p))*((k_r*r) / (K_r + p) + (-k_r*p*r) / ((K_r + p)^2)) + ((k_m*(1 - r)*s) / (K_m + s) + (-k_r*p*(1 + p)*r) / (K_r + p))*((-k_r*p) / ((K_r + p)^2) + k_r / (K_r + p)))) / (K_r + p) + ((k_r*r) / (K_r + p) + (-k_r*p*r) / ((K_r + p)^2))*((k_r*p*r*((-k_m*s) / (K_m + s) + (-k_r*p*(1 + p)) / (K_r + p))) / (K_r + p))\n",
       "                                                                                                                                                                                                                                                                                                                                                                                                                                                                                                                                                                                                                                                                (-(k_r^3)*(p^3)*r*v) / ((K_r + p)^3)"
      ]
     },
     "metadata": {},
     "output_type": "display_data"
    }
   ],
   "source": [
    "# Calcul du crochet de Lie de F1 et F01\n",
    "\n",
    "F01_prime = Symbolics.jacobian(F01, [s, p, r, v])\n",
    "\n",
    "F101 = F01_prime * F1 - F1_prime * F01\n",
    "\n",
    "display(F101)"
   ]
  },
  {
   "cell_type": "code",
   "execution_count": 4,
   "metadata": {},
   "outputs": [
    {
     "data": {
      "text/latex": [
       "$$ \\begin{equation}\n",
       "\\left[\n",
       "\\begin{array}{cc}\n",
       "0 &  - \\frac{k_{m} k_{r} p r s v}{\\left( K_{m} + s \\right) \\left( K_{r} + p \\right)} \\\\\n",
       "0 &  - \\frac{k_{r} p r \\left( \\frac{ - k_{m} s}{K_{m} + s} + \\frac{ - k_{r} p \\left( 1 + p \\right)}{K_{r} + p} \\right)}{K_{r} + p} \\\\\n",
       "\\frac{k_{r} p r}{K_{r} + p} & \\frac{ - r^{2} k_{r} p \\frac{k_{r} p}{K_{r} + p}}{K_{r} + p} + \\frac{2 r^{2} p^{2} k_{r}^{2}}{\\left( K_{r} + p \\right)^{2}} + \\left( \\frac{k_{r} r}{K_{r} + p} + \\frac{ - k_{r} p r}{\\left( K_{r} + p \\right)^{2}} \\right) \\left( \\frac{k_{m} \\left( 1 - r \\right) s}{K_{m} + s} + \\frac{ - k_{r} p \\left( 1 + p \\right) r}{K_{r} + p} \\right) \\\\\n",
       "0 &  - \\frac{p^{2} k_{r}^{2} r v}{\\left( K_{r} + p \\right)^{2}} \\\\\n",
       "\\end{array}\n",
       "\\right]\n",
       "\\end{equation}\n",
       " $$"
      ],
      "text/plain": [
       "4×2 Matrix{Num}:\n",
       "                     0  …                                                                                                                                                                   -((k_m*k_r*p*r*s*v) / ((K_m + s)*(K_r + p)))\n",
       "                     0                                                                                                                                    -((k_r*p*r*((-k_m*s) / (K_m + s) + (-k_r*p*(1 + p)) / (K_r + p))) / (K_r + p))\n",
       " (k_r*p*r) / (K_r + p)     (-k_r*p*(r^2)*((k_r*p) / (K_r + p))) / (K_r + p) + (2(k_r^2)*(p^2)*(r^2)) / ((K_r + p)^2) + ((k_r*r) / (K_r + p) + (-k_r*p*r) / ((K_r + p)^2))*((k_m*(1 - r)*s) / (K_m + s) + (-k_r*p*(1 + p)*r) / (K_r + p))\n",
       "                     0                                                                                                                                                                            -(((k_r^2)*(p^2)*r*v) / ((K_r + p)^2))"
      ]
     },
     "metadata": {},
     "output_type": "display_data"
    }
   ],
   "source": [
    "# Calcul du rang de la matrice F1 et F01 :\n",
    "mat_F1_F01 = [F1 F01]\n",
    "\n",
    "display(mat_F1_F01)"
   ]
  },
  {
   "cell_type": "code",
   "execution_count": 5,
   "metadata": {},
   "outputs": [
    {
     "data": {
      "text/latex": [
       "$$ \\begin{equation}\n",
       "\\left[\n",
       "\\begin{array}{cc}\n",
       "0 &  - \\frac{k_{m} k_{r} p r s v}{\\left( K_{m} + s \\right) \\left( K_{r} + p \\right)} \\\\\n",
       "0 &  - \\frac{k_{r} p r \\left( \\frac{ - k_{m} s}{K_{m} + s} + \\frac{ - k_{r} p \\left( 1 + p \\right)}{K_{r} + p} \\right)}{K_{r} + p} \\\\\n",
       "\\end{array}\n",
       "\\right]\n",
       "\\end{equation}\n",
       " $$"
      ],
      "text/plain": [
       "2×2 Matrix{Num}:\n",
       " 0  …                                    -((k_m*k_r*p*r*s*v) / ((K_m + s)*(K_r + p)))\n",
       " 0     -((k_r*p*r*((-k_m*s) / (K_m + s) + (-k_r*p*(1 + p)) / (K_r + p))) / (K_r + p))"
      ]
     },
     "metadata": {},
     "output_type": "display_data"
    },
    {
     "data": {
      "text/latex": [
       "$$ \\begin{equation}\n",
       "\\left[\n",
       "\\begin{array}{cc}\n",
       "0 &  - \\frac{k_{m} k_{r} p r s v}{\\left( K_{m} + s \\right) \\left( K_{r} + p \\right)} \\\\\n",
       "\\frac{k_{r} p r}{K_{r} + p} & \\frac{ - r^{2} k_{r} p \\frac{k_{r} p}{K_{r} + p}}{K_{r} + p} + \\frac{2 r^{2} p^{2} k_{r}^{2}}{\\left( K_{r} + p \\right)^{2}} + \\left( \\frac{k_{r} r}{K_{r} + p} + \\frac{ - k_{r} p r}{\\left( K_{r} + p \\right)^{2}} \\right) \\left( \\frac{k_{m} \\left( 1 - r \\right) s}{K_{m} + s} + \\frac{ - k_{r} p \\left( 1 + p \\right) r}{K_{r} + p} \\right) \\\\\n",
       "\\end{array}\n",
       "\\right]\n",
       "\\end{equation}\n",
       " $$"
      ],
      "text/plain": [
       "2×2 Matrix{Num}:\n",
       "                     0  …                                                                                                                                                                   -((k_m*k_r*p*r*s*v) / ((K_m + s)*(K_r + p)))\n",
       " (k_r*p*r) / (K_r + p)     (-k_r*p*(r^2)*((k_r*p) / (K_r + p))) / (K_r + p) + (2(k_r^2)*(p^2)*(r^2)) / ((K_r + p)^2) + ((k_r*r) / (K_r + p) + (-k_r*p*r) / ((K_r + p)^2))*((k_m*(1 - r)*s) / (K_m + s) + (-k_r*p*(1 + p)*r) / (K_r + p))"
      ]
     },
     "metadata": {},
     "output_type": "display_data"
    },
    {
     "data": {
      "text/latex": [
       "$$ \\begin{equation}\n",
       "\\left[\n",
       "\\begin{array}{cc}\n",
       "0 &  - \\frac{k_{m} k_{r} p r s v}{\\left( K_{m} + s \\right) \\left( K_{r} + p \\right)} \\\\\n",
       "0 &  - \\frac{p^{2} k_{r}^{2} r v}{\\left( K_{r} + p \\right)^{2}} \\\\\n",
       "\\end{array}\n",
       "\\right]\n",
       "\\end{equation}\n",
       " $$"
      ],
      "text/plain": [
       "2×2 Matrix{Num}:\n",
       " 0  -((k_m*k_r*p*r*s*v) / ((K_m + s)*(K_r + p)))\n",
       " 0        -(((k_r^2)*(p^2)*r*v) / ((K_r + p)^2))"
      ]
     },
     "metadata": {},
     "output_type": "display_data"
    },
    {
     "data": {
      "text/latex": [
       "$$ \\begin{equation}\n",
       "\\left[\n",
       "\\begin{array}{cc}\n",
       "0 &  - \\frac{k_{r} p r \\left( \\frac{ - k_{m} s}{K_{m} + s} + \\frac{ - k_{r} p \\left( 1 + p \\right)}{K_{r} + p} \\right)}{K_{r} + p} \\\\\n",
       "\\frac{k_{r} p r}{K_{r} + p} & \\frac{ - r^{2} k_{r} p \\frac{k_{r} p}{K_{r} + p}}{K_{r} + p} + \\frac{2 r^{2} p^{2} k_{r}^{2}}{\\left( K_{r} + p \\right)^{2}} + \\left( \\frac{k_{r} r}{K_{r} + p} + \\frac{ - k_{r} p r}{\\left( K_{r} + p \\right)^{2}} \\right) \\left( \\frac{k_{m} \\left( 1 - r \\right) s}{K_{m} + s} + \\frac{ - k_{r} p \\left( 1 + p \\right) r}{K_{r} + p} \\right) \\\\\n",
       "\\end{array}\n",
       "\\right]\n",
       "\\end{equation}\n",
       " $$"
      ],
      "text/plain": [
       "2×2 Matrix{Num}:\n",
       "                     0  …                                                                                                                                 -((k_r*p*r*((-k_m*s) / (K_m + s) + (-k_r*p*(1 + p)) / (K_r + p))) / (K_r + p))\n",
       " (k_r*p*r) / (K_r + p)     (-k_r*p*(r^2)*((k_r*p) / (K_r + p))) / (K_r + p) + (2(k_r^2)*(p^2)*(r^2)) / ((K_r + p)^2) + ((k_r*r) / (K_r + p) + (-k_r*p*r) / ((K_r + p)^2))*((k_m*(1 - r)*s) / (K_m + s) + (-k_r*p*(1 + p)*r) / (K_r + p))"
      ]
     },
     "metadata": {},
     "output_type": "display_data"
    },
    {
     "data": {
      "text/latex": [
       "$$ \\begin{equation}\n",
       "\\left[\n",
       "\\begin{array}{cc}\n",
       "0 &  - \\frac{k_{r} p r \\left( \\frac{ - k_{m} s}{K_{m} + s} + \\frac{ - k_{r} p \\left( 1 + p \\right)}{K_{r} + p} \\right)}{K_{r} + p} \\\\\n",
       "0 &  - \\frac{p^{2} k_{r}^{2} r v}{\\left( K_{r} + p \\right)^{2}} \\\\\n",
       "\\end{array}\n",
       "\\right]\n",
       "\\end{equation}\n",
       " $$"
      ],
      "text/plain": [
       "2×2 Matrix{Num}:\n",
       " 0  …  -((k_r*p*r*((-k_m*s) / (K_m + s) + (-k_r*p*(1 + p)) / (K_r + p))) / (K_r + p))\n",
       " 0                                             -(((k_r^2)*(p^2)*r*v) / ((K_r + p)^2))"
      ]
     },
     "metadata": {},
     "output_type": "display_data"
    },
    {
     "data": {
      "text/latex": [
       "$$ \\begin{equation}\n",
       "\\left[\n",
       "\\begin{array}{cc}\n",
       "\\frac{k_{r} p r}{K_{r} + p} & \\frac{ - r^{2} k_{r} p \\frac{k_{r} p}{K_{r} + p}}{K_{r} + p} + \\frac{2 r^{2} p^{2} k_{r}^{2}}{\\left( K_{r} + p \\right)^{2}} + \\left( \\frac{k_{r} r}{K_{r} + p} + \\frac{ - k_{r} p r}{\\left( K_{r} + p \\right)^{2}} \\right) \\left( \\frac{k_{m} \\left( 1 - r \\right) s}{K_{m} + s} + \\frac{ - k_{r} p \\left( 1 + p \\right) r}{K_{r} + p} \\right) \\\\\n",
       "0 &  - \\frac{p^{2} k_{r}^{2} r v}{\\left( K_{r} + p \\right)^{2}} \\\\\n",
       "\\end{array}\n",
       "\\right]\n",
       "\\end{equation}\n",
       " $$"
      ],
      "text/plain": [
       "2×2 Matrix{Num}:\n",
       " (k_r*p*r) / (K_r + p)  …  (-k_r*p*(r^2)*((k_r*p) / (K_r + p))) / (K_r + p) + (2(k_r^2)*(p^2)*(r^2)) / ((K_r + p)^2) + ((k_r*r) / (K_r + p) + (-k_r*p*r) / ((K_r + p)^2))*((k_m*(1 - r)*s) / (K_m + s) + (-k_r*p*(1 + p)*r) / (K_r + p))\n",
       "                     0                                                                                                                                                                            -(((k_r^2)*(p^2)*r*v) / ((K_r + p)^2))"
      ]
     },
     "metadata": {},
     "output_type": "display_data"
    }
   ],
   "source": [
    "# Sous matrice de mat_F1_F01\n",
    "sousDet1_F1_F01 = [mat_F1_F01[1] mat_F1_F01[5] ; mat_F1_F01[2] mat_F1_F01[6]]\n",
    "\n",
    "sousDet2_F1_F01 = [mat_F1_F01[1] mat_F1_F01[5] ; mat_F1_F01[3] mat_F1_F01[7]]\n",
    "\n",
    "sousDet3_F1_F01 = [mat_F1_F01[1] mat_F1_F01[5] ; mat_F1_F01[4] mat_F1_F01[8]]\n",
    "\n",
    "sousDet4_F1_F01 = [mat_F1_F01[2] mat_F1_F01[6] ; mat_F1_F01[3] mat_F1_F01[7]]\n",
    "\n",
    "sousDet5_F1_F01 = [mat_F1_F01[2] mat_F1_F01[6] ; mat_F1_F01[4] mat_F1_F01[8]]\n",
    "\n",
    "sousDet6_F1_F01 = [mat_F1_F01[3] mat_F1_F01[7] ; mat_F1_F01[4] mat_F1_F01[8]]\n",
    "\n",
    "display(sousDet1_F1_F01)\n",
    "display(sousDet2_F1_F01)\n",
    "display(sousDet3_F1_F01)\n",
    "display(sousDet4_F1_F01)\n",
    "display(sousDet5_F1_F01)\n",
    "display(sousDet6_F1_F01)\n"
   ]
  },
  {
   "cell_type": "code",
   "execution_count": 6,
   "metadata": {},
   "outputs": [
    {
     "ename": "UndefVarError",
     "evalue": "UndefVarError: `mineur1` not defined",
     "output_type": "error",
     "traceback": [
      "UndefVarError: `mineur1` not defined\n",
      "\n",
      "Stacktrace:\n",
      " [1] top-level scope\n",
      "   @ ~/Desktop/TRUC/PROJET/testRang.ipynb:8"
     ]
    }
   ],
   "source": [
    "mineur1_F1_F01 = Symbolics.det(sousDet1_F1_F01)\n",
    "mineur2_F1_F01 = Symbolics.det(sousDet2_F1_F01)\n",
    "mineur3_F1_F01 = Symbolics.det(sousDet3_F1_F01)\n",
    "mineur4_F1_F01 = Symbolics.det(sousDet4_F1_F01)\n",
    "mineur5_F1_F01 = Symbolics.det(sousDet5_F1_F01)\n",
    "mineur6_F1_F01 = Symbolics.det(sousDet6_F1_F01)\n",
    "\n",
    "display(mineur1)\n",
    "display(mineur2)\n",
    "display(mineur3)\n",
    "display(mineur4)\n",
    "display(mineur5)\n",
    "display(mineur6)"
   ]
  },
  {
   "cell_type": "markdown",
   "metadata": {},
   "source": [
    "Etant donné que le déterminant de sousDet2_F1_F01 est non nul (non nul car toutes les variables sont positifs), le rang de mat_F1_F01 vaut 2 (car sousDet2_F1_F01 matrice carrée de taille n = 2)"
   ]
  },
  {
   "cell_type": "code",
   "execution_count": 7,
   "metadata": {},
   "outputs": [
    {
     "data": {
      "text/latex": [
       "$$ \\begin{equation}\n",
       "\\left[\n",
       "\\begin{array}{ccc}\n",
       "0 &  - \\frac{k_{m} k_{r} p r s v}{\\left( K_{m} + s \\right) \\left( K_{r} + p \\right)} & \\frac{ - p^{2} k_{r}^{2} k_{m} r s v}{\\left( K_{r} + p \\right)^{2} \\left( K_{m} + s \\right)} \\\\\n",
       "0 &  - \\frac{k_{r} p r \\left( \\frac{ - k_{m} s}{K_{m} + s} + \\frac{ - k_{r} p \\left( 1 + p \\right)}{K_{r} + p} \\right)}{K_{r} + p} & \\frac{ - p^{2} k_{r}^{2} r \\left( \\frac{ - k_{m} s}{K_{m} + s} + \\frac{ - k_{r} p \\left( 1 + p \\right)}{K_{r} + p} \\right)}{\\left( K_{r} + p \\right)^{2}} \\\\\n",
       "\\frac{k_{r} p r}{K_{r} + p} & \\frac{ - r^{2} k_{r} p \\frac{k_{r} p}{K_{r} + p}}{K_{r} + p} + \\frac{2 r^{2} p^{2} k_{r}^{2}}{\\left( K_{r} + p \\right)^{2}} + \\left( \\frac{k_{r} r}{K_{r} + p} + \\frac{ - k_{r} p r}{\\left( K_{r} + p \\right)^{2}} \\right) \\left( \\frac{k_{m} \\left( 1 - r \\right) s}{K_{m} + s} + \\frac{ - k_{r} p \\left( 1 + p \\right) r}{K_{r} + p} \\right) & \\frac{ - k_{r} p \\left( \\frac{ - r^{2} k_{r} p \\frac{k_{r} p}{K_{r} + p}}{K_{r} + p} + \\frac{2 r^{2} p^{2} k_{r}^{2}}{\\left( K_{r} + p \\right)^{2}} + \\left( \\frac{k_{r} r}{K_{r} + p} + \\frac{ - k_{r} p r}{\\left( K_{r} + p \\right)^{2}} \\right) \\left( \\frac{k_{m} \\left( 1 - r \\right) s}{K_{m} + s} + \\frac{ - k_{r} p \\left( 1 + p \\right) r}{K_{r} + p} \\right) \\right)}{K_{r} + p} + \\frac{k_{r} p r \\left( \\frac{ - 2 p^{2} k_{r}^{2} r}{\\left( K_{r} + p \\right)^{2}} + \\frac{4 p^{2} k_{r}^{2} r}{\\left( K_{r} + p \\right)^{2}} + \\left( \\frac{ - k_{m} s}{K_{m} + s} + \\frac{ - k_{r} p \\left( 1 + p \\right)}{K_{r} + p} \\right) \\left( \\frac{k_{r} r}{K_{r} + p} + \\frac{ - k_{r} p r}{\\left( K_{r} + p \\right)^{2}} \\right) + \\left( \\frac{k_{m} \\left( 1 - r \\right) s}{K_{m} + s} + \\frac{ - k_{r} p \\left( 1 + p \\right) r}{K_{r} + p} \\right) \\left( \\frac{ - k_{r} p}{\\left( K_{r} + p \\right)^{2}} + \\frac{k_{r}}{K_{r} + p} \\right) \\right)}{K_{r} + p} + \\left( \\frac{k_{r} r}{K_{r} + p} + \\frac{ - k_{r} p r}{\\left( K_{r} + p \\right)^{2}} \\right) \\frac{k_{r} p r \\left( \\frac{ - k_{m} s}{K_{m} + s} + \\frac{ - k_{r} p \\left( 1 + p \\right)}{K_{r} + p} \\right)}{K_{r} + p} \\\\\n",
       "0 &  - \\frac{p^{2} k_{r}^{2} r v}{\\left( K_{r} + p \\right)^{2}} & \\frac{ - p^{3} k_{r}^{3} r v}{\\left( K_{r} + p \\right)^{3}} \\\\\n",
       "\\end{array}\n",
       "\\right]\n",
       "\\end{equation}\n",
       " $$"
      ],
      "text/plain": [
       "4×3 Matrix{Num}:\n",
       "                     0  …                                                                                                                                                                                                                                                                                                                                                                                                                                                                                                                                                                                                                                               (-k_m*(k_r^2)*(p^2)*r*s*v) / ((K_m + s)*((K_r + p)^2))\n",
       "                     0                                                                                                                                                                                                                                                                                                                                                                                                                                                                                                                                                                                                                (-(k_r^2)*(p^2)*r*((-k_m*s) / (K_m + s) + (-k_r*p*(1 + p)) / (K_r + p))) / ((K_r + p)^2)\n",
       " (k_r*p*r) / (K_r + p)     (-k_r*p*((-k_r*p*(r^2)*((k_r*p) / (K_r + p))) / (K_r + p) + (2(k_r^2)*(p^2)*(r^2)) / ((K_r + p)^2) + ((k_r*r) / (K_r + p) + (-k_r*p*r) / ((K_r + p)^2))*((k_m*(1 - r)*s) / (K_m + s) + (-k_r*p*(1 + p)*r) / (K_r + p)))) / (K_r + p) + (k_r*p*r*((-2(k_r^2)*(p^2)*r) / ((K_r + p)^2) + (4(k_r^2)*(p^2)*r) / ((K_r + p)^2) + ((-k_m*s) / (K_m + s) + (-k_r*p*(1 + p)) / (K_r + p))*((k_r*r) / (K_r + p) + (-k_r*p*r) / ((K_r + p)^2)) + ((k_m*(1 - r)*s) / (K_m + s) + (-k_r*p*(1 + p)*r) / (K_r + p))*((-k_r*p) / ((K_r + p)^2) + k_r / (K_r + p)))) / (K_r + p) + ((k_r*r) / (K_r + p) + (-k_r*p*r) / ((K_r + p)^2))*((k_r*p*r*((-k_m*s) / (K_m + s) + (-k_r*p*(1 + p)) / (K_r + p))) / (K_r + p))\n",
       "                     0                                                                                                                                                                                                                                                                                                                                                                                                                                                                                                                                                                                                                                                                    (-(k_r^3)*(p^3)*r*v) / ((K_r + p)^3)"
      ]
     },
     "metadata": {},
     "output_type": "display_data"
    }
   ],
   "source": [
    "# Calcul du rang de la matrice F1 F01 et F101\n",
    "mat_F1_F01_F101 = [F1 F01 F101]\n",
    "\n",
    "display(mat_F1_F01_F101)"
   ]
  },
  {
   "cell_type": "code",
   "execution_count": 8,
   "metadata": {},
   "outputs": [
    {
     "data": {
      "text/latex": [
       "$$ \\begin{equation}\n",
       "\\left[\n",
       "\\begin{array}{ccc}\n",
       "0 &  - \\frac{k_{m} k_{r} p r s v}{\\left( K_{m} + s \\right) \\left( K_{r} + p \\right)} & \\frac{ - p^{2} k_{r}^{2} k_{m} r s v}{\\left( K_{r} + p \\right)^{2} \\left( K_{m} + s \\right)} \\\\\n",
       "0 &  - \\frac{k_{r} p r \\left( \\frac{ - k_{m} s}{K_{m} + s} + \\frac{ - k_{r} p \\left( 1 + p \\right)}{K_{r} + p} \\right)}{K_{r} + p} & \\frac{ - p^{2} k_{r}^{2} r \\left( \\frac{ - k_{m} s}{K_{m} + s} + \\frac{ - k_{r} p \\left( 1 + p \\right)}{K_{r} + p} \\right)}{\\left( K_{r} + p \\right)^{2}} \\\\\n",
       "\\frac{k_{r} p r}{K_{r} + p} & \\frac{ - r^{2} k_{r} p \\frac{k_{r} p}{K_{r} + p}}{K_{r} + p} + \\frac{2 r^{2} p^{2} k_{r}^{2}}{\\left( K_{r} + p \\right)^{2}} + \\left( \\frac{k_{r} r}{K_{r} + p} + \\frac{ - k_{r} p r}{\\left( K_{r} + p \\right)^{2}} \\right) \\left( \\frac{k_{m} \\left( 1 - r \\right) s}{K_{m} + s} + \\frac{ - k_{r} p \\left( 1 + p \\right) r}{K_{r} + p} \\right) & \\frac{ - k_{r} p \\left( \\frac{ - r^{2} k_{r} p \\frac{k_{r} p}{K_{r} + p}}{K_{r} + p} + \\frac{2 r^{2} p^{2} k_{r}^{2}}{\\left( K_{r} + p \\right)^{2}} + \\left( \\frac{k_{r} r}{K_{r} + p} + \\frac{ - k_{r} p r}{\\left( K_{r} + p \\right)^{2}} \\right) \\left( \\frac{k_{m} \\left( 1 - r \\right) s}{K_{m} + s} + \\frac{ - k_{r} p \\left( 1 + p \\right) r}{K_{r} + p} \\right) \\right)}{K_{r} + p} + \\frac{k_{r} p r \\left( \\frac{ - 2 p^{2} k_{r}^{2} r}{\\left( K_{r} + p \\right)^{2}} + \\frac{4 p^{2} k_{r}^{2} r}{\\left( K_{r} + p \\right)^{2}} + \\left( \\frac{ - k_{m} s}{K_{m} + s} + \\frac{ - k_{r} p \\left( 1 + p \\right)}{K_{r} + p} \\right) \\left( \\frac{k_{r} r}{K_{r} + p} + \\frac{ - k_{r} p r}{\\left( K_{r} + p \\right)^{2}} \\right) + \\left( \\frac{k_{m} \\left( 1 - r \\right) s}{K_{m} + s} + \\frac{ - k_{r} p \\left( 1 + p \\right) r}{K_{r} + p} \\right) \\left( \\frac{ - k_{r} p}{\\left( K_{r} + p \\right)^{2}} + \\frac{k_{r}}{K_{r} + p} \\right) \\right)}{K_{r} + p} + \\left( \\frac{k_{r} r}{K_{r} + p} + \\frac{ - k_{r} p r}{\\left( K_{r} + p \\right)^{2}} \\right) \\frac{k_{r} p r \\left( \\frac{ - k_{m} s}{K_{m} + s} + \\frac{ - k_{r} p \\left( 1 + p \\right)}{K_{r} + p} \\right)}{K_{r} + p} \\\\\n",
       "\\end{array}\n",
       "\\right]\n",
       "\\end{equation}\n",
       " $$"
      ],
      "text/plain": [
       "3×3 Matrix{Num}:\n",
       "                     0  …                                                                                                                                                                                                                                                                                                                                                                                                                                                                                                                                                                                                                                               (-k_m*(k_r^2)*(p^2)*r*s*v) / ((K_m + s)*((K_r + p)^2))\n",
       "                     0                                                                                                                                                                                                                                                                                                                                                                                                                                                                                                                                                                                                                (-(k_r^2)*(p^2)*r*((-k_m*s) / (K_m + s) + (-k_r*p*(1 + p)) / (K_r + p))) / ((K_r + p)^2)\n",
       " (k_r*p*r) / (K_r + p)     (-k_r*p*((-k_r*p*(r^2)*((k_r*p) / (K_r + p))) / (K_r + p) + (2(k_r^2)*(p^2)*(r^2)) / ((K_r + p)^2) + ((k_r*r) / (K_r + p) + (-k_r*p*r) / ((K_r + p)^2))*((k_m*(1 - r)*s) / (K_m + s) + (-k_r*p*(1 + p)*r) / (K_r + p)))) / (K_r + p) + (k_r*p*r*((-2(k_r^2)*(p^2)*r) / ((K_r + p)^2) + (4(k_r^2)*(p^2)*r) / ((K_r + p)^2) + ((-k_m*s) / (K_m + s) + (-k_r*p*(1 + p)) / (K_r + p))*((k_r*r) / (K_r + p) + (-k_r*p*r) / ((K_r + p)^2)) + ((k_m*(1 - r)*s) / (K_m + s) + (-k_r*p*(1 + p)*r) / (K_r + p))*((-k_r*p) / ((K_r + p)^2) + k_r / (K_r + p)))) / (K_r + p) + ((k_r*r) / (K_r + p) + (-k_r*p*r) / ((K_r + p)^2))*((k_r*p*r*((-k_m*s) / (K_m + s) + (-k_r*p*(1 + p)) / (K_r + p))) / (K_r + p))"
      ]
     },
     "metadata": {},
     "output_type": "display_data"
    },
    {
     "data": {
      "text/latex": [
       "$$ \\begin{equation}\n",
       "\\left[\n",
       "\\begin{array}{ccc}\n",
       "0 &  - \\frac{k_{m} k_{r} p r s v}{\\left( K_{m} + s \\right) \\left( K_{r} + p \\right)} & \\frac{ - p^{2} k_{r}^{2} k_{m} r s v}{\\left( K_{r} + p \\right)^{2} \\left( K_{m} + s \\right)} \\\\\n",
       "0 &  - \\frac{k_{r} p r \\left( \\frac{ - k_{m} s}{K_{m} + s} + \\frac{ - k_{r} p \\left( 1 + p \\right)}{K_{r} + p} \\right)}{K_{r} + p} & \\frac{ - p^{2} k_{r}^{2} r \\left( \\frac{ - k_{m} s}{K_{m} + s} + \\frac{ - k_{r} p \\left( 1 + p \\right)}{K_{r} + p} \\right)}{\\left( K_{r} + p \\right)^{2}} \\\\\n",
       "0 &  - \\frac{p^{2} k_{r}^{2} r v}{\\left( K_{r} + p \\right)^{2}} & \\frac{ - p^{3} k_{r}^{3} r v}{\\left( K_{r} + p \\right)^{3}} \\\\\n",
       "\\end{array}\n",
       "\\right]\n",
       "\\end{equation}\n",
       " $$"
      ],
      "text/plain": [
       "3×3 Matrix{Num}:\n",
       " 0  …                                    (-k_m*(k_r^2)*(p^2)*r*s*v) / ((K_m + s)*((K_r + p)^2))\n",
       " 0     (-(k_r^2)*(p^2)*r*((-k_m*s) / (K_m + s) + (-k_r*p*(1 + p)) / (K_r + p))) / ((K_r + p)^2)\n",
       " 0                                                         (-(k_r^3)*(p^3)*r*v) / ((K_r + p)^3)"
      ]
     },
     "metadata": {},
     "output_type": "display_data"
    },
    {
     "data": {
      "text/latex": [
       "$$ \\begin{equation}\n",
       "\\left[\n",
       "\\begin{array}{ccc}\n",
       "0 &  - \\frac{k_{m} k_{r} p r s v}{\\left( K_{m} + s \\right) \\left( K_{r} + p \\right)} & \\frac{ - p^{2} k_{r}^{2} k_{m} r s v}{\\left( K_{r} + p \\right)^{2} \\left( K_{m} + s \\right)} \\\\\n",
       "\\frac{k_{r} p r}{K_{r} + p} & \\frac{ - r^{2} k_{r} p \\frac{k_{r} p}{K_{r} + p}}{K_{r} + p} + \\frac{2 r^{2} p^{2} k_{r}^{2}}{\\left( K_{r} + p \\right)^{2}} + \\left( \\frac{k_{r} r}{K_{r} + p} + \\frac{ - k_{r} p r}{\\left( K_{r} + p \\right)^{2}} \\right) \\left( \\frac{k_{m} \\left( 1 - r \\right) s}{K_{m} + s} + \\frac{ - k_{r} p \\left( 1 + p \\right) r}{K_{r} + p} \\right) & \\frac{ - k_{r} p \\left( \\frac{ - r^{2} k_{r} p \\frac{k_{r} p}{K_{r} + p}}{K_{r} + p} + \\frac{2 r^{2} p^{2} k_{r}^{2}}{\\left( K_{r} + p \\right)^{2}} + \\left( \\frac{k_{r} r}{K_{r} + p} + \\frac{ - k_{r} p r}{\\left( K_{r} + p \\right)^{2}} \\right) \\left( \\frac{k_{m} \\left( 1 - r \\right) s}{K_{m} + s} + \\frac{ - k_{r} p \\left( 1 + p \\right) r}{K_{r} + p} \\right) \\right)}{K_{r} + p} + \\frac{k_{r} p r \\left( \\frac{ - 2 p^{2} k_{r}^{2} r}{\\left( K_{r} + p \\right)^{2}} + \\frac{4 p^{2} k_{r}^{2} r}{\\left( K_{r} + p \\right)^{2}} + \\left( \\frac{ - k_{m} s}{K_{m} + s} + \\frac{ - k_{r} p \\left( 1 + p \\right)}{K_{r} + p} \\right) \\left( \\frac{k_{r} r}{K_{r} + p} + \\frac{ - k_{r} p r}{\\left( K_{r} + p \\right)^{2}} \\right) + \\left( \\frac{k_{m} \\left( 1 - r \\right) s}{K_{m} + s} + \\frac{ - k_{r} p \\left( 1 + p \\right) r}{K_{r} + p} \\right) \\left( \\frac{ - k_{r} p}{\\left( K_{r} + p \\right)^{2}} + \\frac{k_{r}}{K_{r} + p} \\right) \\right)}{K_{r} + p} + \\left( \\frac{k_{r} r}{K_{r} + p} + \\frac{ - k_{r} p r}{\\left( K_{r} + p \\right)^{2}} \\right) \\frac{k_{r} p r \\left( \\frac{ - k_{m} s}{K_{m} + s} + \\frac{ - k_{r} p \\left( 1 + p \\right)}{K_{r} + p} \\right)}{K_{r} + p} \\\\\n",
       "0 &  - \\frac{p^{2} k_{r}^{2} r v}{\\left( K_{r} + p \\right)^{2}} & \\frac{ - p^{3} k_{r}^{3} r v}{\\left( K_{r} + p \\right)^{3}} \\\\\n",
       "\\end{array}\n",
       "\\right]\n",
       "\\end{equation}\n",
       " $$"
      ],
      "text/plain": [
       "3×3 Matrix{Num}:\n",
       "                     0  …                                                                                                                                                                                                                                                                                                                                                                                                                                                                                                                                                                                                                                               (-k_m*(k_r^2)*(p^2)*r*s*v) / ((K_m + s)*((K_r + p)^2))\n",
       " (k_r*p*r) / (K_r + p)     (-k_r*p*((-k_r*p*(r^2)*((k_r*p) / (K_r + p))) / (K_r + p) + (2(k_r^2)*(p^2)*(r^2)) / ((K_r + p)^2) + ((k_r*r) / (K_r + p) + (-k_r*p*r) / ((K_r + p)^2))*((k_m*(1 - r)*s) / (K_m + s) + (-k_r*p*(1 + p)*r) / (K_r + p)))) / (K_r + p) + (k_r*p*r*((-2(k_r^2)*(p^2)*r) / ((K_r + p)^2) + (4(k_r^2)*(p^2)*r) / ((K_r + p)^2) + ((-k_m*s) / (K_m + s) + (-k_r*p*(1 + p)) / (K_r + p))*((k_r*r) / (K_r + p) + (-k_r*p*r) / ((K_r + p)^2)) + ((k_m*(1 - r)*s) / (K_m + s) + (-k_r*p*(1 + p)*r) / (K_r + p))*((-k_r*p) / ((K_r + p)^2) + k_r / (K_r + p)))) / (K_r + p) + ((k_r*r) / (K_r + p) + (-k_r*p*r) / ((K_r + p)^2))*((k_r*p*r*((-k_m*s) / (K_m + s) + (-k_r*p*(1 + p)) / (K_r + p))) / (K_r + p))\n",
       "                     0                                                                                                                                                                                                                                                                                                                                                                                                                                                                                                                                                                                                                                                                    (-(k_r^3)*(p^3)*r*v) / ((K_r + p)^3)"
      ]
     },
     "metadata": {},
     "output_type": "display_data"
    },
    {
     "data": {
      "text/latex": [
       "$$ \\begin{equation}\n",
       "\\left[\n",
       "\\begin{array}{ccc}\n",
       "0 &  - \\frac{k_{r} p r \\left( \\frac{ - k_{m} s}{K_{m} + s} + \\frac{ - k_{r} p \\left( 1 + p \\right)}{K_{r} + p} \\right)}{K_{r} + p} & \\frac{ - p^{2} k_{r}^{2} r \\left( \\frac{ - k_{m} s}{K_{m} + s} + \\frac{ - k_{r} p \\left( 1 + p \\right)}{K_{r} + p} \\right)}{\\left( K_{r} + p \\right)^{2}} \\\\\n",
       "\\frac{k_{r} p r}{K_{r} + p} & \\frac{ - r^{2} k_{r} p \\frac{k_{r} p}{K_{r} + p}}{K_{r} + p} + \\frac{2 r^{2} p^{2} k_{r}^{2}}{\\left( K_{r} + p \\right)^{2}} + \\left( \\frac{k_{r} r}{K_{r} + p} + \\frac{ - k_{r} p r}{\\left( K_{r} + p \\right)^{2}} \\right) \\left( \\frac{k_{m} \\left( 1 - r \\right) s}{K_{m} + s} + \\frac{ - k_{r} p \\left( 1 + p \\right) r}{K_{r} + p} \\right) & \\frac{ - k_{r} p \\left( \\frac{ - r^{2} k_{r} p \\frac{k_{r} p}{K_{r} + p}}{K_{r} + p} + \\frac{2 r^{2} p^{2} k_{r}^{2}}{\\left( K_{r} + p \\right)^{2}} + \\left( \\frac{k_{r} r}{K_{r} + p} + \\frac{ - k_{r} p r}{\\left( K_{r} + p \\right)^{2}} \\right) \\left( \\frac{k_{m} \\left( 1 - r \\right) s}{K_{m} + s} + \\frac{ - k_{r} p \\left( 1 + p \\right) r}{K_{r} + p} \\right) \\right)}{K_{r} + p} + \\frac{k_{r} p r \\left( \\frac{ - 2 p^{2} k_{r}^{2} r}{\\left( K_{r} + p \\right)^{2}} + \\frac{4 p^{2} k_{r}^{2} r}{\\left( K_{r} + p \\right)^{2}} + \\left( \\frac{ - k_{m} s}{K_{m} + s} + \\frac{ - k_{r} p \\left( 1 + p \\right)}{K_{r} + p} \\right) \\left( \\frac{k_{r} r}{K_{r} + p} + \\frac{ - k_{r} p r}{\\left( K_{r} + p \\right)^{2}} \\right) + \\left( \\frac{k_{m} \\left( 1 - r \\right) s}{K_{m} + s} + \\frac{ - k_{r} p \\left( 1 + p \\right) r}{K_{r} + p} \\right) \\left( \\frac{ - k_{r} p}{\\left( K_{r} + p \\right)^{2}} + \\frac{k_{r}}{K_{r} + p} \\right) \\right)}{K_{r} + p} + \\left( \\frac{k_{r} r}{K_{r} + p} + \\frac{ - k_{r} p r}{\\left( K_{r} + p \\right)^{2}} \\right) \\frac{k_{r} p r \\left( \\frac{ - k_{m} s}{K_{m} + s} + \\frac{ - k_{r} p \\left( 1 + p \\right)}{K_{r} + p} \\right)}{K_{r} + p} \\\\\n",
       "0 &  - \\frac{p^{2} k_{r}^{2} r v}{\\left( K_{r} + p \\right)^{2}} & \\frac{ - p^{3} k_{r}^{3} r v}{\\left( K_{r} + p \\right)^{3}} \\\\\n",
       "\\end{array}\n",
       "\\right]\n",
       "\\end{equation}\n",
       " $$"
      ],
      "text/plain": [
       "3×3 Matrix{Num}:\n",
       "                     0  …                                                                                                                                                                                                                                                                                                                                                                                                                                                                                                                                                                                                             (-(k_r^2)*(p^2)*r*((-k_m*s) / (K_m + s) + (-k_r*p*(1 + p)) / (K_r + p))) / ((K_r + p)^2)\n",
       " (k_r*p*r) / (K_r + p)     (-k_r*p*((-k_r*p*(r^2)*((k_r*p) / (K_r + p))) / (K_r + p) + (2(k_r^2)*(p^2)*(r^2)) / ((K_r + p)^2) + ((k_r*r) / (K_r + p) + (-k_r*p*r) / ((K_r + p)^2))*((k_m*(1 - r)*s) / (K_m + s) + (-k_r*p*(1 + p)*r) / (K_r + p)))) / (K_r + p) + (k_r*p*r*((-2(k_r^2)*(p^2)*r) / ((K_r + p)^2) + (4(k_r^2)*(p^2)*r) / ((K_r + p)^2) + ((-k_m*s) / (K_m + s) + (-k_r*p*(1 + p)) / (K_r + p))*((k_r*r) / (K_r + p) + (-k_r*p*r) / ((K_r + p)^2)) + ((k_m*(1 - r)*s) / (K_m + s) + (-k_r*p*(1 + p)*r) / (K_r + p))*((-k_r*p) / ((K_r + p)^2) + k_r / (K_r + p)))) / (K_r + p) + ((k_r*r) / (K_r + p) + (-k_r*p*r) / ((K_r + p)^2))*((k_r*p*r*((-k_m*s) / (K_m + s) + (-k_r*p*(1 + p)) / (K_r + p))) / (K_r + p))\n",
       "                     0                                                                                                                                                                                                                                                                                                                                                                                                                                                                                                                                                                                                                                                                    (-(k_r^3)*(p^3)*r*v) / ((K_r + p)^3)"
      ]
     },
     "metadata": {},
     "output_type": "display_data"
    }
   ],
   "source": [
    "# Sous matrice de mat2\n",
    "sousDet1_F1_F01_F101 = [mat_F1_F01_F101[1] mat_F1_F01_F101[5] mat_F1_F01_F101[9] ; mat_F1_F01_F101[2] mat_F1_F01_F101[6] mat_F1_F01_F101[10] ; mat_F1_F01_F101[3] mat_F1_F01_F101[7] mat_F1_F01_F101[11]]\n",
    "\n",
    "sousDet2_F1_F01_F101 = [mat_F1_F01_F101[1] mat_F1_F01_F101[5] mat_F1_F01_F101[9] ; mat_F1_F01_F101[2] mat_F1_F01_F101[6] mat_F1_F01_F101[10] ; mat_F1_F01_F101[4] mat_F1_F01_F101[8] mat_F1_F01_F101[12]]\n",
    "\n",
    "sousDet3_F1_F01_F101 = [mat_F1_F01_F101[1] mat_F1_F01_F101[5] mat_F1_F01_F101[9] ; mat_F1_F01_F101[3] mat_F1_F01_F101[7] mat_F1_F01_F101[11] ; mat_F1_F01_F101[4] mat_F1_F01_F101[8] mat_F1_F01_F101[12]]\n",
    "\n",
    "sousDet4_F1_F01_F101 = [mat_F1_F01_F101[2] mat_F1_F01_F101[6] mat_F1_F01_F101[10] ; mat_F1_F01_F101[3] mat_F1_F01_F101[7] mat_F1_F01_F101[11] ; mat_F1_F01_F101[4] mat_F1_F01_F101[8] mat_F1_F01_F101[12]]\n",
    "\n",
    "display(sousDet1_F1_F01_F101)\n",
    "display(sousDet2_F1_F01_F101)\n",
    "display(sousDet3_F1_F01_F101)\n",
    "display(sousDet4_F1_F01_F101)"
   ]
  },
  {
   "cell_type": "code",
   "execution_count": 9,
   "metadata": {},
   "outputs": [
    {
     "data": {
      "text/latex": [
       "$$ \\begin{equation}\n",
       "\\frac{p^{2} k_{r}^{2} k_{m} r s v \\frac{ - k_{r} p r \\frac{k_{r} p r \\left( \\frac{ - k_{m} s}{K_{m} + s} + \\frac{ - k_{r} p \\left( 1 + p \\right)}{K_{r} + p} \\right)}{K_{r} + p}}{K_{r} + p}}{\\left( K_{r} + p \\right)^{2} \\left( K_{m} + s \\right)} + \\frac{ - k_{m} k_{r} p r s v \\frac{ - r^{2} p^{3} k_{r}^{3} \\left( \\frac{ - k_{m} s}{K_{m} + s} + \\frac{ - k_{r} p \\left( 1 + p \\right)}{K_{r} + p} \\right)}{\\left( K_{r} + p \\right)^{3}}}{\\left( K_{m} + s \\right) \\left( K_{r} + p \\right)}\n",
       "\\end{equation}\n",
       " $$"
      ],
      "text/plain": [
       "(k_m*(k_r^2)*(p^2)*r*s*v*((-k_r*p*r*((k_r*p*r*((-k_m*s) / (K_m + s) + (-k_r*p*(1 + p)) / (K_r + p))) / (K_r + p))) / (K_r + p))) / ((K_m + s)*((K_r + p)^2)) + (-k_m*k_r*p*r*s*v*((-(k_r^3)*(p^3)*(r^2)*((-k_m*s) / (K_m + s) + (-k_r*p*(1 + p)) / (K_r + p))) / ((K_r + p)^3))) / ((K_m + s)*(K_r + p))"
      ]
     },
     "metadata": {},
     "output_type": "display_data"
    },
    {
     "data": {
      "text/latex": [
       "$$ \\begin{equation}\n",
       "0\n",
       "\\end{equation}\n",
       " $$"
      ],
      "text/plain": [
       "0"
      ]
     },
     "metadata": {},
     "output_type": "display_data"
    },
    {
     "data": {
      "text/latex": [
       "$$ \\begin{equation}\n",
       "\\frac{r^{2} p^{3} k_{r}^{3} k_{m} s v \\frac{p^{2} k_{r}^{2} r v}{\\left( K_{r} + p \\right)^{2}}}{\\left( K_{r} + p \\right)^{3} \\left( K_{m} + s \\right)} + \\frac{ - v^{2} r^{3} p^{5} k_{r}^{5} k_{m} s}{\\left( K_{r} + p \\right)^{5} \\left( K_{m} + s \\right)}\n",
       "\\end{equation}\n",
       " $$"
      ],
      "text/plain": [
       "(k_m*(k_r^3)*(p^3)*(r^2)*s*v*(((k_r^2)*(p^2)*r*v) / ((K_r + p)^2))) / ((K_m + s)*((K_r + p)^3)) + (-k_m*(k_r^5)*(p^5)*(r^3)*s*(v^2)) / ((K_m + s)*((K_r + p)^5))"
      ]
     },
     "metadata": {},
     "output_type": "display_data"
    },
    {
     "data": {
      "text/latex": [
       "$$ \\begin{equation}\n",
       "\\frac{ - r^{3} p^{5} k_{r}^{5} v \\left( \\frac{ - k_{m} s}{K_{m} + s} + \\frac{ - k_{r} p \\left( 1 + p \\right)}{K_{r} + p} \\right)}{\\left( K_{r} + p \\right)^{5}} + \\frac{r^{2} p^{3} k_{r}^{3} \\left( \\frac{ - k_{m} s}{K_{m} + s} + \\frac{ - k_{r} p \\left( 1 + p \\right)}{K_{r} + p} \\right) \\frac{p^{2} k_{r}^{2} r v}{\\left( K_{r} + p \\right)^{2}}}{\\left( K_{r} + p \\right)^{3}}\n",
       "\\end{equation}\n",
       " $$"
      ],
      "text/plain": [
       "(-(k_r^5)*(p^5)*(r^3)*v*((-k_m*s) / (K_m + s) + (-k_r*p*(1 + p)) / (K_r + p))) / ((K_r + p)^5) + ((k_r^3)*(p^3)*(r^2)*((-k_m*s) / (K_m + s) + (-k_r*p*(1 + p)) / (K_r + p))*(((k_r^2)*(p^2)*r*v) / ((K_r + p)^2))) / ((K_r + p)^3)"
      ]
     },
     "metadata": {},
     "output_type": "display_data"
    },
    {
     "data": {
      "text/latex": [
       "$$ \\begin{equation}\n",
       "\\frac{ - r^{3} p^{4} k_{r}^{4} k_{m} s v \\left( \\frac{ - k_{m} s}{K_{m} + s} + \\frac{ - k_{r} p \\left( 1 + p \\right)}{K_{r} + p} \\right)}{\\left( K_{r} + p \\right)^{4} \\left( K_{m} + s \\right)} + \\frac{r^{3} p^{4} k_{r}^{4} k_{m} s v \\left( \\frac{ - k_{m} s}{K_{m} + s} + \\frac{ - k_{r} p \\left( 1 + p \\right)}{K_{r} + p} \\right)}{\\left( K_{r} + p \\right)^{4} \\left( K_{m} + s \\right)}\n",
       "\\end{equation}\n",
       " $$"
      ],
      "text/plain": [
       "(-k_m*(k_r^4)*(p^4)*(r^3)*s*v*((-k_m*s) / (K_m + s) + (-k_r*p*(1 + p)) / (K_r + p))) / ((K_m + s)*((K_r + p)^4)) + (k_m*(k_r^4)*(p^4)*(r^3)*s*v*((-k_m*s) / (K_m + s) + (-k_r*p*(1 + p)) / (K_r + p))) / ((K_m + s)*((K_r + p)^4))"
      ]
     },
     "metadata": {},
     "output_type": "display_data"
    },
    {
     "data": {
      "text/latex": [
       "$$ \\begin{equation}\n",
       "\\frac{v^{2} r^{3} p^{5} k_{r}^{5} k_{m} s}{\\left( K_{r} + p \\right)^{5} \\left( K_{m} + s \\right)} + \\frac{ - v^{2} r^{3} p^{5} k_{r}^{5} k_{m} s}{\\left( K_{r} + p \\right)^{5} \\left( K_{m} + s \\right)}\n",
       "\\end{equation}\n",
       " $$"
      ],
      "text/plain": [
       "(k_m*(k_r^5)*(p^5)*(r^3)*s*(v^2)) / ((K_m + s)*((K_r + p)^5)) + (-k_m*(k_r^5)*(p^5)*(r^3)*s*(v^2)) / ((K_m + s)*((K_r + p)^5))"
      ]
     },
     "metadata": {},
     "output_type": "display_data"
    },
    {
     "data": {
      "text/latex": [
       "$$ \\begin{equation}\n",
       "\\frac{v^{2} r^{3} p^{5} k_{r}^{5} k_{m} s}{\\left( K_{r} + p \\right)^{5} \\left( K_{m} + s \\right)} + \\frac{ - v^{2} r^{3} p^{5} k_{r}^{5} k_{m} s}{\\left( K_{r} + p \\right)^{5} \\left( K_{m} + s \\right)}\n",
       "\\end{equation}\n",
       " $$"
      ],
      "text/plain": [
       "(k_m*(k_r^5)*(p^5)*(r^3)*s*(v^2)) / ((K_m + s)*((K_r + p)^5)) + (-k_m*(k_r^5)*(p^5)*(r^3)*s*(v^2)) / ((K_m + s)*((K_r + p)^5))"
      ]
     },
     "metadata": {},
     "output_type": "display_data"
    }
   ],
   "source": [
    "mineur1_F1_F01_F101 = Symbolics.det(sousDet1_F1_F01_F101)\n",
    "mineur2_F1_F01_F101 = Symbolics.det(sousDet2_F1_F01_F101)\n",
    "mineur3_F1_F01_F101 = Symbolics.det(sousDet3_F1_F01_F101)\n",
    "mineur4_F1_F01_F101 = Symbolics.det(sousDet4_F1_F01_F101)\n",
    "\n",
    "display(mineur1_F1_F01_F101)\n",
    "display(mineur2_F1_F01_F101)\n",
    "display(mineur3_F1_F01_F101)\n",
    "display(mineur4_F1_F01_F101)\n",
    "\n",
    "sousDet1_F1_F01_F101_diff = (k_m*(k_r^2)*(p^2)*r*s*v*((-k_r*p*r*((k_r*p*r*((-k_m*s) / (K_m + s) + (-k_r*p*(1 + p)) / (K_r + p))) / (K_r + p))) / (K_r + p))) / ((K_m + s)*((K_r + p)^2)) + (-k_m*k_r*p*r*s*v*((-(k_r^3)*(p^3)*(r^2)*((-k_m*s) / (K_m + s) + (-k_r*p*(1 + p)) / (K_r + p))) / ((K_r + p)^3))) / ((K_m + s)*(K_r + p))\n",
    "sousDet3_F1_F01_F101_diff = (k_m*(k_r^3)*(p^3)*(r^2)*s*v*(((k_r^2)*(p^2)*r*v) / ((K_r + p)^2))) / ((K_m + s)*((K_r + p)^3)) + (-k_m*(k_r^5)*(p^5)*(r^3)*s*(v^2)) / ((K_m + s)*((K_r + p)^5))\n",
    "sousDet4_F1_F01_F101_diff = (k_m*(k_r^3)*(p^3)*(r^2)*s*v*(((k_r^2)*(p^2)*r*v) / ((K_r + p)^2))) / ((K_m + s)*((K_r + p)^3)) + (-k_m*(k_r^5)*(p^5)*(r^3)*s*(v^2)) / ((K_m + s)*((K_r + p)^5))\n",
    "\n",
    "display(sousDet1_F1_F01_F101_diff)\n",
    "display(sousDet3_F1_F01_F101_diff)\n",
    "display(sousDet4_F1_F01_F101_diff)"
   ]
  },
  {
   "cell_type": "markdown",
   "metadata": {},
   "source": [
    "# Test numérique des déterminants de sous-matrices de mat_F1_F01_F101 : "
   ]
  },
  {
   "cell_type": "code",
   "execution_count": 29,
   "metadata": {},
   "outputs": [
    {
     "data": {
      "text/plain": [
       "-2.2737367544323206e-13"
      ]
     },
     "metadata": {},
     "output_type": "display_data"
    },
    {
     "data": {
      "text/plain": [
       "0.0"
      ]
     },
     "metadata": {},
     "output_type": "display_data"
    },
    {
     "data": {
      "text/plain": [
       "0.0"
      ]
     },
     "metadata": {},
     "output_type": "display_data"
    }
   ],
   "source": [
    "# s, p et v, random supérieur à 0 : (avec random)\n",
    "s = rand() * 100\n",
    "p = rand() * 100\n",
    "r = rand()\n",
    "v = rand() * 100\n",
    "\n",
    "k_r = 1.1\n",
    "k_m = 1.2\n",
    "K_r = 1.3\n",
    "K_m = 1.4\n",
    "\n",
    "sousDet1_F1_F01_F101_diff = (k_m*(k_r^2)*(p^2)*r*s*v*((-k_r*p*r*((k_r*p*r*((-k_m*s) / (K_m + s) + (-k_r*p*(1 + p)) / (K_r + p))) / (K_r + p))) / (K_r + p))) / ((K_m + s)*((K_r + p)^2)) + (-k_m*k_r*p*r*s*v*((-(k_r^3)*(p^3)*(r^2)*((-k_m*s) / (K_m + s) + (-k_r*p*(1 + p)) / (K_r + p))) / ((K_r + p)^3))) / ((K_m + s)*(K_r + p))\n",
    "sousDet3_F1_F01_F101_diff = (k_m*(k_r^3)*(p^3)*(r^2)*s*v*(((k_r^2)*(p^2)*r*v) / ((K_r + p)^2))) / ((K_m + s)*((K_r + p)^3)) + (-k_m*(k_r^5)*(p^5)*(r^3)*s*(v^2)) / ((K_m + s)*((K_r + p)^5))\n",
    "sousDet4_F1_F01_F101_diff = (k_m*(k_r^3)*(p^3)*(r^2)*s*v*(((k_r^2)*(p^2)*r*v) / ((K_r + p)^2))) / ((K_m + s)*((K_r + p)^3)) + (-k_m*(k_r^5)*(p^5)*(r^3)*s*(v^2)) / ((K_m + s)*((K_r + p)^5))\n",
    "\n",
    "display(sousDet1_F1_F01_F101_diff)\n",
    "display(sousDet3_F1_F01_F101_diff)\n",
    "display(sousDet4_F1_F01_F101_diff)\n"
   ]
  }
 ],
 "metadata": {
  "kernelspec": {
   "display_name": "Julia 1.9.3",
   "language": "julia",
   "name": "julia-1.9"
  },
  "language_info": {
   "file_extension": ".jl",
   "mimetype": "application/julia",
   "name": "julia",
   "version": "1.9.3"
  }
 },
 "nbformat": 4,
 "nbformat_minor": 2
}
