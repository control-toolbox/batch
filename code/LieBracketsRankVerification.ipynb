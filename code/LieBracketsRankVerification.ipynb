{
 "cells": [
  {
   "cell_type": "code",
   "execution_count": 2,
   "metadata": {},
   "outputs": [],
   "source": [
    "using Symbolics\n",
    "#using SymPy"
   ]
  },
  {
   "cell_type": "code",
   "execution_count": 3,
   "metadata": {},
   "outputs": [
    {
     "data": {
      "text/latex": [
       "$$ \\begin{equation}\n",
       "\\left[\n",
       "\\begin{array}{c}\n",
       " - \\left( 1 - r \\right) v \\frac{k_m s}{K_m + s} \\\\\n",
       "\\frac{ - k_r p \\left( 1 + p \\right) r}{K_r + p} + \\frac{k_m \\left( 1 - r \\right) s}{K_m + s} \\\\\n",
       " - r^{2} \\frac{k_r p}{K_r + p} \\\\\n",
       "\\frac{k_r p r v}{K_r + p} \\\\\n",
       "\\end{array}\n",
       "\\right]\n",
       "\\end{equation}\n",
       " $$"
      ],
      "text/plain": [
       "4-element Vector{Num}:\n",
       "                           -(1 - r)*v*((kₘ*s) / (Kₘ + s))\n",
       " (-kᵣ*p*(1 + p)*r) / (Kᵣ + p) + (kₘ*(1 - r)*s) / (Kₘ + s)\n",
       "                               -(r^2)*((kᵣ*p) / (Kᵣ + p))\n",
       "                                    (kᵣ*p*r*v) / (Kᵣ + p)"
      ]
     },
     "metadata": {},
     "output_type": "display_data"
    }
   ],
   "source": [
    "@variables s, p, r, v, kᵣ, kₘ, Kᵣ, Kₘ\n",
    "wᵣ(p) = kᵣ * p / (Kᵣ + p)\n",
    "wₘ(s) = kₘ * s / (Kₘ + s)\n",
    "\n",
    "F0 = [-wₘ(s) * (1-r)*v, wₘ(s)*(1-r) - wᵣ(p) *r * (p+1), -wᵣ(p)*r^2, wᵣ(p)*r*v]"
   ]
  },
  {
   "cell_type": "code",
   "execution_count": 4,
   "metadata": {},
   "outputs": [
    {
     "data": {
      "text/latex": [
       "$$ \\begin{equation}\n",
       "\\left[\n",
       "\\begin{array}{c}\n",
       "0 \\\\\n",
       "0 \\\\\n",
       "\\frac{k_r p r}{K_r + p} \\\\\n",
       "0 \\\\\n",
       "\\end{array}\n",
       "\\right]\n",
       "\\end{equation}\n",
       " $$"
      ],
      "text/plain": [
       "4-element Vector{Num}:\n",
       "                   0\n",
       "                   0\n",
       " (kᵣ*p*r) / (Kᵣ + p)\n",
       "                   0"
      ]
     },
     "metadata": {},
     "output_type": "display_data"
    }
   ],
   "source": [
    "F1 = [0, 0, wᵣ(p)*r, 0]"
   ]
  },
  {
   "cell_type": "code",
   "execution_count": 5,
   "metadata": {},
   "outputs": [
    {
     "data": {
      "text/latex": [
       "$$ \\begin{equation}\n",
       "\\left[\n",
       "\\begin{array}{c}\n",
       " - \\frac{k_r k_m p r s v}{\\left( K_r + p \\right) \\left( K_m + s \\right)} \\\\\n",
       " - \\frac{k_r p r \\left( \\frac{ - k_r p \\left( 1 + p \\right)}{K_r + p} + \\frac{ - k_m s}{K_m + s} \\right)}{K_r + p} \\\\\n",
       "\\frac{2 r^{2} p^{2} k_r^{2}}{\\left( K_r + p \\right)^{2}} + \\frac{ - r^{2} k_r p \\frac{k_r p}{K_r + p}}{K_r + p} + \\left( \\frac{k_r r}{K_r + p} + \\frac{ - k_r p r}{\\left( K_r + p \\right)^{2}} \\right) \\left( \\frac{ - k_r p \\left( 1 + p \\right) r}{K_r + p} + \\frac{k_m \\left( 1 - r \\right) s}{K_m + s} \\right) \\\\\n",
       " - \\frac{p^{2} k_r^{2} r v}{\\left( K_r + p \\right)^{2}} \\\\\n",
       "\\end{array}\n",
       "\\right]\n",
       "\\end{equation}\n",
       " $$"
      ],
      "text/plain": [
       "4-element Vector{Num}:\n",
       "                                                                                                                                                        -((kᵣ*kₘ*p*r*s*v) / ((Kᵣ + p)*(Kₘ + s)))\n",
       "                                                                                                                        -((kᵣ*p*r*((-kᵣ*p*(1 + p)) / (Kᵣ + p) + (-kₘ*s) / (Kₘ + s))) / (Kᵣ + p))\n",
       " (2(kᵣ^2)*(p^2)*(r^2)) / ((Kᵣ + p)^2) + (-kᵣ*p*(r^2)*((kᵣ*p) / (Kᵣ + p))) / (Kᵣ + p) + ((kᵣ*r) / (Kᵣ + p) + (-kᵣ*p*r) / ((Kᵣ + p)^2))*((-kᵣ*p*(1 + p)*r) / (Kᵣ + p) + (kₘ*(1 - r)*s) / (Kₘ + s))\n",
       "                                                                                                                                                            -(((kᵣ^2)*(p^2)*r*v) / ((Kᵣ + p)^2))"
      ]
     },
     "metadata": {},
     "output_type": "display_data"
    }
   ],
   "source": [
    "F0_prime = Symbolics.jacobian(F0, [s, p, r, v])\n",
    "F1_prime = Symbolics.jacobian(F1, [s, p, r, v])\n",
    "\n",
    "F01 = F1_prime * F0 - F0_prime * F1"
   ]
  },
  {
   "cell_type": "code",
   "execution_count": 6,
   "metadata": {},
   "outputs": [
    {
     "data": {
      "text/latex": [
       "$$ \\begin{equation}\n",
       "\\left[\n",
       "\\begin{array}{c}\n",
       "\\frac{ - p^{2} k_r^{2} k_m r s v}{\\left( K_r + p \\right)^{2} \\left( K_m + s \\right)} \\\\\n",
       "\\frac{ - p^{2} k_r^{2} r \\left( \\frac{ - k_r p \\left( 1 + p \\right)}{K_r + p} + \\frac{ - k_m s}{K_m + s} \\right)}{\\left( K_r + p \\right)^{2}} \\\\\n",
       "\\frac{ - k_r p \\left( \\frac{2 r^{2} p^{2} k_r^{2}}{\\left( K_r + p \\right)^{2}} + \\frac{ - r^{2} k_r p \\frac{k_r p}{K_r + p}}{K_r + p} + \\left( \\frac{k_r r}{K_r + p} + \\frac{ - k_r p r}{\\left( K_r + p \\right)^{2}} \\right) \\left( \\frac{ - k_r p \\left( 1 + p \\right) r}{K_r + p} + \\frac{k_m \\left( 1 - r \\right) s}{K_m + s} \\right) \\right)}{K_r + p} + \\frac{k_r p r \\left( \\frac{4 p^{2} k_r^{2} r}{\\left( K_r + p \\right)^{2}} + \\frac{ - 2 p^{2} k_r^{2} r}{\\left( K_r + p \\right)^{2}} + \\left( \\frac{k_r r}{K_r + p} + \\frac{ - k_r p r}{\\left( K_r + p \\right)^{2}} \\right) \\left( \\frac{ - k_r p \\left( 1 + p \\right)}{K_r + p} + \\frac{ - k_m s}{K_m + s} \\right) + \\left( \\frac{ - k_r p \\left( 1 + p \\right) r}{K_r + p} + \\frac{k_m \\left( 1 - r \\right) s}{K_m + s} \\right) \\left( \\frac{k_r}{K_r + p} + \\frac{ - k_r p}{\\left( K_r + p \\right)^{2}} \\right) \\right)}{K_r + p} + \\left( \\frac{k_r r}{K_r + p} + \\frac{ - k_r p r}{\\left( K_r + p \\right)^{2}} \\right) \\frac{k_r p r \\left( \\frac{ - k_r p \\left( 1 + p \\right)}{K_r + p} + \\frac{ - k_m s}{K_m + s} \\right)}{K_r + p} \\\\\n",
       "\\frac{ - p^{3} k_r^{3} r v}{\\left( K_r + p \\right)^{3}} \\\\\n",
       "\\end{array}\n",
       "\\right]\n",
       "\\end{equation}\n",
       " $$"
      ],
      "text/plain": [
       "4-element Vector{Num}:\n",
       "                                                                                                                                                                                                                                                                                                                                                                                                                                                                                                                                                                                                  (-(kᵣ^2)*kₘ*(p^2)*r*s*v) / (((Kᵣ + p)^2)*(Kₘ + s))\n",
       "                                                                                                                                                                                                                                                                                                                                                                                                                                                                                                                                                                  (-(kᵣ^2)*(p^2)*r*((-kᵣ*p*(1 + p)) / (Kᵣ + p) + (-kₘ*s) / (Kₘ + s))) / ((Kᵣ + p)^2)\n",
       " (-kᵣ*p*((2(kᵣ^2)*(p^2)*(r^2)) / ((Kᵣ + p)^2) + (-kᵣ*p*(r^2)*((kᵣ*p) / (Kᵣ + p))) / (Kᵣ + p) + ((kᵣ*r) / (Kᵣ + p) + (-kᵣ*p*r) / ((Kᵣ + p)^2))*((-kᵣ*p*(1 + p)*r) / (Kᵣ + p) + (kₘ*(1 - r)*s) / (Kₘ + s)))) / (Kᵣ + p) + (kᵣ*p*r*((4(kᵣ^2)*(p^2)*r) / ((Kᵣ + p)^2) + (-2(kᵣ^2)*(p^2)*r) / ((Kᵣ + p)^2) + ((kᵣ*r) / (Kᵣ + p) + (-kᵣ*p*r) / ((Kᵣ + p)^2))*((-kᵣ*p*(1 + p)) / (Kᵣ + p) + (-kₘ*s) / (Kₘ + s)) + ((-kᵣ*p*(1 + p)*r) / (Kᵣ + p) + (kₘ*(1 - r)*s) / (Kₘ + s))*(kᵣ / (Kᵣ + p) + (-kᵣ*p) / ((Kᵣ + p)^2)))) / (Kᵣ + p) + ((kᵣ*r) / (Kᵣ + p) + (-kᵣ*p*r) / ((Kᵣ + p)^2))*((kᵣ*p*r*((-kᵣ*p*(1 + p)) / (Kᵣ + p) + (-kₘ*s) / (Kₘ + s))) / (Kᵣ + p))\n",
       "                                                                                                                                                                                                                                                                                                                                                                                                                                                                                                                                                                                                                  (-(kᵣ^3)*(p^3)*r*v) / ((Kᵣ + p)^3)"
      ]
     },
     "metadata": {},
     "output_type": "display_data"
    }
   ],
   "source": [
    "F01_prime = Symbolics.jacobian(F01, [s, p, r, v])\n",
    "\n",
    "F101 = F01_prime * F1 - F1_prime * F01"
   ]
  },
  {
   "cell_type": "code",
   "execution_count": 7,
   "metadata": {},
   "outputs": [
    {
     "data": {
      "text/latex": [
       "$$ \\begin{equation}\n",
       "\\left[\n",
       "\\begin{array}{cc}\n",
       "0 &  - \\frac{k_r k_m p r s v}{\\left( K_r + p \\right) \\left( K_m + s \\right)} \\\\\n",
       "0 &  - \\frac{k_r p r \\left( \\frac{ - k_r p \\left( 1 + p \\right)}{K_r + p} + \\frac{ - k_m s}{K_m + s} \\right)}{K_r + p} \\\\\n",
       "\\frac{k_r p r}{K_r + p} & \\frac{2 r^{2} p^{2} k_r^{2}}{\\left( K_r + p \\right)^{2}} + \\frac{ - r^{2} k_r p \\frac{k_r p}{K_r + p}}{K_r + p} + \\left( \\frac{k_r r}{K_r + p} + \\frac{ - k_r p r}{\\left( K_r + p \\right)^{2}} \\right) \\left( \\frac{ - k_r p \\left( 1 + p \\right) r}{K_r + p} + \\frac{k_m \\left( 1 - r \\right) s}{K_m + s} \\right) \\\\\n",
       "0 &  - \\frac{p^{2} k_r^{2} r v}{\\left( K_r + p \\right)^{2}} \\\\\n",
       "\\end{array}\n",
       "\\right]\n",
       "\\end{equation}\n",
       " $$"
      ],
      "text/plain": [
       "4×2 Matrix{Num}:\n",
       "                   0  …                                                                                                                                                         -((kᵣ*kₘ*p*r*s*v) / ((Kᵣ + p)*(Kₘ + s)))\n",
       "                   0                                                                                                                            -((kᵣ*p*r*((-kᵣ*p*(1 + p)) / (Kᵣ + p) + (-kₘ*s) / (Kₘ + s))) / (Kᵣ + p))\n",
       " (kᵣ*p*r) / (Kᵣ + p)     (2(kᵣ^2)*(p^2)*(r^2)) / ((Kᵣ + p)^2) + (-kᵣ*p*(r^2)*((kᵣ*p) / (Kᵣ + p))) / (Kᵣ + p) + ((kᵣ*r) / (Kᵣ + p) + (-kᵣ*p*r) / ((Kᵣ + p)^2))*((-kᵣ*p*(1 + p)*r) / (Kᵣ + p) + (kₘ*(1 - r)*s) / (Kₘ + s))\n",
       "                   0                                                                                                                                                                -(((kᵣ^2)*(p^2)*r*v) / ((Kᵣ + p)^2))"
      ]
     },
     "metadata": {},
     "output_type": "display_data"
    }
   ],
   "source": [
    "R1 = [F1 F01]"
   ]
  },
  {
   "cell_type": "code",
   "execution_count": 12,
   "metadata": {},
   "outputs": [
    {
     "data": {
      "text/latex": [
       "$$ \\begin{equation}\n",
       "\\left[\n",
       "\\begin{array}{ccc}\n",
       "0 &  - \\frac{k_r k_m p r s v}{\\left( K_r + p \\right) \\left( K_m + s \\right)} & \\frac{ - p^{2} k_r^{2} k_m r s v}{\\left( K_r + p \\right)^{2} \\left( K_m + s \\right)} \\\\\n",
       "0 &  - \\frac{k_r p r \\left( \\frac{ - k_r p \\left( 1 + p \\right)}{K_r + p} + \\frac{ - k_m s}{K_m + s} \\right)}{K_r + p} & \\frac{ - p^{2} k_r^{2} r \\left( \\frac{ - k_r p \\left( 1 + p \\right)}{K_r + p} + \\frac{ - k_m s}{K_m + s} \\right)}{\\left( K_r + p \\right)^{2}} \\\\\n",
       "\\frac{k_r p r}{K_r + p} & \\frac{2 r^{2} p^{2} k_r^{2}}{\\left( K_r + p \\right)^{2}} + \\frac{ - r^{2} k_r p \\frac{k_r p}{K_r + p}}{K_r + p} + \\left( \\frac{k_r r}{K_r + p} + \\frac{ - k_r p r}{\\left( K_r + p \\right)^{2}} \\right) \\left( \\frac{ - k_r p \\left( 1 + p \\right) r}{K_r + p} + \\frac{k_m \\left( 1 - r \\right) s}{K_m + s} \\right) & \\frac{ - k_r p \\left( \\frac{2 r^{2} p^{2} k_r^{2}}{\\left( K_r + p \\right)^{2}} + \\frac{ - r^{2} k_r p \\frac{k_r p}{K_r + p}}{K_r + p} + \\left( \\frac{k_r r}{K_r + p} + \\frac{ - k_r p r}{\\left( K_r + p \\right)^{2}} \\right) \\left( \\frac{ - k_r p \\left( 1 + p \\right) r}{K_r + p} + \\frac{k_m \\left( 1 - r \\right) s}{K_m + s} \\right) \\right)}{K_r + p} + \\frac{k_r p r \\left( \\frac{4 p^{2} k_r^{2} r}{\\left( K_r + p \\right)^{2}} + \\frac{ - 2 p^{2} k_r^{2} r}{\\left( K_r + p \\right)^{2}} + \\left( \\frac{k_r r}{K_r + p} + \\frac{ - k_r p r}{\\left( K_r + p \\right)^{2}} \\right) \\left( \\frac{ - k_r p \\left( 1 + p \\right)}{K_r + p} + \\frac{ - k_m s}{K_m + s} \\right) + \\left( \\frac{ - k_r p \\left( 1 + p \\right) r}{K_r + p} + \\frac{k_m \\left( 1 - r \\right) s}{K_m + s} \\right) \\left( \\frac{k_r}{K_r + p} + \\frac{ - k_r p}{\\left( K_r + p \\right)^{2}} \\right) \\right)}{K_r + p} + \\left( \\frac{k_r r}{K_r + p} + \\frac{ - k_r p r}{\\left( K_r + p \\right)^{2}} \\right) \\frac{k_r p r \\left( \\frac{ - k_r p \\left( 1 + p \\right)}{K_r + p} + \\frac{ - k_m s}{K_m + s} \\right)}{K_r + p} \\\\\n",
       "0 &  - \\frac{p^{2} k_r^{2} r v}{\\left( K_r + p \\right)^{2}} & \\frac{ - p^{3} k_r^{3} r v}{\\left( K_r + p \\right)^{3}} \\\\\n",
       "\\end{array}\n",
       "\\right]\n",
       "\\end{equation}\n",
       " $$"
      ],
      "text/plain": [
       "4×3 Matrix{Num}:\n",
       "                   0  …                                                                                                                                                                                                                                                                                                                                                                                                                                                                                                                                                                                                   (-(kᵣ^2)*kₘ*(p^2)*r*s*v) / (((Kᵣ + p)^2)*(Kₘ + s))\n",
       "                   0                                                                                                                                                                                                                                                                                                                                                                                                                                                                                                                                                                      (-(kᵣ^2)*(p^2)*r*((-kᵣ*p*(1 + p)) / (Kᵣ + p) + (-kₘ*s) / (Kₘ + s))) / ((Kᵣ + p)^2)\n",
       " (kᵣ*p*r) / (Kᵣ + p)     (-kᵣ*p*((2(kᵣ^2)*(p^2)*(r^2)) / ((Kᵣ + p)^2) + (-kᵣ*p*(r^2)*((kᵣ*p) / (Kᵣ + p))) / (Kᵣ + p) + ((kᵣ*r) / (Kᵣ + p) + (-kᵣ*p*r) / ((Kᵣ + p)^2))*((-kᵣ*p*(1 + p)*r) / (Kᵣ + p) + (kₘ*(1 - r)*s) / (Kₘ + s)))) / (Kᵣ + p) + (kᵣ*p*r*((4(kᵣ^2)*(p^2)*r) / ((Kᵣ + p)^2) + (-2(kᵣ^2)*(p^2)*r) / ((Kᵣ + p)^2) + ((kᵣ*r) / (Kᵣ + p) + (-kᵣ*p*r) / ((Kᵣ + p)^2))*((-kᵣ*p*(1 + p)) / (Kᵣ + p) + (-kₘ*s) / (Kₘ + s)) + ((-kᵣ*p*(1 + p)*r) / (Kᵣ + p) + (kₘ*(1 - r)*s) / (Kₘ + s))*(kᵣ / (Kᵣ + p) + (-kᵣ*p) / ((Kᵣ + p)^2)))) / (Kᵣ + p) + ((kᵣ*r) / (Kᵣ + p) + (-kᵣ*p*r) / ((Kᵣ + p)^2))*((kᵣ*p*r*((-kᵣ*p*(1 + p)) / (Kᵣ + p) + (-kₘ*s) / (Kₘ + s))) / (Kᵣ + p))\n",
       "                   0                                                                                                                                                                                                                                                                                                                                                                                                                                                                                                                                                                                                                      (-(kᵣ^3)*(p^3)*r*v) / ((Kᵣ + p)^3)"
      ]
     },
     "metadata": {},
     "output_type": "display_data"
    }
   ],
   "source": [
    "R2 = [F1 F01 F101]"
   ]
  },
  {
   "cell_type": "code",
   "execution_count": 23,
   "metadata": {},
   "outputs": [
    {
     "data": {
      "text/latex": [
       "$$ \\begin{equation}\n",
       "\\left[\n",
       "\\begin{array}{cc}\n",
       "0 &  - \\frac{k_r k_m p r s v}{\\left( K_r + p \\right) \\left( K_m + s \\right)} \\\\\n",
       "0 &  - \\frac{k_r p r \\left( \\frac{ - k_r p \\left( 1 + p \\right)}{K_r + p} + \\frac{ - k_m s}{K_m + s} \\right)}{K_r + p} \\\\\n",
       "\\end{array}\n",
       "\\right]\n",
       "\\end{equation}\n",
       " $$"
      ],
      "text/plain": [
       "2×2 Matrix{Num}:\n",
       " 0                                  -((kᵣ*kₘ*p*r*s*v) / ((Kᵣ + p)*(Kₘ + s)))\n",
       " 0  -((kᵣ*p*r*((-kᵣ*p*(1 + p)) / (Kᵣ + p) + (-kₘ*s) / (Kₘ + s))) / (Kᵣ + p))"
      ]
     },
     "metadata": {},
     "output_type": "display_data"
    }
   ],
   "source": [
    "Min1 = R1[1:2, 1:2]"
   ]
  },
  {
   "cell_type": "code",
   "execution_count": 22,
   "metadata": {},
   "outputs": [
    {
     "data": {
      "text/latex": [
       "$$ \\begin{equation}\n",
       "\\left[\n",
       "\\begin{array}{cc}\n",
       "0 &  - \\frac{k_r p r \\left( \\frac{ - k_r p \\left( 1 + p \\right)}{K_r + p} + \\frac{ - k_m s}{K_m + s} \\right)}{K_r + p} \\\\\n",
       "\\frac{k_r p r}{K_r + p} & \\frac{2 r^{2} p^{2} k_r^{2}}{\\left( K_r + p \\right)^{2}} + \\frac{ - r^{2} k_r p \\frac{k_r p}{K_r + p}}{K_r + p} + \\left( \\frac{k_r r}{K_r + p} + \\frac{ - k_r p r}{\\left( K_r + p \\right)^{2}} \\right) \\left( \\frac{ - k_r p \\left( 1 + p \\right) r}{K_r + p} + \\frac{k_m \\left( 1 - r \\right) s}{K_m + s} \\right) \\\\\n",
       "\\end{array}\n",
       "\\right]\n",
       "\\end{equation}\n",
       " $$"
      ],
      "text/plain": [
       "2×2 Matrix{Num}:\n",
       "                   0  …                                                                                                                         -((kᵣ*p*r*((-kᵣ*p*(1 + p)) / (Kᵣ + p) + (-kₘ*s) / (Kₘ + s))) / (Kᵣ + p))\n",
       " (kᵣ*p*r) / (Kᵣ + p)     (2(kᵣ^2)*(p^2)*(r^2)) / ((Kᵣ + p)^2) + (-kᵣ*p*(r^2)*((kᵣ*p) / (Kᵣ + p))) / (Kᵣ + p) + ((kᵣ*r) / (Kᵣ + p) + (-kᵣ*p*r) / ((Kᵣ + p)^2))*((-kᵣ*p*(1 + p)*r) / (Kᵣ + p) + (kₘ*(1 - r)*s) / (Kₘ + s))"
      ]
     },
     "metadata": {},
     "output_type": "display_data"
    }
   ],
   "source": [
    "Min2 = R1[2:3, 1:2]"
   ]
  },
  {
   "cell_type": "code",
   "execution_count": 26,
   "metadata": {},
   "outputs": [
    {
     "data": {
      "text/latex": [
       "$$ \\begin{equation}\n",
       "\\left[\n",
       "\\begin{array}{cc}\n",
       "\\frac{k_r p r}{K_r + p} & \\frac{2 r^{2} p^{2} k_r^{2}}{\\left( K_r + p \\right)^{2}} + \\frac{ - r^{2} k_r p \\frac{k_r p}{K_r + p}}{K_r + p} + \\left( \\frac{k_r r}{K_r + p} + \\frac{ - k_r p r}{\\left( K_r + p \\right)^{2}} \\right) \\left( \\frac{ - k_r p \\left( 1 + p \\right) r}{K_r + p} + \\frac{k_m \\left( 1 - r \\right) s}{K_m + s} \\right) \\\\\n",
       "0 &  - \\frac{p^{2} k_r^{2} r v}{\\left( K_r + p \\right)^{2}} \\\\\n",
       "\\end{array}\n",
       "\\right]\n",
       "\\end{equation}\n",
       " $$"
      ],
      "text/plain": [
       "2×2 Matrix{Num}:\n",
       " (kᵣ*p*r) / (Kᵣ + p)  …  (2(kᵣ^2)*(p^2)*(r^2)) / ((Kᵣ + p)^2) + (-kᵣ*p*(r^2)*((kᵣ*p) / (Kᵣ + p))) / (Kᵣ + p) + ((kᵣ*r) / (Kᵣ + p) + (-kᵣ*p*r) / ((Kᵣ + p)^2))*((-kᵣ*p*(1 + p)*r) / (Kᵣ + p) + (kₘ*(1 - r)*s) / (Kₘ + s))\n",
       "                   0                                                                                                                                                                -(((kᵣ^2)*(p^2)*r*v) / ((Kᵣ + p)^2))"
      ]
     },
     "metadata": {},
     "output_type": "display_data"
    }
   ],
   "source": [
    "Min3 = R1[3:4, 1:2]"
   ]
  },
  {
   "cell_type": "code",
   "execution_count": 31,
   "metadata": {},
   "outputs": [
    {
     "data": {
      "text/latex": [
       "$$ \\begin{equation}\n",
       "\\left[\n",
       "\\begin{array}{cc}\n",
       "0 &  - \\frac{k_r k_m p r s v}{\\left( K_r + p \\right) \\left( K_m + s \\right)} \\\\\n",
       "\\frac{k_r p r}{K_r + p} & \\frac{2 r^{2} p^{2} k_r^{2}}{\\left( K_r + p \\right)^{2}} + \\frac{ - r^{2} k_r p \\frac{k_r p}{K_r + p}}{K_r + p} + \\left( \\frac{k_r r}{K_r + p} + \\frac{ - k_r p r}{\\left( K_r + p \\right)^{2}} \\right) \\left( \\frac{ - k_r p \\left( 1 + p \\right) r}{K_r + p} + \\frac{k_m \\left( 1 - r \\right) s}{K_m + s} \\right) \\\\\n",
       "\\end{array}\n",
       "\\right]\n",
       "\\end{equation}\n",
       " $$"
      ],
      "text/plain": [
       "2×2 Matrix{Num}:\n",
       "                   0  …                                                                                                                                                         -((kᵣ*kₘ*p*r*s*v) / ((Kᵣ + p)*(Kₘ + s)))\n",
       " (kᵣ*p*r) / (Kᵣ + p)     (2(kᵣ^2)*(p^2)*(r^2)) / ((Kᵣ + p)^2) + (-kᵣ*p*(r^2)*((kᵣ*p) / (Kᵣ + p))) / (Kᵣ + p) + ((kᵣ*r) / (Kᵣ + p) + (-kᵣ*p*r) / ((Kᵣ + p)^2))*((-kᵣ*p*(1 + p)*r) / (Kᵣ + p) + (kₘ*(1 - r)*s) / (Kₘ + s))"
      ]
     },
     "metadata": {},
     "output_type": "display_data"
    }
   ],
   "source": [
    "Min4 = [R1[1, 1] R1[1, 2]  ; R1[3, 1] R1[3, 2]]"
   ]
  },
  {
   "cell_type": "code",
   "execution_count": 32,
   "metadata": {},
   "outputs": [
    {
     "data": {
      "text/latex": [
       "$$ \\begin{equation}\n",
       "\\left[\n",
       "\\begin{array}{cc}\n",
       "0 &  - \\frac{k_r k_m p r s v}{\\left( K_r + p \\right) \\left( K_m + s \\right)} \\\\\n",
       "0 &  - \\frac{p^{2} k_r^{2} r v}{\\left( K_r + p \\right)^{2}} \\\\\n",
       "\\end{array}\n",
       "\\right]\n",
       "\\end{equation}\n",
       " $$"
      ],
      "text/plain": [
       "2×2 Matrix{Num}:\n",
       " 0  -((kᵣ*kₘ*p*r*s*v) / ((Kᵣ + p)*(Kₘ + s)))\n",
       " 0      -(((kᵣ^2)*(p^2)*r*v) / ((Kᵣ + p)^2))"
      ]
     },
     "metadata": {},
     "output_type": "display_data"
    }
   ],
   "source": [
    "Min5 = [R1[1, 1] R1[1, 2]  ; R1[4, 1] R1[4, 2]]"
   ]
  },
  {
   "cell_type": "code",
   "execution_count": 33,
   "metadata": {},
   "outputs": [
    {
     "data": {
      "text/latex": [
       "$$ \\begin{equation}\n",
       "\\left[\n",
       "\\begin{array}{cc}\n",
       "0 &  - \\frac{k_r p r \\left( \\frac{ - k_r p \\left( 1 + p \\right)}{K_r + p} + \\frac{ - k_m s}{K_m + s} \\right)}{K_r + p} \\\\\n",
       "\\frac{k_r p r}{K_r + p} & \\frac{2 r^{2} p^{2} k_r^{2}}{\\left( K_r + p \\right)^{2}} + \\frac{ - r^{2} k_r p \\frac{k_r p}{K_r + p}}{K_r + p} + \\left( \\frac{k_r r}{K_r + p} + \\frac{ - k_r p r}{\\left( K_r + p \\right)^{2}} \\right) \\left( \\frac{ - k_r p \\left( 1 + p \\right) r}{K_r + p} + \\frac{k_m \\left( 1 - r \\right) s}{K_m + s} \\right) \\\\\n",
       "\\end{array}\n",
       "\\right]\n",
       "\\end{equation}\n",
       " $$"
      ],
      "text/plain": [
       "2×2 Matrix{Num}:\n",
       "                   0  …                                                                                                                         -((kᵣ*p*r*((-kᵣ*p*(1 + p)) / (Kᵣ + p) + (-kₘ*s) / (Kₘ + s))) / (Kᵣ + p))\n",
       " (kᵣ*p*r) / (Kᵣ + p)     (2(kᵣ^2)*(p^2)*(r^2)) / ((Kᵣ + p)^2) + (-kᵣ*p*(r^2)*((kᵣ*p) / (Kᵣ + p))) / (Kᵣ + p) + ((kᵣ*r) / (Kᵣ + p) + (-kᵣ*p*r) / ((Kᵣ + p)^2))*((-kᵣ*p*(1 + p)*r) / (Kᵣ + p) + (kₘ*(1 - r)*s) / (Kₘ + s))"
      ]
     },
     "metadata": {},
     "output_type": "display_data"
    }
   ],
   "source": [
    "Min6 = [R1[2, 1] R1[2, 2]  ; R1[3, 1] R1[3, 2]]"
   ]
  },
  {
   "cell_type": "code",
   "execution_count": 35,
   "metadata": {},
   "outputs": [
    {
     "data": {
      "text/latex": [
       "$$ \\begin{equation}\n",
       "0\n",
       "\\end{equation}\n",
       " $$"
      ],
      "text/plain": [
       "0"
      ]
     },
     "metadata": {},
     "output_type": "display_data"
    }
   ],
   "source": [
    "detMin1 = Symbolics.det(Min1)\n",
    "\n"
   ]
  },
  {
   "cell_type": "code",
   "execution_count": 36,
   "metadata": {},
   "outputs": [
    {
     "data": {
      "text/latex": [
       "$$ \\begin{equation}\n",
       " - \\frac{ - k_r p r \\frac{k_r p r \\left( \\frac{ - k_r p \\left( 1 + p \\right)}{K_r + p} + \\frac{ - k_m s}{K_m + s} \\right)}{K_r + p}}{K_r + p}\n",
       "\\end{equation}\n",
       " $$"
      ],
      "text/plain": [
       "-((-kᵣ*p*r*((kᵣ*p*r*((-kᵣ*p*(1 + p)) / (Kᵣ + p) + (-kₘ*s) / (Kₘ + s))) / (Kᵣ + p))) / (Kᵣ + p))"
      ]
     },
     "metadata": {},
     "output_type": "display_data"
    }
   ],
   "source": [
    "detMin2 = Symbolics.det(Min2)\n"
   ]
  },
  {
   "cell_type": "code",
   "execution_count": 37,
   "metadata": {},
   "outputs": [
    {
     "data": {
      "text/latex": [
       "$$ \\begin{equation}\n",
       "\\frac{ - k_r p r \\frac{p^{2} k_r^{2} r v}{\\left( K_r + p \\right)^{2}}}{K_r + p}\n",
       "\\end{equation}\n",
       " $$"
      ],
      "text/plain": [
       "(-kᵣ*p*r*(((kᵣ^2)*(p^2)*r*v) / ((Kᵣ + p)^2))) / (Kᵣ + p)"
      ]
     },
     "metadata": {},
     "output_type": "display_data"
    }
   ],
   "source": [
    "detMin3 = Symbolics.det(Min3)\n"
   ]
  },
  {
   "cell_type": "code",
   "execution_count": 38,
   "metadata": {},
   "outputs": [
    {
     "data": {
      "text/latex": [
       "$$ \\begin{equation}\n",
       " - \\frac{ - k_r p r \\frac{k_r k_m p r s v}{\\left( K_r + p \\right) \\left( K_m + s \\right)}}{K_r + p}\n",
       "\\end{equation}\n",
       " $$"
      ],
      "text/plain": [
       "-((-kᵣ*p*r*((kᵣ*kₘ*p*r*s*v) / ((Kᵣ + p)*(Kₘ + s)))) / (Kᵣ + p))"
      ]
     },
     "metadata": {},
     "output_type": "display_data"
    }
   ],
   "source": [
    "detMin4 = Symbolics.det(Min4)\n"
   ]
  },
  {
   "cell_type": "code",
   "execution_count": 39,
   "metadata": {},
   "outputs": [
    {
     "data": {
      "text/latex": [
       "$$ \\begin{equation}\n",
       "0\n",
       "\\end{equation}\n",
       " $$"
      ],
      "text/plain": [
       "0"
      ]
     },
     "metadata": {},
     "output_type": "display_data"
    }
   ],
   "source": [
    "detMin5 = Symbolics.det(Min5)\n"
   ]
  },
  {
   "cell_type": "code",
   "execution_count": 40,
   "metadata": {},
   "outputs": [
    {
     "data": {
      "text/latex": [
       "$$ \\begin{equation}\n",
       " - \\frac{ - k_r p r \\frac{k_r p r \\left( \\frac{ - k_r p \\left( 1 + p \\right)}{K_r + p} + \\frac{ - k_m s}{K_m + s} \\right)}{K_r + p}}{K_r + p}\n",
       "\\end{equation}\n",
       " $$"
      ],
      "text/plain": [
       "-((-kᵣ*p*r*((kᵣ*p*r*((-kᵣ*p*(1 + p)) / (Kᵣ + p) + (-kₘ*s) / (Kₘ + s))) / (Kᵣ + p))) / (Kᵣ + p))"
      ]
     },
     "metadata": {},
     "output_type": "display_data"
    }
   ],
   "source": [
    "detMin6 = Symbolics.det(Min6)"
   ]
  },
  {
   "cell_type": "code",
   "execution_count": 45,
   "metadata": {},
   "outputs": [
    {
     "data": {
      "text/plain": [
       "\"rows, cols = size(R1)\\nrang = 0\\n\\nfor i in 1:(rows - 1)\\n    for j in 1:(cols - 1)\\n        mineure = R1[i:(i+1), j:(j+1)]\\n        determinant_mineure = Symbolics.det(mineure)\\n        \\n        if determinant_mineure != 0\\n            rang += 1\\n        end\\n    end\\nend\\n\\nprintln(\\\"Le rang de la matrice R1 est 0\\\")\\n\""
      ]
     },
     "metadata": {},
     "output_type": "display_data"
    }
   ],
   "source": [
    "\"\"\"\n",
    "rows, cols = size(R1)\n",
    "rang = 0\n",
    "\n",
    "for i in 1:(rows - 1)\n",
    "    for j in 1:(cols - 1)\n",
    "        mineure = R1[i:(i+1), j:(j+1)]\n",
    "        determinant_mineure = Symbolics.det(mineure)\n",
    "        \n",
    "        if determinant_mineure != 0\n",
    "            rang += 1\n",
    "        end\n",
    "    end\n",
    "end\n",
    "\n",
    "println(\"Le rang de la matrice R1 est $rang\")\n",
    "\"\"\""
   ]
  }
 ],
 "metadata": {
  "kernelspec": {
   "display_name": "Julia 1.9.3",
   "language": "julia",
   "name": "julia-1.9"
  },
  "language_info": {
   "file_extension": ".jl",
   "mimetype": "application/julia",
   "name": "julia",
   "version": "1.9.3"
  },
  "orig_nbformat": 4
 },
 "nbformat": 4,
 "nbformat_minor": 2
}
