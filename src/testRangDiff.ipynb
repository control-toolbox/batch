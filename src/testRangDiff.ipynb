{
 "cells": [
  {
   "cell_type": "code",
   "execution_count": 2,
   "metadata": {},
   "outputs": [
    {
     "data": {
      "text/latex": [
       "$$ \\begin{equation}\n",
       "\\left[\n",
       "\\begin{array}{c}\n",
       " - \\left( 1 - r \\right) v w_{m}\\left( s \\right) \\\\\n",
       "\\left( 1 - r \\right) w_{m}\\left( s \\right) - \\left( 1 + p \\right) r w_{r}\\left( p \\right) \\\\\n",
       " - r^{2} w_{r}\\left( p \\right) \\\\\n",
       "r v w_{r}\\left( p \\right) \\\\\n",
       "\\end{array}\n",
       "\\right]\n",
       "\\end{equation}\n",
       " $$"
      ],
      "text/plain": [
       "4-element Vector{Num}:\n",
       "                 -(1 - r)*v*w_m(s)\n",
       " (1 - r)*w_m(s) - (1 + p)*r*w_r(p)\n",
       "                     -(r^2)*w_r(p)\n",
       "                        r*v*w_r(p)"
      ]
     },
     "metadata": {},
     "output_type": "display_data"
    },
    {
     "data": {
      "text/latex": [
       "$$ \\begin{equation}\n",
       "\\left[\n",
       "\\begin{array}{c}\n",
       "0 \\\\\n",
       "0 \\\\\n",
       "r w_{r}\\left( p \\right) \\\\\n",
       "0 \\\\\n",
       "\\end{array}\n",
       "\\right]\n",
       "\\end{equation}\n",
       " $$"
      ],
      "text/plain": [
       "4-element Vector{Num}:\n",
       "        0\n",
       "        0\n",
       " r*w_r(p)\n",
       "        0"
      ]
     },
     "metadata": {},
     "output_type": "display_data"
    }
   ],
   "source": [
    "using Symbolics\n",
    "\n",
    "@variables s, p, r, v\n",
    "@variables w_m(s), w_r(p)\n",
    "\n",
    "F0 = [-w_m * (1-r)*v, w_m*(1-r) - w_r *r * (p+1), -w_r*r^2, w_r*r*v]\n",
    "F1 = [0, 0, w_r*r, 0]\n",
    "\n",
    "display(F0)\n",
    "display(F1)"
   ]
  },
  {
   "cell_type": "code",
   "execution_count": 9,
   "metadata": {},
   "outputs": [
    {
     "data": {
      "text/latex": [
       "$$ \\begin{equation}\n",
       "\\left[\n",
       "\\begin{array}{cccc}\n",
       "\\left( -1 + r \\right) v \\frac{\\mathrm{d} w_{m}\\left( s \\right)}{\\mathrm{d}s} & 0 & v w_{m}\\left( s \\right) & \\left( -1 + r \\right) w_{m}\\left( s \\right) \\\\\n",
       "\\left( 1 - r \\right) \\frac{\\mathrm{d} w_{m}\\left( s \\right)}{\\mathrm{d}s} &  - r w_{r}\\left( p \\right) + \\left( -1 - p \\right) r \\frac{\\mathrm{d} w_{r}\\left( p \\right)}{\\mathrm{d}p} &  - w_{m}\\left( s \\right) + \\left( -1 - p \\right) w_{r}\\left( p \\right) & 0 \\\\\n",
       "0 &  - r^{2} \\frac{\\mathrm{d} w_{r}\\left( p \\right)}{\\mathrm{d}p} &  - 2 r w_{r}\\left( p \\right) & 0 \\\\\n",
       "0 & r v \\frac{\\mathrm{d} w_{r}\\left( p \\right)}{\\mathrm{d}p} & v w_{r}\\left( p \\right) & r w_{r}\\left( p \\right) \\\\\n",
       "\\end{array}\n",
       "\\right]\n",
       "\\end{equation}\n",
       " $$"
      ],
      "text/plain": [
       "4×4 Matrix{Num}:\n",
       " (-1 + r)*v*Differential(s)(w_m(s))  …  (-1 + r)*w_m(s)\n",
       "    (1 - r)*Differential(s)(w_m(s))                   0\n",
       "             0                                        0\n",
       "             0                                 r*w_r(p)"
      ]
     },
     "metadata": {},
     "output_type": "display_data"
    },
    {
     "data": {
      "text/latex": [
       "$$ \\begin{equation}\n",
       "\\left[\n",
       "\\begin{array}{cccc}\n",
       "0 & 0 & 0 & 0 \\\\\n",
       "0 & 0 & 0 & 0 \\\\\n",
       "0 & r \\frac{\\mathrm{d} w_{r}\\left( p \\right)}{\\mathrm{d}p} & w_{r}\\left( p \\right) & 0 \\\\\n",
       "0 & 0 & 0 & 0 \\\\\n",
       "\\end{array}\n",
       "\\right]\n",
       "\\end{equation}\n",
       " $$"
      ],
      "text/plain": [
       "4×4 Matrix{Num}:\n",
       " 0     0                            0  0\n",
       " 0     0                            0  0\n",
       " 0  r*Differential(p)(w_r(p))  w_r(p)  0\n",
       " 0     0                            0  0"
      ]
     },
     "metadata": {},
     "output_type": "display_data"
    },
    {
     "data": {
      "text/latex": [
       "$$ \\begin{equation}\n",
       "\\left[\n",
       "\\begin{array}{c}\n",
       " - r v w_{r}\\left( p \\right) w_{m}\\left( s \\right) \\\\\n",
       " - \\left(  - w_{m}\\left( s \\right) + \\left( -1 - p \\right) w_{r}\\left( p \\right) \\right) r w_{r}\\left( p \\right) \\\\\n",
       "\\left( w_{r}\\left( p \\right) \\right)^{2} r^{2} + \\left( \\left( 1 - r \\right) w_{m}\\left( s \\right) - \\left( 1 + p \\right) r w_{r}\\left( p \\right) \\right) r \\frac{\\mathrm{d} w_{r}\\left( p \\right)}{\\mathrm{d}p} \\\\\n",
       " - \\left( w_{r}\\left( p \\right) \\right)^{2} r v \\\\\n",
       "\\end{array}\n",
       "\\right]\n",
       "\\end{equation}\n",
       " $$"
      ],
      "text/plain": [
       "4-element Vector{Num}:\n",
       "                                          -r*v*w_r(p)*w_m(s)\n",
       "                       -(-w_m(s) + (-1 - p)*w_r(p))*r*w_r(p)\n",
       " (r^2)*(w_r(p)^2) + ((1 - r)*w_m(s) - (1 + p)*r*w_r(p))*r*Differential(p)(w_r(p))\n",
       "                                             -r*v*(w_r(p)^2)"
      ]
     },
     "metadata": {},
     "output_type": "display_data"
    }
   ],
   "source": [
    "# Calcul du crochet de Lie de F0 et F1\n",
    "\n",
    "F0_prime = Symbolics.jacobian(F0, [s, p, r, v])\n",
    "F1_prime = Symbolics.jacobian(F1, [s, p, r, v])\n",
    "\n",
    "display(F0_prime)\n",
    "display(F1_prime)\n",
    "\n",
    "F01 = F1_prime * F0 - F0_prime * F1\n",
    "\n",
    "display(F01)"
   ]
  },
  {
   "cell_type": "code",
   "execution_count": 10,
   "metadata": {},
   "outputs": [
    {
     "data": {
      "text/latex": [
       "$$ \\begin{equation}\n",
       "\\left[\n",
       "\\begin{array}{c}\n",
       " - \\left( w_{r}\\left( p \\right) \\right)^{2} r v w_{m}\\left( s \\right) \\\\\n",
       "\\left( w_{r}\\left( p \\right) \\right)^{2} \\left( w_{m}\\left( s \\right) - \\left( -1 - p \\right) w_{r}\\left( p \\right) \\right) r \\\\\n",
       " - \\left( \\left( w_{r}\\left( p \\right) \\right)^{2} r^{2} + \\left( \\left( 1 - r \\right) w_{m}\\left( s \\right) - \\left( 1 + p \\right) r w_{r}\\left( p \\right) \\right) r \\frac{\\mathrm{d} w_{r}\\left( p \\right)}{\\mathrm{d}p} \\right) w_{r}\\left( p \\right) + \\left( 2 \\left( w_{r}\\left( p \\right) \\right)^{2} r + \\left( \\left( 1 - r \\right) w_{m}\\left( s \\right) + \\left( -1 - p \\right) r w_{r}\\left( p \\right) \\right) \\frac{\\mathrm{d} w_{r}\\left( p \\right)}{\\mathrm{d}p} + \\left(  - w_{m}\\left( s \\right) + \\left( -1 - p \\right) w_{r}\\left( p \\right) \\right) r \\frac{\\mathrm{d} w_{r}\\left( p \\right)}{\\mathrm{d}p} \\right) r w_{r}\\left( p \\right) + r^{2} \\left(  - w_{m}\\left( s \\right) + \\left( -1 - p \\right) w_{r}\\left( p \\right) \\right) w_{r}\\left( p \\right) \\frac{\\mathrm{d} w_{r}\\left( p \\right)}{\\mathrm{d}p} \\\\\n",
       " - \\left( w_{r}\\left( p \\right) \\right)^{3} r v \\\\\n",
       "\\end{array}\n",
       "\\right]\n",
       "\\end{equation}\n",
       " $$"
      ],
      "text/plain": [
       "4-element Vector{Num}:\n",
       "                                        -r*v*(w_r(p)^2)*w_m(s)\n",
       "                       (w_m(s) - (-1 - p)*w_r(p))*r*(w_r(p)^2)\n",
       " -((r^2)*(w_r(p)^2) + ((1 - r)*w_m(s) - (1 + p)*r*w_r(p))*r*Differential(p)(w_r(p)))*w_r(p) + (2r*(w_r(p)^2) + ((1 - r)*w_m(s) + (-1 - p)*r*w_r(p))*Differential(p)(w_r(p)) + (-w_m(s) + (-1 - p)*w_r(p))*r*Differential(p)(w_r(p)))*r*w_r(p) + (-w_m(s) + (-1 - p)*w_r(p))*(r^2)*w_r(p)*Differential(p)(w_r(p))\n",
       "                                               -r*v*(w_r(p)^3)"
      ]
     },
     "metadata": {},
     "output_type": "display_data"
    }
   ],
   "source": [
    "# Calcul du crochet de Lie de F1 et F01\n",
    "\n",
    "F01_prime = Symbolics.jacobian(F01, [s, p, r, v])\n",
    "\n",
    "F101 = F01_prime * F1 - F1_prime * F01\n",
    "\n",
    "display(F101)"
   ]
  },
  {
   "cell_type": "code",
   "execution_count": 11,
   "metadata": {},
   "outputs": [
    {
     "data": {
      "text/latex": [
       "$$ \\begin{equation}\n",
       "\\left[\n",
       "\\begin{array}{cc}\n",
       "0 &  - r v w_{r}\\left( p \\right) w_{m}\\left( s \\right) \\\\\n",
       "0 &  - \\left(  - w_{m}\\left( s \\right) + \\left( -1 - p \\right) w_{r}\\left( p \\right) \\right) r w_{r}\\left( p \\right) \\\\\n",
       "r w_{r}\\left( p \\right) & \\left( w_{r}\\left( p \\right) \\right)^{2} r^{2} + \\left( \\left( 1 - r \\right) w_{m}\\left( s \\right) - \\left( 1 + p \\right) r w_{r}\\left( p \\right) \\right) r \\frac{\\mathrm{d} w_{r}\\left( p \\right)}{\\mathrm{d}p} \\\\\n",
       "0 &  - \\left( w_{r}\\left( p \\right) \\right)^{2} r v \\\\\n",
       "\\end{array}\n",
       "\\right]\n",
       "\\end{equation}\n",
       " $$"
      ],
      "text/plain": [
       "4×2 Matrix{Num}:\n",
       "        0  …                                           -r*v*w_r(p)*w_m(s)\n",
       "        0                           -(-w_m(s) + (-1 - p)*w_r(p))*r*w_r(p)\n",
       " r*w_r(p)     (r^2)*(w_r(p)^2) + ((1 - r)*w_m(s) - (1 + p)*r*w_r(p))*r*Differential(p)(w_r(p))\n",
       "        0                                                 -r*v*(w_r(p)^2)"
      ]
     },
     "metadata": {},
     "output_type": "display_data"
    }
   ],
   "source": [
    "# Calcul du rang de la matrice F1 et F01 :\n",
    "mat_F1_F01 = [F1 F01]\n",
    "\n",
    "display(mat_F1_F01)"
   ]
  },
  {
   "cell_type": "code",
   "execution_count": 12,
   "metadata": {},
   "outputs": [
    {
     "data": {
      "text/latex": [
       "$$ \\begin{equation}\n",
       "\\left[\n",
       "\\begin{array}{cc}\n",
       "0 &  - r v w_{r}\\left( p \\right) w_{m}\\left( s \\right) \\\\\n",
       "0 &  - \\left(  - w_{m}\\left( s \\right) + \\left( -1 - p \\right) w_{r}\\left( p \\right) \\right) r w_{r}\\left( p \\right) \\\\\n",
       "\\end{array}\n",
       "\\right]\n",
       "\\end{equation}\n",
       " $$"
      ],
      "text/plain": [
       "2×2 Matrix{Num}:\n",
       " 0                     -r*v*w_r(p)*w_m(s)\n",
       " 0  -(-w_m(s) + (-1 - p)*w_r(p))*r*w_r(p)"
      ]
     },
     "metadata": {},
     "output_type": "display_data"
    },
    {
     "data": {
      "text/latex": [
       "$$ \\begin{equation}\n",
       "\\left[\n",
       "\\begin{array}{cc}\n",
       "0 &  - r v w_{r}\\left( p \\right) w_{m}\\left( s \\right) \\\\\n",
       "r w_{r}\\left( p \\right) & \\left( w_{r}\\left( p \\right) \\right)^{2} r^{2} + \\left( \\left( 1 - r \\right) w_{m}\\left( s \\right) - \\left( 1 + p \\right) r w_{r}\\left( p \\right) \\right) r \\frac{\\mathrm{d} w_{r}\\left( p \\right)}{\\mathrm{d}p} \\\\\n",
       "\\end{array}\n",
       "\\right]\n",
       "\\end{equation}\n",
       " $$"
      ],
      "text/plain": [
       "2×2 Matrix{Num}:\n",
       "        0  …                                           -r*v*w_r(p)*w_m(s)\n",
       " r*w_r(p)     (r^2)*(w_r(p)^2) + ((1 - r)*w_m(s) - (1 + p)*r*w_r(p))*r*Differential(p)(w_r(p))"
      ]
     },
     "metadata": {},
     "output_type": "display_data"
    },
    {
     "data": {
      "text/latex": [
       "$$ \\begin{equation}\n",
       "\\left[\n",
       "\\begin{array}{cc}\n",
       "0 &  - r v w_{r}\\left( p \\right) w_{m}\\left( s \\right) \\\\\n",
       "0 &  - \\left( w_{r}\\left( p \\right) \\right)^{2} r v \\\\\n",
       "\\end{array}\n",
       "\\right]\n",
       "\\end{equation}\n",
       " $$"
      ],
      "text/plain": [
       "2×2 Matrix{Num}:\n",
       " 0  -r*v*w_r(p)*w_m(s)\n",
       " 0     -r*v*(w_r(p)^2)"
      ]
     },
     "metadata": {},
     "output_type": "display_data"
    },
    {
     "data": {
      "text/latex": [
       "$$ \\begin{equation}\n",
       "\\left[\n",
       "\\begin{array}{cc}\n",
       "0 &  - \\left(  - w_{m}\\left( s \\right) + \\left( -1 - p \\right) w_{r}\\left( p \\right) \\right) r w_{r}\\left( p \\right) \\\\\n",
       "r w_{r}\\left( p \\right) & \\left( w_{r}\\left( p \\right) \\right)^{2} r^{2} + \\left( \\left( 1 - r \\right) w_{m}\\left( s \\right) - \\left( 1 + p \\right) r w_{r}\\left( p \\right) \\right) r \\frac{\\mathrm{d} w_{r}\\left( p \\right)}{\\mathrm{d}p} \\\\\n",
       "\\end{array}\n",
       "\\right]\n",
       "\\end{equation}\n",
       " $$"
      ],
      "text/plain": [
       "2×2 Matrix{Num}:\n",
       "        0  …                        -(-w_m(s) + (-1 - p)*w_r(p))*r*w_r(p)\n",
       " r*w_r(p)     (r^2)*(w_r(p)^2) + ((1 - r)*w_m(s) - (1 + p)*r*w_r(p))*r*Differential(p)(w_r(p))"
      ]
     },
     "metadata": {},
     "output_type": "display_data"
    },
    {
     "data": {
      "text/latex": [
       "$$ \\begin{equation}\n",
       "\\left[\n",
       "\\begin{array}{cc}\n",
       "0 &  - \\left(  - w_{m}\\left( s \\right) + \\left( -1 - p \\right) w_{r}\\left( p \\right) \\right) r w_{r}\\left( p \\right) \\\\\n",
       "0 &  - \\left( w_{r}\\left( p \\right) \\right)^{2} r v \\\\\n",
       "\\end{array}\n",
       "\\right]\n",
       "\\end{equation}\n",
       " $$"
      ],
      "text/plain": [
       "2×2 Matrix{Num}:\n",
       " 0  -(-w_m(s) + (-1 - p)*w_r(p))*r*w_r(p)\n",
       " 0                        -r*v*(w_r(p)^2)"
      ]
     },
     "metadata": {},
     "output_type": "display_data"
    },
    {
     "data": {
      "text/latex": [
       "$$ \\begin{equation}\n",
       "\\left[\n",
       "\\begin{array}{cc}\n",
       "r w_{r}\\left( p \\right) & \\left( w_{r}\\left( p \\right) \\right)^{2} r^{2} + \\left( \\left( 1 - r \\right) w_{m}\\left( s \\right) - \\left( 1 + p \\right) r w_{r}\\left( p \\right) \\right) r \\frac{\\mathrm{d} w_{r}\\left( p \\right)}{\\mathrm{d}p} \\\\\n",
       "0 &  - \\left( w_{r}\\left( p \\right) \\right)^{2} r v \\\\\n",
       "\\end{array}\n",
       "\\right]\n",
       "\\end{equation}\n",
       " $$"
      ],
      "text/plain": [
       "2×2 Matrix{Num}:\n",
       " r*w_r(p)  …  (r^2)*(w_r(p)^2) + ((1 - r)*w_m(s) - (1 + p)*r*w_r(p))*r*Differential(p)(w_r(p))\n",
       "        0                                                 -r*v*(w_r(p)^2)"
      ]
     },
     "metadata": {},
     "output_type": "display_data"
    }
   ],
   "source": [
    "# Sous matrice de mat_F1_F01\n",
    "sousDet1_F1_F01 = [mat_F1_F01[1] mat_F1_F01[5] ; mat_F1_F01[2] mat_F1_F01[6]]\n",
    "\n",
    "sousDet2_F1_F01 = [mat_F1_F01[1] mat_F1_F01[5] ; mat_F1_F01[3] mat_F1_F01[7]]\n",
    "\n",
    "sousDet3_F1_F01 = [mat_F1_F01[1] mat_F1_F01[5] ; mat_F1_F01[4] mat_F1_F01[8]]\n",
    "\n",
    "sousDet4_F1_F01 = [mat_F1_F01[2] mat_F1_F01[6] ; mat_F1_F01[3] mat_F1_F01[7]]\n",
    "\n",
    "sousDet5_F1_F01 = [mat_F1_F01[2] mat_F1_F01[6] ; mat_F1_F01[4] mat_F1_F01[8]]\n",
    "\n",
    "sousDet6_F1_F01 = [mat_F1_F01[3] mat_F1_F01[7] ; mat_F1_F01[4] mat_F1_F01[8]]\n",
    "\n",
    "display(sousDet1_F1_F01)\n",
    "display(sousDet2_F1_F01)\n",
    "display(sousDet3_F1_F01)\n",
    "display(sousDet4_F1_F01)\n",
    "display(sousDet5_F1_F01)\n",
    "display(sousDet6_F1_F01)"
   ]
  },
  {
   "cell_type": "code",
   "execution_count": 13,
   "metadata": {},
   "outputs": [
    {
     "data": {
      "text/latex": [
       "$$ \\begin{equation}\n",
       "0\n",
       "\\end{equation}\n",
       " $$"
      ],
      "text/plain": [
       "0"
      ]
     },
     "metadata": {},
     "output_type": "display_data"
    },
    {
     "data": {
      "text/latex": [
       "$$ \\begin{equation}\n",
       "\\left( w_{r}\\left( p \\right) \\right)^{2} r^{2} v w_{m}\\left( s \\right)\n",
       "\\end{equation}\n",
       " $$"
      ],
      "text/plain": [
       "(r^2)*v*(w_r(p)^2)*w_m(s)"
      ]
     },
     "metadata": {},
     "output_type": "display_data"
    },
    {
     "data": {
      "text/latex": [
       "$$ \\begin{equation}\n",
       "0\n",
       "\\end{equation}\n",
       " $$"
      ],
      "text/plain": [
       "0"
      ]
     },
     "metadata": {},
     "output_type": "display_data"
    },
    {
     "data": {
      "text/latex": [
       "$$ \\begin{equation}\n",
       "\\left( w_{r}\\left( p \\right) \\right)^{2} r^{2} \\left(  - w_{m}\\left( s \\right) + \\left( -1 - p \\right) w_{r}\\left( p \\right) \\right)\n",
       "\\end{equation}\n",
       " $$"
      ],
      "text/plain": [
       "(-w_m(s) + (-1 - p)*w_r(p))*(r^2)*(w_r(p)^2)"
      ]
     },
     "metadata": {},
     "output_type": "display_data"
    },
    {
     "data": {
      "text/latex": [
       "$$ \\begin{equation}\n",
       "0\n",
       "\\end{equation}\n",
       " $$"
      ],
      "text/plain": [
       "0"
      ]
     },
     "metadata": {},
     "output_type": "display_data"
    },
    {
     "data": {
      "text/latex": [
       "$$ \\begin{equation}\n",
       " - \\left( w_{r}\\left( p \\right) \\right)^{3} r^{2} v\n",
       "\\end{equation}\n",
       " $$"
      ],
      "text/plain": [
       "-(r^2)*v*(w_r(p)^3)"
      ]
     },
     "metadata": {},
     "output_type": "display_data"
    }
   ],
   "source": [
    "mineur1_F1_F01 = Symbolics.det(sousDet1_F1_F01)\n",
    "mineur2_F1_F01 = Symbolics.det(sousDet2_F1_F01)\n",
    "mineur3_F1_F01 = Symbolics.det(sousDet3_F1_F01)\n",
    "mineur4_F1_F01 = Symbolics.det(sousDet4_F1_F01)\n",
    "mineur5_F1_F01 = Symbolics.det(sousDet5_F1_F01)\n",
    "mineur6_F1_F01 = Symbolics.det(sousDet6_F1_F01)\n",
    "\n",
    "display(mineur1_F1_F01)\n",
    "display(mineur2_F1_F01)\n",
    "display(mineur3_F1_F01)\n",
    "display(mineur4_F1_F01)\n",
    "display(mineur5_F1_F01)\n",
    "display(mineur6_F1_F01)"
   ]
  },
  {
   "cell_type": "code",
   "execution_count": 14,
   "metadata": {},
   "outputs": [
    {
     "data": {
      "text/latex": [
       "$$ \\begin{equation}\n",
       "\\left[\n",
       "\\begin{array}{ccc}\n",
       "0 &  - r v w_{r}\\left( p \\right) w_{m}\\left( s \\right) &  - \\left( w_{r}\\left( p \\right) \\right)^{2} r v w_{m}\\left( s \\right) \\\\\n",
       "0 &  - \\left(  - w_{m}\\left( s \\right) + \\left( -1 - p \\right) w_{r}\\left( p \\right) \\right) r w_{r}\\left( p \\right) & \\left( w_{r}\\left( p \\right) \\right)^{2} \\left( w_{m}\\left( s \\right) - \\left( -1 - p \\right) w_{r}\\left( p \\right) \\right) r \\\\\n",
       "r w_{r}\\left( p \\right) & \\left( w_{r}\\left( p \\right) \\right)^{2} r^{2} + \\left( \\left( 1 - r \\right) w_{m}\\left( s \\right) - \\left( 1 + p \\right) r w_{r}\\left( p \\right) \\right) r \\frac{\\mathrm{d} w_{r}\\left( p \\right)}{\\mathrm{d}p} &  - \\left( \\left( w_{r}\\left( p \\right) \\right)^{2} r^{2} + \\left( \\left( 1 - r \\right) w_{m}\\left( s \\right) - \\left( 1 + p \\right) r w_{r}\\left( p \\right) \\right) r \\frac{\\mathrm{d} w_{r}\\left( p \\right)}{\\mathrm{d}p} \\right) w_{r}\\left( p \\right) + \\left( 2 \\left( w_{r}\\left( p \\right) \\right)^{2} r + \\left( \\left( 1 - r \\right) w_{m}\\left( s \\right) + \\left( -1 - p \\right) r w_{r}\\left( p \\right) \\right) \\frac{\\mathrm{d} w_{r}\\left( p \\right)}{\\mathrm{d}p} + \\left(  - w_{m}\\left( s \\right) + \\left( -1 - p \\right) w_{r}\\left( p \\right) \\right) r \\frac{\\mathrm{d} w_{r}\\left( p \\right)}{\\mathrm{d}p} \\right) r w_{r}\\left( p \\right) + r^{2} \\left(  - w_{m}\\left( s \\right) + \\left( -1 - p \\right) w_{r}\\left( p \\right) \\right) w_{r}\\left( p \\right) \\frac{\\mathrm{d} w_{r}\\left( p \\right)}{\\mathrm{d}p} \\\\\n",
       "0 &  - \\left( w_{r}\\left( p \\right) \\right)^{2} r v &  - \\left( w_{r}\\left( p \\right) \\right)^{3} r v \\\\\n",
       "\\end{array}\n",
       "\\right]\n",
       "\\end{equation}\n",
       " $$"
      ],
      "text/plain": [
       "4×3 Matrix{Num}:\n",
       "        0  …                                         -r*v*(w_r(p)^2)*w_m(s)\n",
       "        0                           (w_m(s) - (-1 - p)*w_r(p))*r*(w_r(p)^2)\n",
       " r*w_r(p)     -((r^2)*(w_r(p)^2) + ((1 - r)*w_m(s) - (1 + p)*r*w_r(p))*r*Differential(p)(w_r(p)))*w_r(p) + (2r*(w_r(p)^2) + ((1 - r)*w_m(s) + (-1 - p)*r*w_r(p))*Differential(p)(w_r(p)) + (-w_m(s) + (-1 - p)*w_r(p))*r*Differential(p)(w_r(p)))*r*w_r(p) + (-w_m(s) + (-1 - p)*w_r(p))*(r^2)*w_r(p)*Differential(p)(w_r(p))\n",
       "        0                                                   -r*v*(w_r(p)^3)"
      ]
     },
     "metadata": {},
     "output_type": "display_data"
    }
   ],
   "source": [
    "# Calcul du rang de la matrice F1 F01 et F101\n",
    "mat_F1_F01_F101 = [F1 F01 F101]\n",
    "\n",
    "display(mat_F1_F01_F101)"
   ]
  },
  {
   "cell_type": "code",
   "execution_count": 15,
   "metadata": {},
   "outputs": [
    {
     "data": {
      "text/latex": [
       "$$ \\begin{equation}\n",
       "\\left[\n",
       "\\begin{array}{ccc}\n",
       "0 &  - r v w_{r}\\left( p \\right) w_{m}\\left( s \\right) &  - \\left( w_{r}\\left( p \\right) \\right)^{2} r v w_{m}\\left( s \\right) \\\\\n",
       "0 &  - \\left(  - w_{m}\\left( s \\right) + \\left( -1 - p \\right) w_{r}\\left( p \\right) \\right) r w_{r}\\left( p \\right) & \\left( w_{r}\\left( p \\right) \\right)^{2} \\left( w_{m}\\left( s \\right) - \\left( -1 - p \\right) w_{r}\\left( p \\right) \\right) r \\\\\n",
       "r w_{r}\\left( p \\right) & \\left( w_{r}\\left( p \\right) \\right)^{2} r^{2} + \\left( \\left( 1 - r \\right) w_{m}\\left( s \\right) - \\left( 1 + p \\right) r w_{r}\\left( p \\right) \\right) r \\frac{\\mathrm{d} w_{r}\\left( p \\right)}{\\mathrm{d}p} &  - \\left( \\left( w_{r}\\left( p \\right) \\right)^{2} r^{2} + \\left( \\left( 1 - r \\right) w_{m}\\left( s \\right) - \\left( 1 + p \\right) r w_{r}\\left( p \\right) \\right) r \\frac{\\mathrm{d} w_{r}\\left( p \\right)}{\\mathrm{d}p} \\right) w_{r}\\left( p \\right) + \\left( 2 \\left( w_{r}\\left( p \\right) \\right)^{2} r + \\left( \\left( 1 - r \\right) w_{m}\\left( s \\right) + \\left( -1 - p \\right) r w_{r}\\left( p \\right) \\right) \\frac{\\mathrm{d} w_{r}\\left( p \\right)}{\\mathrm{d}p} + \\left(  - w_{m}\\left( s \\right) + \\left( -1 - p \\right) w_{r}\\left( p \\right) \\right) r \\frac{\\mathrm{d} w_{r}\\left( p \\right)}{\\mathrm{d}p} \\right) r w_{r}\\left( p \\right) + r^{2} \\left(  - w_{m}\\left( s \\right) + \\left( -1 - p \\right) w_{r}\\left( p \\right) \\right) w_{r}\\left( p \\right) \\frac{\\mathrm{d} w_{r}\\left( p \\right)}{\\mathrm{d}p} \\\\\n",
       "\\end{array}\n",
       "\\right]\n",
       "\\end{equation}\n",
       " $$"
      ],
      "text/plain": [
       "3×3 Matrix{Num}:\n",
       "        0  …                                         -r*v*(w_r(p)^2)*w_m(s)\n",
       "        0                           (w_m(s) - (-1 - p)*w_r(p))*r*(w_r(p)^2)\n",
       " r*w_r(p)     -((r^2)*(w_r(p)^2) + ((1 - r)*w_m(s) - (1 + p)*r*w_r(p))*r*Differential(p)(w_r(p)))*w_r(p) + (2r*(w_r(p)^2) + ((1 - r)*w_m(s) + (-1 - p)*r*w_r(p))*Differential(p)(w_r(p)) + (-w_m(s) + (-1 - p)*w_r(p))*r*Differential(p)(w_r(p)))*r*w_r(p) + (-w_m(s) + (-1 - p)*w_r(p))*(r^2)*w_r(p)*Differential(p)(w_r(p))"
      ]
     },
     "metadata": {},
     "output_type": "display_data"
    },
    {
     "data": {
      "text/latex": [
       "$$ \\begin{equation}\n",
       "\\left[\n",
       "\\begin{array}{ccc}\n",
       "0 &  - r v w_{r}\\left( p \\right) w_{m}\\left( s \\right) &  - \\left( w_{r}\\left( p \\right) \\right)^{2} r v w_{m}\\left( s \\right) \\\\\n",
       "0 &  - \\left(  - w_{m}\\left( s \\right) + \\left( -1 - p \\right) w_{r}\\left( p \\right) \\right) r w_{r}\\left( p \\right) & \\left( w_{r}\\left( p \\right) \\right)^{2} \\left( w_{m}\\left( s \\right) - \\left( -1 - p \\right) w_{r}\\left( p \\right) \\right) r \\\\\n",
       "0 &  - \\left( w_{r}\\left( p \\right) \\right)^{2} r v &  - \\left( w_{r}\\left( p \\right) \\right)^{3} r v \\\\\n",
       "\\end{array}\n",
       "\\right]\n",
       "\\end{equation}\n",
       " $$"
      ],
      "text/plain": [
       "3×3 Matrix{Num}:\n",
       " 0  …                   -r*v*(w_r(p)^2)*w_m(s)\n",
       " 0     (w_m(s) - (-1 - p)*w_r(p))*r*(w_r(p)^2)\n",
       " 0                             -r*v*(w_r(p)^3)"
      ]
     },
     "metadata": {},
     "output_type": "display_data"
    },
    {
     "data": {
      "text/latex": [
       "$$ \\begin{equation}\n",
       "\\left[\n",
       "\\begin{array}{ccc}\n",
       "0 &  - r v w_{r}\\left( p \\right) w_{m}\\left( s \\right) &  - \\left( w_{r}\\left( p \\right) \\right)^{2} r v w_{m}\\left( s \\right) \\\\\n",
       "r w_{r}\\left( p \\right) & \\left( w_{r}\\left( p \\right) \\right)^{2} r^{2} + \\left( \\left( 1 - r \\right) w_{m}\\left( s \\right) - \\left( 1 + p \\right) r w_{r}\\left( p \\right) \\right) r \\frac{\\mathrm{d} w_{r}\\left( p \\right)}{\\mathrm{d}p} &  - \\left( \\left( w_{r}\\left( p \\right) \\right)^{2} r^{2} + \\left( \\left( 1 - r \\right) w_{m}\\left( s \\right) - \\left( 1 + p \\right) r w_{r}\\left( p \\right) \\right) r \\frac{\\mathrm{d} w_{r}\\left( p \\right)}{\\mathrm{d}p} \\right) w_{r}\\left( p \\right) + \\left( 2 \\left( w_{r}\\left( p \\right) \\right)^{2} r + \\left( \\left( 1 - r \\right) w_{m}\\left( s \\right) + \\left( -1 - p \\right) r w_{r}\\left( p \\right) \\right) \\frac{\\mathrm{d} w_{r}\\left( p \\right)}{\\mathrm{d}p} + \\left(  - w_{m}\\left( s \\right) + \\left( -1 - p \\right) w_{r}\\left( p \\right) \\right) r \\frac{\\mathrm{d} w_{r}\\left( p \\right)}{\\mathrm{d}p} \\right) r w_{r}\\left( p \\right) + r^{2} \\left(  - w_{m}\\left( s \\right) + \\left( -1 - p \\right) w_{r}\\left( p \\right) \\right) w_{r}\\left( p \\right) \\frac{\\mathrm{d} w_{r}\\left( p \\right)}{\\mathrm{d}p} \\\\\n",
       "0 &  - \\left( w_{r}\\left( p \\right) \\right)^{2} r v &  - \\left( w_{r}\\left( p \\right) \\right)^{3} r v \\\\\n",
       "\\end{array}\n",
       "\\right]\n",
       "\\end{equation}\n",
       " $$"
      ],
      "text/plain": [
       "3×3 Matrix{Num}:\n",
       "        0  …                                         -r*v*(w_r(p)^2)*w_m(s)\n",
       " r*w_r(p)     -((r^2)*(w_r(p)^2) + ((1 - r)*w_m(s) - (1 + p)*r*w_r(p))*r*Differential(p)(w_r(p)))*w_r(p) + (2r*(w_r(p)^2) + ((1 - r)*w_m(s) + (-1 - p)*r*w_r(p))*Differential(p)(w_r(p)) + (-w_m(s) + (-1 - p)*w_r(p))*r*Differential(p)(w_r(p)))*r*w_r(p) + (-w_m(s) + (-1 - p)*w_r(p))*(r^2)*w_r(p)*Differential(p)(w_r(p))\n",
       "        0                                                   -r*v*(w_r(p)^3)"
      ]
     },
     "metadata": {},
     "output_type": "display_data"
    },
    {
     "data": {
      "text/latex": [
       "$$ \\begin{equation}\n",
       "\\left[\n",
       "\\begin{array}{ccc}\n",
       "0 &  - \\left(  - w_{m}\\left( s \\right) + \\left( -1 - p \\right) w_{r}\\left( p \\right) \\right) r w_{r}\\left( p \\right) & \\left( w_{r}\\left( p \\right) \\right)^{2} \\left( w_{m}\\left( s \\right) - \\left( -1 - p \\right) w_{r}\\left( p \\right) \\right) r \\\\\n",
       "r w_{r}\\left( p \\right) & \\left( w_{r}\\left( p \\right) \\right)^{2} r^{2} + \\left( \\left( 1 - r \\right) w_{m}\\left( s \\right) - \\left( 1 + p \\right) r w_{r}\\left( p \\right) \\right) r \\frac{\\mathrm{d} w_{r}\\left( p \\right)}{\\mathrm{d}p} &  - \\left( \\left( w_{r}\\left( p \\right) \\right)^{2} r^{2} + \\left( \\left( 1 - r \\right) w_{m}\\left( s \\right) - \\left( 1 + p \\right) r w_{r}\\left( p \\right) \\right) r \\frac{\\mathrm{d} w_{r}\\left( p \\right)}{\\mathrm{d}p} \\right) w_{r}\\left( p \\right) + \\left( 2 \\left( w_{r}\\left( p \\right) \\right)^{2} r + \\left( \\left( 1 - r \\right) w_{m}\\left( s \\right) + \\left( -1 - p \\right) r w_{r}\\left( p \\right) \\right) \\frac{\\mathrm{d} w_{r}\\left( p \\right)}{\\mathrm{d}p} + \\left(  - w_{m}\\left( s \\right) + \\left( -1 - p \\right) w_{r}\\left( p \\right) \\right) r \\frac{\\mathrm{d} w_{r}\\left( p \\right)}{\\mathrm{d}p} \\right) r w_{r}\\left( p \\right) + r^{2} \\left(  - w_{m}\\left( s \\right) + \\left( -1 - p \\right) w_{r}\\left( p \\right) \\right) w_{r}\\left( p \\right) \\frac{\\mathrm{d} w_{r}\\left( p \\right)}{\\mathrm{d}p} \\\\\n",
       "0 &  - \\left( w_{r}\\left( p \\right) \\right)^{2} r v &  - \\left( w_{r}\\left( p \\right) \\right)^{3} r v \\\\\n",
       "\\end{array}\n",
       "\\right]\n",
       "\\end{equation}\n",
       " $$"
      ],
      "text/plain": [
       "3×3 Matrix{Num}:\n",
       "        0  …                        (w_m(s) - (-1 - p)*w_r(p))*r*(w_r(p)^2)\n",
       " r*w_r(p)     -((r^2)*(w_r(p)^2) + ((1 - r)*w_m(s) - (1 + p)*r*w_r(p))*r*Differential(p)(w_r(p)))*w_r(p) + (2r*(w_r(p)^2) + ((1 - r)*w_m(s) + (-1 - p)*r*w_r(p))*Differential(p)(w_r(p)) + (-w_m(s) + (-1 - p)*w_r(p))*r*Differential(p)(w_r(p)))*r*w_r(p) + (-w_m(s) + (-1 - p)*w_r(p))*(r^2)*w_r(p)*Differential(p)(w_r(p))\n",
       "        0                                                   -r*v*(w_r(p)^3)"
      ]
     },
     "metadata": {},
     "output_type": "display_data"
    }
   ],
   "source": [
    "# Sous matrice de mat2\n",
    "sousDet1_F1_F01_F101 = [mat_F1_F01_F101[1] mat_F1_F01_F101[5] mat_F1_F01_F101[9] ; mat_F1_F01_F101[2] mat_F1_F01_F101[6] mat_F1_F01_F101[10] ; mat_F1_F01_F101[3] mat_F1_F01_F101[7] mat_F1_F01_F101[11]]\n",
    "\n",
    "sousDet2_F1_F01_F101 = [mat_F1_F01_F101[1] mat_F1_F01_F101[5] mat_F1_F01_F101[9] ; mat_F1_F01_F101[2] mat_F1_F01_F101[6] mat_F1_F01_F101[10] ; mat_F1_F01_F101[4] mat_F1_F01_F101[8] mat_F1_F01_F101[12]]\n",
    "\n",
    "sousDet3_F1_F01_F101 = [mat_F1_F01_F101[1] mat_F1_F01_F101[5] mat_F1_F01_F101[9] ; mat_F1_F01_F101[3] mat_F1_F01_F101[7] mat_F1_F01_F101[11] ; mat_F1_F01_F101[4] mat_F1_F01_F101[8] mat_F1_F01_F101[12]]\n",
    "\n",
    "sousDet4_F1_F01_F101 = [mat_F1_F01_F101[2] mat_F1_F01_F101[6] mat_F1_F01_F101[10] ; mat_F1_F01_F101[3] mat_F1_F01_F101[7] mat_F1_F01_F101[11] ; mat_F1_F01_F101[4] mat_F1_F01_F101[8] mat_F1_F01_F101[12]]\n",
    "\n",
    "display(sousDet1_F1_F01_F101)\n",
    "display(sousDet2_F1_F01_F101)\n",
    "display(sousDet3_F1_F01_F101)\n",
    "display(sousDet4_F1_F01_F101)"
   ]
  },
  {
   "cell_type": "code",
   "execution_count": 16,
   "metadata": {},
   "outputs": [
    {
     "data": {
      "text/latex": [
       "$$ \\begin{equation}\n",
       " - \\left( w_{r}\\left( p \\right) \\right)^{4} r^{3} \\left( w_{m}\\left( s \\right) - \\left( -1 - p \\right) w_{r}\\left( p \\right) \\right) v w_{m}\\left( s \\right) - \\left( w_{r}\\left( p \\right) \\right)^{4} r^{3} \\left(  - w_{m}\\left( s \\right) + \\left( -1 - p \\right) w_{r}\\left( p \\right) \\right) v w_{m}\\left( s \\right)\n",
       "\\end{equation}\n",
       " $$"
      ],
      "text/plain": [
       "-(w_m(s) - (-1 - p)*w_r(p))*(r^3)*v*(w_r(p)^4)*w_m(s) - (-w_m(s) + (-1 - p)*w_r(p))*(r^3)*v*(w_r(p)^4)*w_m(s)"
      ]
     },
     "metadata": {},
     "output_type": "display_data"
    },
    {
     "data": {
      "text/latex": [
       "$$ \\begin{equation}\n",
       "0\n",
       "\\end{equation}\n",
       " $$"
      ],
      "text/plain": [
       "0"
      ]
     },
     "metadata": {},
     "output_type": "display_data"
    },
    {
     "data": {
      "text/latex": [
       "$$ \\begin{equation}\n",
       "0\n",
       "\\end{equation}\n",
       " $$"
      ],
      "text/plain": [
       "0"
      ]
     },
     "metadata": {},
     "output_type": "display_data"
    },
    {
     "data": {
      "text/latex": [
       "$$ \\begin{equation}\n",
       " - \\left( w_{r}\\left( p \\right) \\right)^{5} r^{3} \\left(  - w_{m}\\left( s \\right) + \\left( -1 - p \\right) w_{r}\\left( p \\right) \\right) v - \\left( w_{r}\\left( p \\right) \\right)^{5} r^{3} \\left( w_{m}\\left( s \\right) - \\left( -1 - p \\right) w_{r}\\left( p \\right) \\right) v\n",
       "\\end{equation}\n",
       " $$"
      ],
      "text/plain": [
       "-(-w_m(s) + (-1 - p)*w_r(p))*(r^3)*v*(w_r(p)^5) - (w_m(s) - (-1 - p)*w_r(p))*(r^3)*v*(w_r(p)^5)"
      ]
     },
     "metadata": {},
     "output_type": "display_data"
    }
   ],
   "source": [
    "mineur1_F1_F01_F101 = Symbolics.det(sousDet1_F1_F01_F101)\n",
    "mineur2_F1_F01_F101 = Symbolics.det(sousDet2_F1_F01_F101)\n",
    "mineur3_F1_F01_F101 = Symbolics.det(sousDet3_F1_F01_F101)\n",
    "mineur4_F1_F01_F101 = Symbolics.det(sousDet4_F1_F01_F101)\n",
    "\n",
    "display(mineur1_F1_F01_F101)\n",
    "display(mineur2_F1_F01_F101)\n",
    "display(mineur3_F1_F01_F101)\n",
    "display(mineur4_F1_F01_F101)"
   ]
  }
 ],
 "metadata": {
  "kernelspec": {
   "display_name": "Julia 1.9.3",
   "language": "julia",
   "name": "julia-1.9"
  },
  "language_info": {
   "file_extension": ".jl",
   "mimetype": "application/julia",
   "name": "julia",
   "version": "1.9.3"
  }
 },
 "nbformat": 4,
 "nbformat_minor": 2
}
