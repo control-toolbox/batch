{
 "cells": [
  {
   "cell_type": "code",
   "execution_count": 2,
   "metadata": {},
   "outputs": [
    {
     "data": {
      "text/latex": [
       "$$ \\begin{equation}\n",
       "\\left[\n",
       "\\begin{array}{c}\n",
       " - \\left( 1 - r \\right) v \\frac{k_m s}{K_m + s} \\\\\n",
       "\\frac{ - k_r p \\left( 1 + p \\right) r}{K_r + p} + \\frac{k_m \\left( 1 - r \\right) s}{K_m + s} \\\\\n",
       " - r^{2} \\frac{k_r p}{K_r + p} \\\\\n",
       "\\frac{k_r p r v}{K_r + p} \\\\\n",
       "\\end{array}\n",
       "\\right]\n",
       "\\end{equation}\n",
       " $$"
      ],
      "text/plain": [
       "4-element Vector{Num}:\n",
       "                           -(1 - r)*v*((kₘ*s) / (Kₘ + s))\n",
       " (-kᵣ*p*(1 + p)*r) / (Kᵣ + p) + (kₘ*(1 - r)*s) / (Kₘ + s)\n",
       "                               -(r^2)*((kᵣ*p) / (Kᵣ + p))\n",
       "                                    (kᵣ*p*r*v) / (Kᵣ + p)"
      ]
     },
     "metadata": {},
     "output_type": "display_data"
    },
    {
     "data": {
      "text/latex": [
       "$$ \\begin{equation}\n",
       "\\left[\n",
       "\\begin{array}{c}\n",
       "0 \\\\\n",
       "0 \\\\\n",
       "\\frac{k_r p r}{K_r + p} \\\\\n",
       "0 \\\\\n",
       "\\end{array}\n",
       "\\right]\n",
       "\\end{equation}\n",
       " $$"
      ],
      "text/plain": [
       "4-element Vector{Num}:\n",
       "                   0\n",
       "                   0\n",
       " (kᵣ*p*r) / (Kᵣ + p)\n",
       "                   0"
      ]
     },
     "metadata": {},
     "output_type": "display_data"
    }
   ],
   "source": [
    "using Symbolics\n",
    "\n",
    "#@variables s, p, r, v, k_r, k_m, K_r, K_m\n",
    "\n",
    "#w_r = cos(p)\n",
    "#w_m = 1+s\n",
    "\n",
    "@variables s, p, r, v, kᵣ, kₘ, Kᵣ, Kₘ\n",
    "wᵣ(p) = kᵣ *p / (Kᵣ + p)\n",
    "wₘ(s) = kₘ *s / (Kₘ + s)\n",
    "\n",
    "#F0 = [-wₘ(s) * (1-r)*v, wₘ(s)*(1-r) - wᵣ(p) *r * (p+1), -wᵣ(p)*r^2, wᵣ(p)*r*v]\n",
    "\n",
    "F0 = [-wₘ(s) * (1-r)*v, wₘ(s)*(1-r) - wᵣ(p) *r * (p+1), -wᵣ(p)*r^2, wᵣ(p)*r*v]\n",
    "F1 = [0, 0, wᵣ(p)*r, 0]\n",
    "\n",
    "display(F0)\n",
    "display(F1)"
   ]
  },
  {
   "cell_type": "code",
   "execution_count": 3,
   "metadata": {},
   "outputs": [
    {
     "data": {
      "text/latex": [
       "$$ \\begin{equation}\n",
       "\\left[\n",
       "\\begin{array}{c}\n",
       " - \\frac{k_r k_m p r s v}{\\left( K_r + p \\right) \\left( K_m + s \\right)} \\\\\n",
       " - \\frac{k_r p r \\left( \\frac{ - k_r p \\left( 1 + p \\right)}{K_r + p} + \\frac{ - k_m s}{K_m + s} \\right)}{K_r + p} \\\\\n",
       "\\frac{2 r^{2} p^{2} k_r^{2}}{\\left( K_r + p \\right)^{2}} + \\frac{ - r^{2} k_r p \\frac{k_r p}{K_r + p}}{K_r + p} + \\left( \\frac{k_r r}{K_r + p} + \\frac{ - k_r p r}{\\left( K_r + p \\right)^{2}} \\right) \\left( \\frac{ - k_r p \\left( 1 + p \\right) r}{K_r + p} + \\frac{k_m \\left( 1 - r \\right) s}{K_m + s} \\right) \\\\\n",
       " - \\frac{p^{2} k_r^{2} r v}{\\left( K_r + p \\right)^{2}} \\\\\n",
       "\\end{array}\n",
       "\\right]\n",
       "\\end{equation}\n",
       " $$"
      ],
      "text/plain": [
       "4-element Vector{Num}:\n",
       "                                                                                                                                                        -((kᵣ*kₘ*p*r*s*v) / ((Kᵣ + p)*(Kₘ + s)))\n",
       "                                                                                                                        -((kᵣ*p*r*((-kᵣ*p*(1 + p)) / (Kᵣ + p) + (-kₘ*s) / (Kₘ + s))) / (Kᵣ + p))\n",
       " (2(kᵣ^2)*(p^2)*(r^2)) / ((Kᵣ + p)^2) + (-kᵣ*p*(r^2)*((kᵣ*p) / (Kᵣ + p))) / (Kᵣ + p) + ((kᵣ*r) / (Kᵣ + p) + (-kᵣ*p*r) / ((Kᵣ + p)^2))*((-kᵣ*p*(1 + p)*r) / (Kᵣ + p) + (kₘ*(1 - r)*s) / (Kₘ + s))\n",
       "                                                                                                                                                            -(((kᵣ^2)*(p^2)*r*v) / ((Kᵣ + p)^2))"
      ]
     },
     "metadata": {},
     "output_type": "display_data"
    }
   ],
   "source": [
    "# Calcul du crochet de Lie de F0 et F1\n",
    "\n",
    "F0_prime = Symbolics.jacobian(F0, [s, p, r, v])\n",
    "F1_prime = Symbolics.jacobian(F1, [s, p, r, v])\n",
    "\n",
    "F01 = F1_prime * F0 - F0_prime * F1\n",
    "\n",
    "display(F01)"
   ]
  },
  {
   "cell_type": "code",
   "execution_count": 4,
   "metadata": {},
   "outputs": [
    {
     "data": {
      "text/latex": [
       "$$ \\begin{equation}\n",
       "\\left[\n",
       "\\begin{array}{c}\n",
       "\\frac{ - p^{2} k_r^{2} k_m r s v}{\\left( K_r + p \\right)^{2} \\left( K_m + s \\right)} \\\\\n",
       "\\frac{ - p^{2} k_r^{2} r \\left( \\frac{ - k_r p \\left( 1 + p \\right)}{K_r + p} + \\frac{ - k_m s}{K_m + s} \\right)}{\\left( K_r + p \\right)^{2}} \\\\\n",
       "\\frac{ - k_r p \\left( \\frac{2 r^{2} p^{2} k_r^{2}}{\\left( K_r + p \\right)^{2}} + \\frac{ - r^{2} k_r p \\frac{k_r p}{K_r + p}}{K_r + p} + \\left( \\frac{k_r r}{K_r + p} + \\frac{ - k_r p r}{\\left( K_r + p \\right)^{2}} \\right) \\left( \\frac{ - k_r p \\left( 1 + p \\right) r}{K_r + p} + \\frac{k_m \\left( 1 - r \\right) s}{K_m + s} \\right) \\right)}{K_r + p} + \\frac{k_r p r \\left( \\frac{4 p^{2} k_r^{2} r}{\\left( K_r + p \\right)^{2}} + \\frac{ - 2 p^{2} k_r^{2} r}{\\left( K_r + p \\right)^{2}} + \\left( \\frac{k_r r}{K_r + p} + \\frac{ - k_r p r}{\\left( K_r + p \\right)^{2}} \\right) \\left( \\frac{ - k_r p \\left( 1 + p \\right)}{K_r + p} + \\frac{ - k_m s}{K_m + s} \\right) + \\left( \\frac{ - k_r p \\left( 1 + p \\right) r}{K_r + p} + \\frac{k_m \\left( 1 - r \\right) s}{K_m + s} \\right) \\left( \\frac{k_r}{K_r + p} + \\frac{ - k_r p}{\\left( K_r + p \\right)^{2}} \\right) \\right)}{K_r + p} + \\left( \\frac{k_r r}{K_r + p} + \\frac{ - k_r p r}{\\left( K_r + p \\right)^{2}} \\right) \\frac{k_r p r \\left( \\frac{ - k_r p \\left( 1 + p \\right)}{K_r + p} + \\frac{ - k_m s}{K_m + s} \\right)}{K_r + p} \\\\\n",
       "\\frac{ - p^{3} k_r^{3} r v}{\\left( K_r + p \\right)^{3}} \\\\\n",
       "\\end{array}\n",
       "\\right]\n",
       "\\end{equation}\n",
       " $$"
      ],
      "text/plain": [
       "4-element Vector{Num}:\n",
       "                                                                                                                                                                                                                                                                                                                                                                                                                                                                                                                                                                                                  (-(kᵣ^2)*kₘ*(p^2)*r*s*v) / (((Kᵣ + p)^2)*(Kₘ + s))\n",
       "                                                                                                                                                                                                                                                                                                                                                                                                                                                                                                                                                                  (-(kᵣ^2)*(p^2)*r*((-kᵣ*p*(1 + p)) / (Kᵣ + p) + (-kₘ*s) / (Kₘ + s))) / ((Kᵣ + p)^2)\n",
       " (-kᵣ*p*((2(kᵣ^2)*(p^2)*(r^2)) / ((Kᵣ + p)^2) + (-kᵣ*p*(r^2)*((kᵣ*p) / (Kᵣ + p))) / (Kᵣ + p) + ((kᵣ*r) / (Kᵣ + p) + (-kᵣ*p*r) / ((Kᵣ + p)^2))*((-kᵣ*p*(1 + p)*r) / (Kᵣ + p) + (kₘ*(1 - r)*s) / (Kₘ + s)))) / (Kᵣ + p) + (kᵣ*p*r*((4(kᵣ^2)*(p^2)*r) / ((Kᵣ + p)^2) + (-2(kᵣ^2)*(p^2)*r) / ((Kᵣ + p)^2) + ((kᵣ*r) / (Kᵣ + p) + (-kᵣ*p*r) / ((Kᵣ + p)^2))*((-kᵣ*p*(1 + p)) / (Kᵣ + p) + (-kₘ*s) / (Kₘ + s)) + ((-kᵣ*p*(1 + p)*r) / (Kᵣ + p) + (kₘ*(1 - r)*s) / (Kₘ + s))*(kᵣ / (Kᵣ + p) + (-kᵣ*p) / ((Kᵣ + p)^2)))) / (Kᵣ + p) + ((kᵣ*r) / (Kᵣ + p) + (-kᵣ*p*r) / ((Kᵣ + p)^2))*((kᵣ*p*r*((-kᵣ*p*(1 + p)) / (Kᵣ + p) + (-kₘ*s) / (Kₘ + s))) / (Kᵣ + p))\n",
       "                                                                                                                                                                                                                                                                                                                                                                                                                                                                                                                                                                                                                  (-(kᵣ^3)*(p^3)*r*v) / ((Kᵣ + p)^3)"
      ]
     },
     "metadata": {},
     "output_type": "display_data"
    },
    {
     "data": {
      "text/latex": [
       "$$ \\begin{equation}\n",
       "\\left[\n",
       "\\begin{array}{cccc}\n",
       "\\frac{ - k_r k_m p r v}{\\left( K_r + p \\right) \\left( K_m + s \\right)} - \\left( K_r + p \\right) \\frac{ - k_r k_m p r s v}{\\left( K_m + s \\right)^{2} \\left( K_r + p \\right)^{2}} & \\frac{ - k_r k_m r s v}{\\left( K_r + p \\right) \\left( K_m + s \\right)} - \\left( K_m + s \\right) \\frac{ - k_r k_m p r s v}{\\left( K_m + s \\right)^{2} \\left( K_r + p \\right)^{2}} & \\frac{ - k_r k_m p s v}{\\left( K_r + p \\right) \\left( K_m + s \\right)} & \\frac{ - k_r k_m p r s}{\\left( K_r + p \\right) \\left( K_m + s \\right)} \\\\\n",
       "\\frac{ - k_r p r \\left( \\frac{k_m s}{\\left( K_m + s \\right)^{2}} + \\frac{ - k_m}{K_m + s} \\right)}{K_r + p} & \\frac{k_r p r \\left( \\frac{ - k_r p \\left( 1 + p \\right)}{K_r + p} + \\frac{ - k_m s}{K_m + s} \\right)}{\\left( K_r + p \\right)^{2}} + \\frac{ - k_r r \\left( \\frac{ - k_r p \\left( 1 + p \\right)}{K_r + p} + \\frac{ - k_m s}{K_m + s} \\right) - k_r p r \\left( \\frac{k_r p \\left( 1 + p \\right)}{\\left( K_r + p \\right)^{2}} + \\frac{ - k_r \\left( 1 + p \\right) - k_r p}{K_r + p} \\right)}{K_r + p} & \\frac{ - k_r p \\left( \\frac{ - k_r p \\left( 1 + p \\right)}{K_r + p} + \\frac{ - k_m s}{K_m + s} \\right)}{K_r + p} & 0 \\\\\n",
       "\\left( \\frac{k_r r}{K_r + p} + \\frac{ - k_r p r}{\\left( K_r + p \\right)^{2}} \\right) \\left( \\frac{k_m \\left( 1 - r \\right)}{K_m + s} + \\frac{ - k_m \\left( 1 - r \\right) s}{\\left( K_m + s \\right)^{2}} \\right) & \\frac{ - 2 r^{2} k_r^{2} p}{\\left( K_r + p \\right)^{2}} + \\frac{4 r^{2} k_r^{2} p}{\\left( K_r + p \\right)^{2}} - 2 \\left( K_r + p \\right) \\frac{2 r^{2} p^{2} k_r^{2}}{\\left( K_r + p \\right)^{4}} - 2 \\left( K_r + p \\right) \\frac{ - r^{2} p^{2} k_r^{2}}{\\left( K_r + p \\right)^{4}} + \\left( \\frac{k_r r}{K_r + p} + \\frac{ - k_r p r}{\\left( K_r + p \\right)^{2}} \\right) \\left( \\frac{ - k_r p r - k_r \\left( 1 + p \\right) r}{K_r + p} + \\frac{k_r p \\left( 1 + p \\right) r}{\\left( K_r + p \\right)^{2}} \\right) + \\left( \\frac{ - k_r r}{\\left( K_r + p \\right)^{2}} + \\frac{ - k_r r}{\\left( K_r + p \\right)^{2}} - 2 \\left( K_r + p \\right) \\frac{ - k_r p r}{\\left( K_r + p \\right)^{4}} \\right) \\left( \\frac{ - k_r p \\left( 1 + p \\right) r}{K_r + p} + \\frac{k_m \\left( 1 - r \\right) s}{K_m + s} \\right) & \\frac{4 p^{2} k_r^{2} r}{\\left( K_r + p \\right)^{2}} + \\frac{ - 2 p^{2} k_r^{2} r}{\\left( K_r + p \\right)^{2}} + \\left( \\frac{k_r r}{K_r + p} + \\frac{ - k_r p r}{\\left( K_r + p \\right)^{2}} \\right) \\left( \\frac{ - k_r p \\left( 1 + p \\right)}{K_r + p} + \\frac{ - k_m s}{K_m + s} \\right) + \\left( \\frac{ - k_r p \\left( 1 + p \\right) r}{K_r + p} + \\frac{k_m \\left( 1 - r \\right) s}{K_m + s} \\right) \\left( \\frac{k_r}{K_r + p} + \\frac{ - k_r p}{\\left( K_r + p \\right)^{2}} \\right) & 0 \\\\\n",
       "0 & \\frac{ - 2 k_r^{2} p r v}{\\left( K_r + p \\right)^{2}} - 2 \\left( K_r + p \\right) \\frac{ - p^{2} k_r^{2} r v}{\\left( K_r + p \\right)^{4}} & \\frac{ - p^{2} k_r^{2} v}{\\left( K_r + p \\right)^{2}} & \\frac{ - p^{2} k_r^{2} r}{\\left( K_r + p \\right)^{2}} \\\\\n",
       "\\end{array}\n",
       "\\right]\n",
       "\\end{equation}\n",
       " $$"
      ],
      "text/plain": [
       "4×4 Matrix{Num}:\n",
       "          (-kᵣ*kₘ*p*r*v) / ((Kᵣ + p)*(Kₘ + s)) - (Kᵣ + p)*((-kᵣ*kₘ*p*r*s*v) / (((Kᵣ + p)^2)*((Kₘ + s)^2)))  …  (-kᵣ*kₘ*p*r*s) / ((Kᵣ + p)*(Kₘ + s))\n",
       "                                           (-kᵣ*p*r*((kₘ*s) / ((Kₘ + s)^2) + (-kₘ) / (Kₘ + s))) / (Kᵣ + p)                                        0\n",
       " ((kᵣ*r) / (Kᵣ + p) + (-kᵣ*p*r) / ((Kᵣ + p)^2))*((kₘ*(1 - r)) / (Kₘ + s) + (-kₘ*(1 - r)*s) / ((Kₘ + s)^2))                                        0\n",
       "                                                                                                         0         (-(kᵣ^2)*(p^2)*r) / ((Kᵣ + p)^2)"
      ]
     },
     "metadata": {},
     "output_type": "display_data"
    }
   ],
   "source": [
    "# Calcul du crochet de Lie de F1 et F01\n",
    "\n",
    "F01_prime = Symbolics.jacobian(F01, [s, p, r, v])\n",
    "\n",
    "F101 = F01_prime * F1 - F1_prime * F01\n",
    "\n",
    "display(F101)\n",
    "a = F101[3,1]\n",
    "display(F01_prime)"
   ]
  },
  {
   "cell_type": "code",
   "execution_count": 5,
   "metadata": {},
   "outputs": [
    {
     "data": {
      "text/latex": [
       "$$ \\begin{equation}\n",
       "\\left[\n",
       "\\begin{array}{cc}\n",
       "0 &  - \\frac{k_r k_m p r s v}{\\left( K_r + p \\right) \\left( K_m + s \\right)} \\\\\n",
       "0 &  - \\frac{k_r p r \\left( \\frac{ - k_r p \\left( 1 + p \\right)}{K_r + p} + \\frac{ - k_m s}{K_m + s} \\right)}{K_r + p} \\\\\n",
       "\\frac{k_r p r}{K_r + p} & \\frac{2 r^{2} p^{2} k_r^{2}}{\\left( K_r + p \\right)^{2}} + \\frac{ - r^{2} k_r p \\frac{k_r p}{K_r + p}}{K_r + p} + \\left( \\frac{k_r r}{K_r + p} + \\frac{ - k_r p r}{\\left( K_r + p \\right)^{2}} \\right) \\left( \\frac{ - k_r p \\left( 1 + p \\right) r}{K_r + p} + \\frac{k_m \\left( 1 - r \\right) s}{K_m + s} \\right) \\\\\n",
       "0 &  - \\frac{p^{2} k_r^{2} r v}{\\left( K_r + p \\right)^{2}} \\\\\n",
       "\\end{array}\n",
       "\\right]\n",
       "\\end{equation}\n",
       " $$"
      ],
      "text/plain": [
       "4×2 Matrix{Num}:\n",
       "                   0  …                                                                                                                                                         -((kᵣ*kₘ*p*r*s*v) / ((Kᵣ + p)*(Kₘ + s)))\n",
       "                   0                                                                                                                            -((kᵣ*p*r*((-kᵣ*p*(1 + p)) / (Kᵣ + p) + (-kₘ*s) / (Kₘ + s))) / (Kᵣ + p))\n",
       " (kᵣ*p*r) / (Kᵣ + p)     (2(kᵣ^2)*(p^2)*(r^2)) / ((Kᵣ + p)^2) + (-kᵣ*p*(r^2)*((kᵣ*p) / (Kᵣ + p))) / (Kᵣ + p) + ((kᵣ*r) / (Kᵣ + p) + (-kᵣ*p*r) / ((Kᵣ + p)^2))*((-kᵣ*p*(1 + p)*r) / (Kᵣ + p) + (kₘ*(1 - r)*s) / (Kₘ + s))\n",
       "                   0                                                                                                                                                                -(((kᵣ^2)*(p^2)*r*v) / ((Kᵣ + p)^2))"
      ]
     },
     "metadata": {},
     "output_type": "display_data"
    }
   ],
   "source": [
    "# Calcul du rang de la matrice F1 et F01 :\n",
    "mat_F1_F01 = [F1 F01]\n",
    "\n",
    "display(mat_F1_F01)"
   ]
  },
  {
   "cell_type": "code",
   "execution_count": 6,
   "metadata": {},
   "outputs": [
    {
     "data": {
      "text/latex": [
       "$$ \\begin{equation}\n",
       "\\left[\n",
       "\\begin{array}{cc}\n",
       "0 &  - \\frac{k_r k_m p r s v}{\\left( K_r + p \\right) \\left( K_m + s \\right)} \\\\\n",
       "0 &  - \\frac{k_r p r \\left( \\frac{ - k_r p \\left( 1 + p \\right)}{K_r + p} + \\frac{ - k_m s}{K_m + s} \\right)}{K_r + p} \\\\\n",
       "\\end{array}\n",
       "\\right]\n",
       "\\end{equation}\n",
       " $$"
      ],
      "text/plain": [
       "2×2 Matrix{Num}:\n",
       " 0                                  -((kᵣ*kₘ*p*r*s*v) / ((Kᵣ + p)*(Kₘ + s)))\n",
       " 0  -((kᵣ*p*r*((-kᵣ*p*(1 + p)) / (Kᵣ + p) + (-kₘ*s) / (Kₘ + s))) / (Kᵣ + p))"
      ]
     },
     "metadata": {},
     "output_type": "display_data"
    },
    {
     "data": {
      "text/latex": [
       "$$ \\begin{equation}\n",
       "\\left[\n",
       "\\begin{array}{cc}\n",
       "0 &  - \\frac{k_r k_m p r s v}{\\left( K_r + p \\right) \\left( K_m + s \\right)} \\\\\n",
       "\\frac{k_r p r}{K_r + p} & \\frac{2 r^{2} p^{2} k_r^{2}}{\\left( K_r + p \\right)^{2}} + \\frac{ - r^{2} k_r p \\frac{k_r p}{K_r + p}}{K_r + p} + \\left( \\frac{k_r r}{K_r + p} + \\frac{ - k_r p r}{\\left( K_r + p \\right)^{2}} \\right) \\left( \\frac{ - k_r p \\left( 1 + p \\right) r}{K_r + p} + \\frac{k_m \\left( 1 - r \\right) s}{K_m + s} \\right) \\\\\n",
       "\\end{array}\n",
       "\\right]\n",
       "\\end{equation}\n",
       " $$"
      ],
      "text/plain": [
       "2×2 Matrix{Num}:\n",
       "                   0  …                                                                                                                                                         -((kᵣ*kₘ*p*r*s*v) / ((Kᵣ + p)*(Kₘ + s)))\n",
       " (kᵣ*p*r) / (Kᵣ + p)     (2(kᵣ^2)*(p^2)*(r^2)) / ((Kᵣ + p)^2) + (-kᵣ*p*(r^2)*((kᵣ*p) / (Kᵣ + p))) / (Kᵣ + p) + ((kᵣ*r) / (Kᵣ + p) + (-kᵣ*p*r) / ((Kᵣ + p)^2))*((-kᵣ*p*(1 + p)*r) / (Kᵣ + p) + (kₘ*(1 - r)*s) / (Kₘ + s))"
      ]
     },
     "metadata": {},
     "output_type": "display_data"
    },
    {
     "data": {
      "text/latex": [
       "$$ \\begin{equation}\n",
       "\\left[\n",
       "\\begin{array}{cc}\n",
       "0 &  - \\frac{k_r k_m p r s v}{\\left( K_r + p \\right) \\left( K_m + s \\right)} \\\\\n",
       "0 &  - \\frac{p^{2} k_r^{2} r v}{\\left( K_r + p \\right)^{2}} \\\\\n",
       "\\end{array}\n",
       "\\right]\n",
       "\\end{equation}\n",
       " $$"
      ],
      "text/plain": [
       "2×2 Matrix{Num}:\n",
       " 0  -((kᵣ*kₘ*p*r*s*v) / ((Kᵣ + p)*(Kₘ + s)))\n",
       " 0      -(((kᵣ^2)*(p^2)*r*v) / ((Kᵣ + p)^2))"
      ]
     },
     "metadata": {},
     "output_type": "display_data"
    },
    {
     "data": {
      "text/latex": [
       "$$ \\begin{equation}\n",
       "\\left[\n",
       "\\begin{array}{cc}\n",
       "0 &  - \\frac{k_r p r \\left( \\frac{ - k_r p \\left( 1 + p \\right)}{K_r + p} + \\frac{ - k_m s}{K_m + s} \\right)}{K_r + p} \\\\\n",
       "\\frac{k_r p r}{K_r + p} & \\frac{2 r^{2} p^{2} k_r^{2}}{\\left( K_r + p \\right)^{2}} + \\frac{ - r^{2} k_r p \\frac{k_r p}{K_r + p}}{K_r + p} + \\left( \\frac{k_r r}{K_r + p} + \\frac{ - k_r p r}{\\left( K_r + p \\right)^{2}} \\right) \\left( \\frac{ - k_r p \\left( 1 + p \\right) r}{K_r + p} + \\frac{k_m \\left( 1 - r \\right) s}{K_m + s} \\right) \\\\\n",
       "\\end{array}\n",
       "\\right]\n",
       "\\end{equation}\n",
       " $$"
      ],
      "text/plain": [
       "2×2 Matrix{Num}:\n",
       "                   0  …                                                                                                                         -((kᵣ*p*r*((-kᵣ*p*(1 + p)) / (Kᵣ + p) + (-kₘ*s) / (Kₘ + s))) / (Kᵣ + p))\n",
       " (kᵣ*p*r) / (Kᵣ + p)     (2(kᵣ^2)*(p^2)*(r^2)) / ((Kᵣ + p)^2) + (-kᵣ*p*(r^2)*((kᵣ*p) / (Kᵣ + p))) / (Kᵣ + p) + ((kᵣ*r) / (Kᵣ + p) + (-kᵣ*p*r) / ((Kᵣ + p)^2))*((-kᵣ*p*(1 + p)*r) / (Kᵣ + p) + (kₘ*(1 - r)*s) / (Kₘ + s))"
      ]
     },
     "metadata": {},
     "output_type": "display_data"
    },
    {
     "data": {
      "text/latex": [
       "$$ \\begin{equation}\n",
       "\\left[\n",
       "\\begin{array}{cc}\n",
       "0 &  - \\frac{k_r p r \\left( \\frac{ - k_r p \\left( 1 + p \\right)}{K_r + p} + \\frac{ - k_m s}{K_m + s} \\right)}{K_r + p} \\\\\n",
       "0 &  - \\frac{p^{2} k_r^{2} r v}{\\left( K_r + p \\right)^{2}} \\\\\n",
       "\\end{array}\n",
       "\\right]\n",
       "\\end{equation}\n",
       " $$"
      ],
      "text/plain": [
       "2×2 Matrix{Num}:\n",
       " 0  -((kᵣ*p*r*((-kᵣ*p*(1 + p)) / (Kᵣ + p) + (-kₘ*s) / (Kₘ + s))) / (Kᵣ + p))\n",
       " 0                                      -(((kᵣ^2)*(p^2)*r*v) / ((Kᵣ + p)^2))"
      ]
     },
     "metadata": {},
     "output_type": "display_data"
    },
    {
     "data": {
      "text/latex": [
       "$$ \\begin{equation}\n",
       "\\left[\n",
       "\\begin{array}{cc}\n",
       "\\frac{k_r p r}{K_r + p} & \\frac{2 r^{2} p^{2} k_r^{2}}{\\left( K_r + p \\right)^{2}} + \\frac{ - r^{2} k_r p \\frac{k_r p}{K_r + p}}{K_r + p} + \\left( \\frac{k_r r}{K_r + p} + \\frac{ - k_r p r}{\\left( K_r + p \\right)^{2}} \\right) \\left( \\frac{ - k_r p \\left( 1 + p \\right) r}{K_r + p} + \\frac{k_m \\left( 1 - r \\right) s}{K_m + s} \\right) \\\\\n",
       "0 &  - \\frac{p^{2} k_r^{2} r v}{\\left( K_r + p \\right)^{2}} \\\\\n",
       "\\end{array}\n",
       "\\right]\n",
       "\\end{equation}\n",
       " $$"
      ],
      "text/plain": [
       "2×2 Matrix{Num}:\n",
       " (kᵣ*p*r) / (Kᵣ + p)  …  (2(kᵣ^2)*(p^2)*(r^2)) / ((Kᵣ + p)^2) + (-kᵣ*p*(r^2)*((kᵣ*p) / (Kᵣ + p))) / (Kᵣ + p) + ((kᵣ*r) / (Kᵣ + p) + (-kᵣ*p*r) / ((Kᵣ + p)^2))*((-kᵣ*p*(1 + p)*r) / (Kᵣ + p) + (kₘ*(1 - r)*s) / (Kₘ + s))\n",
       "                   0                                                                                                                                                                -(((kᵣ^2)*(p^2)*r*v) / ((Kᵣ + p)^2))"
      ]
     },
     "metadata": {},
     "output_type": "display_data"
    }
   ],
   "source": [
    "# Sous matrice de mat_F1_F01\n",
    "sousDet1_F1_F01 = [mat_F1_F01[1] mat_F1_F01[5] ; mat_F1_F01[2] mat_F1_F01[6]]\n",
    "\n",
    "sousDet2_F1_F01 = [mat_F1_F01[1] mat_F1_F01[5] ; mat_F1_F01[3] mat_F1_F01[7]]\n",
    "\n",
    "sousDet3_F1_F01 = [mat_F1_F01[1] mat_F1_F01[5] ; mat_F1_F01[4] mat_F1_F01[8]]\n",
    "\n",
    "sousDet4_F1_F01 = [mat_F1_F01[2] mat_F1_F01[6] ; mat_F1_F01[3] mat_F1_F01[7]]\n",
    "\n",
    "sousDet5_F1_F01 = [mat_F1_F01[2] mat_F1_F01[6] ; mat_F1_F01[4] mat_F1_F01[8]]\n",
    "\n",
    "sousDet6_F1_F01 = [mat_F1_F01[3] mat_F1_F01[7] ; mat_F1_F01[4] mat_F1_F01[8]]\n",
    "\n",
    "display(sousDet1_F1_F01)\n",
    "display(sousDet2_F1_F01)\n",
    "display(sousDet3_F1_F01)\n",
    "display(sousDet4_F1_F01)\n",
    "display(sousDet5_F1_F01)\n",
    "display(sousDet6_F1_F01)\n"
   ]
  },
  {
   "cell_type": "code",
   "execution_count": 7,
   "metadata": {},
   "outputs": [
    {
     "data": {
      "text/latex": [
       "$$ \\begin{equation}\n",
       "0\n",
       "\\end{equation}\n",
       " $$"
      ],
      "text/plain": [
       "0"
      ]
     },
     "metadata": {},
     "output_type": "display_data"
    },
    {
     "data": {
      "text/latex": [
       "$$ \\begin{equation}\n",
       " - \\frac{ - k_r p r \\frac{k_r k_m p r s v}{\\left( K_r + p \\right) \\left( K_m + s \\right)}}{K_r + p}\n",
       "\\end{equation}\n",
       " $$"
      ],
      "text/plain": [
       "-((-kᵣ*p*r*((kᵣ*kₘ*p*r*s*v) / ((Kᵣ + p)*(Kₘ + s)))) / (Kᵣ + p))"
      ]
     },
     "metadata": {},
     "output_type": "display_data"
    },
    {
     "data": {
      "text/latex": [
       "$$ \\begin{equation}\n",
       "0\n",
       "\\end{equation}\n",
       " $$"
      ],
      "text/plain": [
       "0"
      ]
     },
     "metadata": {},
     "output_type": "display_data"
    },
    {
     "data": {
      "text/latex": [
       "$$ \\begin{equation}\n",
       " - \\frac{ - k_r p r \\frac{k_r p r \\left( \\frac{ - k_r p \\left( 1 + p \\right)}{K_r + p} + \\frac{ - k_m s}{K_m + s} \\right)}{K_r + p}}{K_r + p}\n",
       "\\end{equation}\n",
       " $$"
      ],
      "text/plain": [
       "-((-kᵣ*p*r*((kᵣ*p*r*((-kᵣ*p*(1 + p)) / (Kᵣ + p) + (-kₘ*s) / (Kₘ + s))) / (Kᵣ + p))) / (Kᵣ + p))"
      ]
     },
     "metadata": {},
     "output_type": "display_data"
    },
    {
     "data": {
      "text/latex": [
       "$$ \\begin{equation}\n",
       "0\n",
       "\\end{equation}\n",
       " $$"
      ],
      "text/plain": [
       "0"
      ]
     },
     "metadata": {},
     "output_type": "display_data"
    },
    {
     "data": {
      "text/latex": [
       "$$ \\begin{equation}\n",
       "\\frac{ - k_r p r \\frac{p^{2} k_r^{2} r v}{\\left( K_r + p \\right)^{2}}}{K_r + p}\n",
       "\\end{equation}\n",
       " $$"
      ],
      "text/plain": [
       "(-kᵣ*p*r*(((kᵣ^2)*(p^2)*r*v) / ((Kᵣ + p)^2))) / (Kᵣ + p)"
      ]
     },
     "metadata": {},
     "output_type": "display_data"
    }
   ],
   "source": [
    "mineur1_F1_F01 = Symbolics.det(sousDet1_F1_F01)\n",
    "mineur2_F1_F01 = Symbolics.det(sousDet2_F1_F01)\n",
    "mineur3_F1_F01 = Symbolics.det(sousDet3_F1_F01)\n",
    "mineur4_F1_F01 = Symbolics.det(sousDet4_F1_F01)\n",
    "mineur5_F1_F01 = Symbolics.det(sousDet5_F1_F01)\n",
    "mineur6_F1_F01 = Symbolics.det(sousDet6_F1_F01)\n",
    "\n",
    "display(mineur1_F1_F01)\n",
    "display(mineur2_F1_F01)\n",
    "display(mineur3_F1_F01)\n",
    "display(mineur4_F1_F01)\n",
    "display(mineur5_F1_F01)\n",
    "display(mineur6_F1_F01)"
   ]
  },
  {
   "cell_type": "markdown",
   "metadata": {},
   "source": [
    "Etant donné que le déterminant de sousDet2_F1_F01 est non nul (non nul car toutes les variables sont positifs), le rang de mat_F1_F01 vaut 2 (car sousDet2_F1_F01 matrice carrée de taille n = 2)"
   ]
  },
  {
   "cell_type": "code",
   "execution_count": 8,
   "metadata": {},
   "outputs": [
    {
     "data": {
      "text/latex": [
       "$$ \\begin{equation}\n",
       "\\left[\n",
       "\\begin{array}{ccc}\n",
       "0 &  - \\frac{k_r k_m p r s v}{\\left( K_r + p \\right) \\left( K_m + s \\right)} & \\frac{ - p^{2} k_r^{2} k_m r s v}{\\left( K_r + p \\right)^{2} \\left( K_m + s \\right)} \\\\\n",
       "0 &  - \\frac{k_r p r \\left( \\frac{ - k_r p \\left( 1 + p \\right)}{K_r + p} + \\frac{ - k_m s}{K_m + s} \\right)}{K_r + p} & \\frac{ - p^{2} k_r^{2} r \\left( \\frac{ - k_r p \\left( 1 + p \\right)}{K_r + p} + \\frac{ - k_m s}{K_m + s} \\right)}{\\left( K_r + p \\right)^{2}} \\\\\n",
       "\\frac{k_r p r}{K_r + p} & \\frac{2 r^{2} p^{2} k_r^{2}}{\\left( K_r + p \\right)^{2}} + \\frac{ - r^{2} k_r p \\frac{k_r p}{K_r + p}}{K_r + p} + \\left( \\frac{k_r r}{K_r + p} + \\frac{ - k_r p r}{\\left( K_r + p \\right)^{2}} \\right) \\left( \\frac{ - k_r p \\left( 1 + p \\right) r}{K_r + p} + \\frac{k_m \\left( 1 - r \\right) s}{K_m + s} \\right) & \\frac{ - k_r p \\left( \\frac{2 r^{2} p^{2} k_r^{2}}{\\left( K_r + p \\right)^{2}} + \\frac{ - r^{2} k_r p \\frac{k_r p}{K_r + p}}{K_r + p} + \\left( \\frac{k_r r}{K_r + p} + \\frac{ - k_r p r}{\\left( K_r + p \\right)^{2}} \\right) \\left( \\frac{ - k_r p \\left( 1 + p \\right) r}{K_r + p} + \\frac{k_m \\left( 1 - r \\right) s}{K_m + s} \\right) \\right)}{K_r + p} + \\frac{k_r p r \\left( \\frac{4 p^{2} k_r^{2} r}{\\left( K_r + p \\right)^{2}} + \\frac{ - 2 p^{2} k_r^{2} r}{\\left( K_r + p \\right)^{2}} + \\left( \\frac{k_r r}{K_r + p} + \\frac{ - k_r p r}{\\left( K_r + p \\right)^{2}} \\right) \\left( \\frac{ - k_r p \\left( 1 + p \\right)}{K_r + p} + \\frac{ - k_m s}{K_m + s} \\right) + \\left( \\frac{ - k_r p \\left( 1 + p \\right) r}{K_r + p} + \\frac{k_m \\left( 1 - r \\right) s}{K_m + s} \\right) \\left( \\frac{k_r}{K_r + p} + \\frac{ - k_r p}{\\left( K_r + p \\right)^{2}} \\right) \\right)}{K_r + p} + \\left( \\frac{k_r r}{K_r + p} + \\frac{ - k_r p r}{\\left( K_r + p \\right)^{2}} \\right) \\frac{k_r p r \\left( \\frac{ - k_r p \\left( 1 + p \\right)}{K_r + p} + \\frac{ - k_m s}{K_m + s} \\right)}{K_r + p} \\\\\n",
       "0 &  - \\frac{p^{2} k_r^{2} r v}{\\left( K_r + p \\right)^{2}} & \\frac{ - p^{3} k_r^{3} r v}{\\left( K_r + p \\right)^{3}} \\\\\n",
       "\\end{array}\n",
       "\\right]\n",
       "\\end{equation}\n",
       " $$"
      ],
      "text/plain": [
       "4×3 Matrix{Num}:\n",
       "                   0  …                                                                                                                                                                                                                                                                                                                                                                                                                                                                                                                                                                                                   (-(kᵣ^2)*kₘ*(p^2)*r*s*v) / (((Kᵣ + p)^2)*(Kₘ + s))\n",
       "                   0                                                                                                                                                                                                                                                                                                                                                                                                                                                                                                                                                                      (-(kᵣ^2)*(p^2)*r*((-kᵣ*p*(1 + p)) / (Kᵣ + p) + (-kₘ*s) / (Kₘ + s))) / ((Kᵣ + p)^2)\n",
       " (kᵣ*p*r) / (Kᵣ + p)     (-kᵣ*p*((2(kᵣ^2)*(p^2)*(r^2)) / ((Kᵣ + p)^2) + (-kᵣ*p*(r^2)*((kᵣ*p) / (Kᵣ + p))) / (Kᵣ + p) + ((kᵣ*r) / (Kᵣ + p) + (-kᵣ*p*r) / ((Kᵣ + p)^2))*((-kᵣ*p*(1 + p)*r) / (Kᵣ + p) + (kₘ*(1 - r)*s) / (Kₘ + s)))) / (Kᵣ + p) + (kᵣ*p*r*((4(kᵣ^2)*(p^2)*r) / ((Kᵣ + p)^2) + (-2(kᵣ^2)*(p^2)*r) / ((Kᵣ + p)^2) + ((kᵣ*r) / (Kᵣ + p) + (-kᵣ*p*r) / ((Kᵣ + p)^2))*((-kᵣ*p*(1 + p)) / (Kᵣ + p) + (-kₘ*s) / (Kₘ + s)) + ((-kᵣ*p*(1 + p)*r) / (Kᵣ + p) + (kₘ*(1 - r)*s) / (Kₘ + s))*(kᵣ / (Kᵣ + p) + (-kᵣ*p) / ((Kᵣ + p)^2)))) / (Kᵣ + p) + ((kᵣ*r) / (Kᵣ + p) + (-kᵣ*p*r) / ((Kᵣ + p)^2))*((kᵣ*p*r*((-kᵣ*p*(1 + p)) / (Kᵣ + p) + (-kₘ*s) / (Kₘ + s))) / (Kᵣ + p))\n",
       "                   0                                                                                                                                                                                                                                                                                                                                                                                                                                                                                                                                                                                                                      (-(kᵣ^3)*(p^3)*r*v) / ((Kᵣ + p)^3)"
      ]
     },
     "metadata": {},
     "output_type": "display_data"
    }
   ],
   "source": [
    "# Calcul du rang de la matrice F1 F01 et F101\n",
    "mat_F1_F01_F101 = [F1 F01 F101]\n",
    "\n",
    "display(mat_F1_F01_F101)"
   ]
  },
  {
   "cell_type": "code",
   "execution_count": 9,
   "metadata": {},
   "outputs": [
    {
     "data": {
      "text/latex": [
       "$$ \\begin{equation}\n",
       "\\left[\n",
       "\\begin{array}{ccc}\n",
       "0 &  - \\frac{k_r k_m p r s v}{\\left( K_r + p \\right) \\left( K_m + s \\right)} & \\frac{ - p^{2} k_r^{2} k_m r s v}{\\left( K_r + p \\right)^{2} \\left( K_m + s \\right)} \\\\\n",
       "0 &  - \\frac{k_r p r \\left( \\frac{ - k_r p \\left( 1 + p \\right)}{K_r + p} + \\frac{ - k_m s}{K_m + s} \\right)}{K_r + p} & \\frac{ - p^{2} k_r^{2} r \\left( \\frac{ - k_r p \\left( 1 + p \\right)}{K_r + p} + \\frac{ - k_m s}{K_m + s} \\right)}{\\left( K_r + p \\right)^{2}} \\\\\n",
       "\\frac{k_r p r}{K_r + p} & \\frac{2 r^{2} p^{2} k_r^{2}}{\\left( K_r + p \\right)^{2}} + \\frac{ - r^{2} k_r p \\frac{k_r p}{K_r + p}}{K_r + p} + \\left( \\frac{k_r r}{K_r + p} + \\frac{ - k_r p r}{\\left( K_r + p \\right)^{2}} \\right) \\left( \\frac{ - k_r p \\left( 1 + p \\right) r}{K_r + p} + \\frac{k_m \\left( 1 - r \\right) s}{K_m + s} \\right) & \\frac{ - k_r p \\left( \\frac{2 r^{2} p^{2} k_r^{2}}{\\left( K_r + p \\right)^{2}} + \\frac{ - r^{2} k_r p \\frac{k_r p}{K_r + p}}{K_r + p} + \\left( \\frac{k_r r}{K_r + p} + \\frac{ - k_r p r}{\\left( K_r + p \\right)^{2}} \\right) \\left( \\frac{ - k_r p \\left( 1 + p \\right) r}{K_r + p} + \\frac{k_m \\left( 1 - r \\right) s}{K_m + s} \\right) \\right)}{K_r + p} + \\frac{k_r p r \\left( \\frac{4 p^{2} k_r^{2} r}{\\left( K_r + p \\right)^{2}} + \\frac{ - 2 p^{2} k_r^{2} r}{\\left( K_r + p \\right)^{2}} + \\left( \\frac{k_r r}{K_r + p} + \\frac{ - k_r p r}{\\left( K_r + p \\right)^{2}} \\right) \\left( \\frac{ - k_r p \\left( 1 + p \\right)}{K_r + p} + \\frac{ - k_m s}{K_m + s} \\right) + \\left( \\frac{ - k_r p \\left( 1 + p \\right) r}{K_r + p} + \\frac{k_m \\left( 1 - r \\right) s}{K_m + s} \\right) \\left( \\frac{k_r}{K_r + p} + \\frac{ - k_r p}{\\left( K_r + p \\right)^{2}} \\right) \\right)}{K_r + p} + \\left( \\frac{k_r r}{K_r + p} + \\frac{ - k_r p r}{\\left( K_r + p \\right)^{2}} \\right) \\frac{k_r p r \\left( \\frac{ - k_r p \\left( 1 + p \\right)}{K_r + p} + \\frac{ - k_m s}{K_m + s} \\right)}{K_r + p} \\\\\n",
       "\\end{array}\n",
       "\\right]\n",
       "\\end{equation}\n",
       " $$"
      ],
      "text/plain": [
       "3×3 Matrix{Num}:\n",
       "                   0  …                                                                                                                                                                                                                                                                                                                                                                                                                                                                                                                                                                                                   (-(kᵣ^2)*kₘ*(p^2)*r*s*v) / (((Kᵣ + p)^2)*(Kₘ + s))\n",
       "                   0                                                                                                                                                                                                                                                                                                                                                                                                                                                                                                                                                                      (-(kᵣ^2)*(p^2)*r*((-kᵣ*p*(1 + p)) / (Kᵣ + p) + (-kₘ*s) / (Kₘ + s))) / ((Kᵣ + p)^2)\n",
       " (kᵣ*p*r) / (Kᵣ + p)     (-kᵣ*p*((2(kᵣ^2)*(p^2)*(r^2)) / ((Kᵣ + p)^2) + (-kᵣ*p*(r^2)*((kᵣ*p) / (Kᵣ + p))) / (Kᵣ + p) + ((kᵣ*r) / (Kᵣ + p) + (-kᵣ*p*r) / ((Kᵣ + p)^2))*((-kᵣ*p*(1 + p)*r) / (Kᵣ + p) + (kₘ*(1 - r)*s) / (Kₘ + s)))) / (Kᵣ + p) + (kᵣ*p*r*((4(kᵣ^2)*(p^2)*r) / ((Kᵣ + p)^2) + (-2(kᵣ^2)*(p^2)*r) / ((Kᵣ + p)^2) + ((kᵣ*r) / (Kᵣ + p) + (-kᵣ*p*r) / ((Kᵣ + p)^2))*((-kᵣ*p*(1 + p)) / (Kᵣ + p) + (-kₘ*s) / (Kₘ + s)) + ((-kᵣ*p*(1 + p)*r) / (Kᵣ + p) + (kₘ*(1 - r)*s) / (Kₘ + s))*(kᵣ / (Kᵣ + p) + (-kᵣ*p) / ((Kᵣ + p)^2)))) / (Kᵣ + p) + ((kᵣ*r) / (Kᵣ + p) + (-kᵣ*p*r) / ((Kᵣ + p)^2))*((kᵣ*p*r*((-kᵣ*p*(1 + p)) / (Kᵣ + p) + (-kₘ*s) / (Kₘ + s))) / (Kᵣ + p))"
      ]
     },
     "metadata": {},
     "output_type": "display_data"
    },
    {
     "data": {
      "text/latex": [
       "$$ \\begin{equation}\n",
       "\\left[\n",
       "\\begin{array}{ccc}\n",
       "0 &  - \\frac{k_r k_m p r s v}{\\left( K_r + p \\right) \\left( K_m + s \\right)} & \\frac{ - p^{2} k_r^{2} k_m r s v}{\\left( K_r + p \\right)^{2} \\left( K_m + s \\right)} \\\\\n",
       "0 &  - \\frac{k_r p r \\left( \\frac{ - k_r p \\left( 1 + p \\right)}{K_r + p} + \\frac{ - k_m s}{K_m + s} \\right)}{K_r + p} & \\frac{ - p^{2} k_r^{2} r \\left( \\frac{ - k_r p \\left( 1 + p \\right)}{K_r + p} + \\frac{ - k_m s}{K_m + s} \\right)}{\\left( K_r + p \\right)^{2}} \\\\\n",
       "0 &  - \\frac{p^{2} k_r^{2} r v}{\\left( K_r + p \\right)^{2}} & \\frac{ - p^{3} k_r^{3} r v}{\\left( K_r + p \\right)^{3}} \\\\\n",
       "\\end{array}\n",
       "\\right]\n",
       "\\end{equation}\n",
       " $$"
      ],
      "text/plain": [
       "3×3 Matrix{Num}:\n",
       " 0  …                                  (-(kᵣ^2)*kₘ*(p^2)*r*s*v) / (((Kᵣ + p)^2)*(Kₘ + s))\n",
       " 0     (-(kᵣ^2)*(p^2)*r*((-kᵣ*p*(1 + p)) / (Kᵣ + p) + (-kₘ*s) / (Kₘ + s))) / ((Kᵣ + p)^2)\n",
       " 0                                                     (-(kᵣ^3)*(p^3)*r*v) / ((Kᵣ + p)^3)"
      ]
     },
     "metadata": {},
     "output_type": "display_data"
    },
    {
     "data": {
      "text/latex": [
       "$$ \\begin{equation}\n",
       "\\left[\n",
       "\\begin{array}{ccc}\n",
       "0 &  - \\frac{k_r k_m p r s v}{\\left( K_r + p \\right) \\left( K_m + s \\right)} & \\frac{ - p^{2} k_r^{2} k_m r s v}{\\left( K_r + p \\right)^{2} \\left( K_m + s \\right)} \\\\\n",
       "\\frac{k_r p r}{K_r + p} & \\frac{2 r^{2} p^{2} k_r^{2}}{\\left( K_r + p \\right)^{2}} + \\frac{ - r^{2} k_r p \\frac{k_r p}{K_r + p}}{K_r + p} + \\left( \\frac{k_r r}{K_r + p} + \\frac{ - k_r p r}{\\left( K_r + p \\right)^{2}} \\right) \\left( \\frac{ - k_r p \\left( 1 + p \\right) r}{K_r + p} + \\frac{k_m \\left( 1 - r \\right) s}{K_m + s} \\right) & \\frac{ - k_r p \\left( \\frac{2 r^{2} p^{2} k_r^{2}}{\\left( K_r + p \\right)^{2}} + \\frac{ - r^{2} k_r p \\frac{k_r p}{K_r + p}}{K_r + p} + \\left( \\frac{k_r r}{K_r + p} + \\frac{ - k_r p r}{\\left( K_r + p \\right)^{2}} \\right) \\left( \\frac{ - k_r p \\left( 1 + p \\right) r}{K_r + p} + \\frac{k_m \\left( 1 - r \\right) s}{K_m + s} \\right) \\right)}{K_r + p} + \\frac{k_r p r \\left( \\frac{4 p^{2} k_r^{2} r}{\\left( K_r + p \\right)^{2}} + \\frac{ - 2 p^{2} k_r^{2} r}{\\left( K_r + p \\right)^{2}} + \\left( \\frac{k_r r}{K_r + p} + \\frac{ - k_r p r}{\\left( K_r + p \\right)^{2}} \\right) \\left( \\frac{ - k_r p \\left( 1 + p \\right)}{K_r + p} + \\frac{ - k_m s}{K_m + s} \\right) + \\left( \\frac{ - k_r p \\left( 1 + p \\right) r}{K_r + p} + \\frac{k_m \\left( 1 - r \\right) s}{K_m + s} \\right) \\left( \\frac{k_r}{K_r + p} + \\frac{ - k_r p}{\\left( K_r + p \\right)^{2}} \\right) \\right)}{K_r + p} + \\left( \\frac{k_r r}{K_r + p} + \\frac{ - k_r p r}{\\left( K_r + p \\right)^{2}} \\right) \\frac{k_r p r \\left( \\frac{ - k_r p \\left( 1 + p \\right)}{K_r + p} + \\frac{ - k_m s}{K_m + s} \\right)}{K_r + p} \\\\\n",
       "0 &  - \\frac{p^{2} k_r^{2} r v}{\\left( K_r + p \\right)^{2}} & \\frac{ - p^{3} k_r^{3} r v}{\\left( K_r + p \\right)^{3}} \\\\\n",
       "\\end{array}\n",
       "\\right]\n",
       "\\end{equation}\n",
       " $$"
      ],
      "text/plain": [
       "3×3 Matrix{Num}:\n",
       "                   0  …                                                                                                                                                                                                                                                                                                                                                                                                                                                                                                                                                                                                   (-(kᵣ^2)*kₘ*(p^2)*r*s*v) / (((Kᵣ + p)^2)*(Kₘ + s))\n",
       " (kᵣ*p*r) / (Kᵣ + p)     (-kᵣ*p*((2(kᵣ^2)*(p^2)*(r^2)) / ((Kᵣ + p)^2) + (-kᵣ*p*(r^2)*((kᵣ*p) / (Kᵣ + p))) / (Kᵣ + p) + ((kᵣ*r) / (Kᵣ + p) + (-kᵣ*p*r) / ((Kᵣ + p)^2))*((-kᵣ*p*(1 + p)*r) / (Kᵣ + p) + (kₘ*(1 - r)*s) / (Kₘ + s)))) / (Kᵣ + p) + (kᵣ*p*r*((4(kᵣ^2)*(p^2)*r) / ((Kᵣ + p)^2) + (-2(kᵣ^2)*(p^2)*r) / ((Kᵣ + p)^2) + ((kᵣ*r) / (Kᵣ + p) + (-kᵣ*p*r) / ((Kᵣ + p)^2))*((-kᵣ*p*(1 + p)) / (Kᵣ + p) + (-kₘ*s) / (Kₘ + s)) + ((-kᵣ*p*(1 + p)*r) / (Kᵣ + p) + (kₘ*(1 - r)*s) / (Kₘ + s))*(kᵣ / (Kᵣ + p) + (-kᵣ*p) / ((Kᵣ + p)^2)))) / (Kᵣ + p) + ((kᵣ*r) / (Kᵣ + p) + (-kᵣ*p*r) / ((Kᵣ + p)^2))*((kᵣ*p*r*((-kᵣ*p*(1 + p)) / (Kᵣ + p) + (-kₘ*s) / (Kₘ + s))) / (Kᵣ + p))\n",
       "                   0                                                                                                                                                                                                                                                                                                                                                                                                                                                                                                                                                                                                                      (-(kᵣ^3)*(p^3)*r*v) / ((Kᵣ + p)^3)"
      ]
     },
     "metadata": {},
     "output_type": "display_data"
    },
    {
     "data": {
      "text/latex": [
       "$$ \\begin{equation}\n",
       "\\left[\n",
       "\\begin{array}{ccc}\n",
       "0 &  - \\frac{k_r p r \\left( \\frac{ - k_r p \\left( 1 + p \\right)}{K_r + p} + \\frac{ - k_m s}{K_m + s} \\right)}{K_r + p} & \\frac{ - p^{2} k_r^{2} r \\left( \\frac{ - k_r p \\left( 1 + p \\right)}{K_r + p} + \\frac{ - k_m s}{K_m + s} \\right)}{\\left( K_r + p \\right)^{2}} \\\\\n",
       "\\frac{k_r p r}{K_r + p} & \\frac{2 r^{2} p^{2} k_r^{2}}{\\left( K_r + p \\right)^{2}} + \\frac{ - r^{2} k_r p \\frac{k_r p}{K_r + p}}{K_r + p} + \\left( \\frac{k_r r}{K_r + p} + \\frac{ - k_r p r}{\\left( K_r + p \\right)^{2}} \\right) \\left( \\frac{ - k_r p \\left( 1 + p \\right) r}{K_r + p} + \\frac{k_m \\left( 1 - r \\right) s}{K_m + s} \\right) & \\frac{ - k_r p \\left( \\frac{2 r^{2} p^{2} k_r^{2}}{\\left( K_r + p \\right)^{2}} + \\frac{ - r^{2} k_r p \\frac{k_r p}{K_r + p}}{K_r + p} + \\left( \\frac{k_r r}{K_r + p} + \\frac{ - k_r p r}{\\left( K_r + p \\right)^{2}} \\right) \\left( \\frac{ - k_r p \\left( 1 + p \\right) r}{K_r + p} + \\frac{k_m \\left( 1 - r \\right) s}{K_m + s} \\right) \\right)}{K_r + p} + \\frac{k_r p r \\left( \\frac{4 p^{2} k_r^{2} r}{\\left( K_r + p \\right)^{2}} + \\frac{ - 2 p^{2} k_r^{2} r}{\\left( K_r + p \\right)^{2}} + \\left( \\frac{k_r r}{K_r + p} + \\frac{ - k_r p r}{\\left( K_r + p \\right)^{2}} \\right) \\left( \\frac{ - k_r p \\left( 1 + p \\right)}{K_r + p} + \\frac{ - k_m s}{K_m + s} \\right) + \\left( \\frac{ - k_r p \\left( 1 + p \\right) r}{K_r + p} + \\frac{k_m \\left( 1 - r \\right) s}{K_m + s} \\right) \\left( \\frac{k_r}{K_r + p} + \\frac{ - k_r p}{\\left( K_r + p \\right)^{2}} \\right) \\right)}{K_r + p} + \\left( \\frac{k_r r}{K_r + p} + \\frac{ - k_r p r}{\\left( K_r + p \\right)^{2}} \\right) \\frac{k_r p r \\left( \\frac{ - k_r p \\left( 1 + p \\right)}{K_r + p} + \\frac{ - k_m s}{K_m + s} \\right)}{K_r + p} \\\\\n",
       "0 &  - \\frac{p^{2} k_r^{2} r v}{\\left( K_r + p \\right)^{2}} & \\frac{ - p^{3} k_r^{3} r v}{\\left( K_r + p \\right)^{3}} \\\\\n",
       "\\end{array}\n",
       "\\right]\n",
       "\\end{equation}\n",
       " $$"
      ],
      "text/plain": [
       "3×3 Matrix{Num}:\n",
       "                   0  …                                                                                                                                                                                                                                                                                                                                                                                                                                                                                                                                                                   (-(kᵣ^2)*(p^2)*r*((-kᵣ*p*(1 + p)) / (Kᵣ + p) + (-kₘ*s) / (Kₘ + s))) / ((Kᵣ + p)^2)\n",
       " (kᵣ*p*r) / (Kᵣ + p)     (-kᵣ*p*((2(kᵣ^2)*(p^2)*(r^2)) / ((Kᵣ + p)^2) + (-kᵣ*p*(r^2)*((kᵣ*p) / (Kᵣ + p))) / (Kᵣ + p) + ((kᵣ*r) / (Kᵣ + p) + (-kᵣ*p*r) / ((Kᵣ + p)^2))*((-kᵣ*p*(1 + p)*r) / (Kᵣ + p) + (kₘ*(1 - r)*s) / (Kₘ + s)))) / (Kᵣ + p) + (kᵣ*p*r*((4(kᵣ^2)*(p^2)*r) / ((Kᵣ + p)^2) + (-2(kᵣ^2)*(p^2)*r) / ((Kᵣ + p)^2) + ((kᵣ*r) / (Kᵣ + p) + (-kᵣ*p*r) / ((Kᵣ + p)^2))*((-kᵣ*p*(1 + p)) / (Kᵣ + p) + (-kₘ*s) / (Kₘ + s)) + ((-kᵣ*p*(1 + p)*r) / (Kᵣ + p) + (kₘ*(1 - r)*s) / (Kₘ + s))*(kᵣ / (Kᵣ + p) + (-kᵣ*p) / ((Kᵣ + p)^2)))) / (Kᵣ + p) + ((kᵣ*r) / (Kᵣ + p) + (-kᵣ*p*r) / ((Kᵣ + p)^2))*((kᵣ*p*r*((-kᵣ*p*(1 + p)) / (Kᵣ + p) + (-kₘ*s) / (Kₘ + s))) / (Kᵣ + p))\n",
       "                   0                                                                                                                                                                                                                                                                                                                                                                                                                                                                                                                                                                                                                      (-(kᵣ^3)*(p^3)*r*v) / ((Kᵣ + p)^3)"
      ]
     },
     "metadata": {},
     "output_type": "display_data"
    }
   ],
   "source": [
    "# Sous matrice de mat2\n",
    "sousDet1_F1_F01_F101 = [mat_F1_F01_F101[1] mat_F1_F01_F101[5] mat_F1_F01_F101[9] ; mat_F1_F01_F101[2] mat_F1_F01_F101[6] mat_F1_F01_F101[10] ; mat_F1_F01_F101[3] mat_F1_F01_F101[7] mat_F1_F01_F101[11]]\n",
    "\n",
    "sousDet2_F1_F01_F101 = [mat_F1_F01_F101[1] mat_F1_F01_F101[5] mat_F1_F01_F101[9] ; mat_F1_F01_F101[2] mat_F1_F01_F101[6] mat_F1_F01_F101[10] ; mat_F1_F01_F101[4] mat_F1_F01_F101[8] mat_F1_F01_F101[12]]\n",
    "\n",
    "sousDet3_F1_F01_F101 = [mat_F1_F01_F101[1] mat_F1_F01_F101[5] mat_F1_F01_F101[9] ; mat_F1_F01_F101[3] mat_F1_F01_F101[7] mat_F1_F01_F101[11] ; mat_F1_F01_F101[4] mat_F1_F01_F101[8] mat_F1_F01_F101[12]]\n",
    "\n",
    "sousDet4_F1_F01_F101 = [mat_F1_F01_F101[2] mat_F1_F01_F101[6] mat_F1_F01_F101[10] ; mat_F1_F01_F101[3] mat_F1_F01_F101[7] mat_F1_F01_F101[11] ; mat_F1_F01_F101[4] mat_F1_F01_F101[8] mat_F1_F01_F101[12]]\n",
    "\n",
    "display(sousDet1_F1_F01_F101)\n",
    "display(sousDet2_F1_F01_F101)\n",
    "display(sousDet3_F1_F01_F101)\n",
    "display(sousDet4_F1_F01_F101)"
   ]
  },
  {
   "cell_type": "code",
   "execution_count": 10,
   "metadata": {},
   "outputs": [
    {
     "data": {
      "text/latex": [
       "$$ \\begin{equation}\n",
       "\\frac{p^{2} k_r^{2} k_m r s v \\frac{ - k_r p r \\frac{k_r p r \\left( \\frac{ - k_r p \\left( 1 + p \\right)}{K_r + p} + \\frac{ - k_m s}{K_m + s} \\right)}{K_r + p}}{K_r + p}}{\\left( K_r + p \\right)^{2} \\left( K_m + s \\right)} + \\frac{ - k_r k_m p r s v \\frac{ - r^{2} p^{3} k_r^{3} \\left( \\frac{ - k_r p \\left( 1 + p \\right)}{K_r + p} + \\frac{ - k_m s}{K_m + s} \\right)}{\\left( K_r + p \\right)^{3}}}{\\left( K_r + p \\right) \\left( K_m + s \\right)}\n",
       "\\end{equation}\n",
       " $$"
      ],
      "text/plain": [
       "((kᵣ^2)*kₘ*(p^2)*r*s*v*((-kᵣ*p*r*((kᵣ*p*r*((-kᵣ*p*(1 + p)) / (Kᵣ + p) + (-kₘ*s) / (Kₘ + s))) / (Kᵣ + p))) / (Kᵣ + p))) / (((Kᵣ + p)^2)*(Kₘ + s)) + (-kᵣ*kₘ*p*r*s*v*((-(kᵣ^3)*(p^3)*(r^2)*((-kᵣ*p*(1 + p)) / (Kᵣ + p) + (-kₘ*s) / (Kₘ + s))) / ((Kᵣ + p)^3))) / ((Kᵣ + p)*(Kₘ + s))"
      ]
     },
     "metadata": {},
     "output_type": "display_data"
    },
    {
     "data": {
      "text/latex": [
       "$$ \\begin{equation}\n",
       "0\n",
       "\\end{equation}\n",
       " $$"
      ],
      "text/plain": [
       "0"
      ]
     },
     "metadata": {},
     "output_type": "display_data"
    },
    {
     "data": {
      "text/latex": [
       "$$ \\begin{equation}\n",
       "\\frac{ - v^{2} r^{3} p^{5} k_r^{5} k_m s}{\\left( K_r + p \\right)^{5} \\left( K_m + s \\right)} + \\frac{r^{2} p^{3} k_r^{3} k_m s v \\frac{p^{2} k_r^{2} r v}{\\left( K_r + p \\right)^{2}}}{\\left( K_r + p \\right)^{3} \\left( K_m + s \\right)}\n",
       "\\end{equation}\n",
       " $$"
      ],
      "text/plain": [
       "(-(kᵣ^5)*kₘ*(p^5)*(r^3)*s*(v^2)) / (((Kᵣ + p)^5)*(Kₘ + s)) + ((kᵣ^3)*kₘ*(p^3)*(r^2)*s*v*(((kᵣ^2)*(p^2)*r*v) / ((Kᵣ + p)^2))) / (((Kᵣ + p)^3)*(Kₘ + s))"
      ]
     },
     "metadata": {},
     "output_type": "display_data"
    },
    {
     "data": {
      "text/latex": [
       "$$ \\begin{equation}\n",
       "\\frac{ - r^{3} p^{5} k_r^{5} v \\left( \\frac{ - k_r p \\left( 1 + p \\right)}{K_r + p} + \\frac{ - k_m s}{K_m + s} \\right)}{\\left( K_r + p \\right)^{5}} + \\frac{r^{2} p^{3} k_r^{3} \\frac{p^{2} k_r^{2} r v}{\\left( K_r + p \\right)^{2}} \\left( \\frac{ - k_r p \\left( 1 + p \\right)}{K_r + p} + \\frac{ - k_m s}{K_m + s} \\right)}{\\left( K_r + p \\right)^{3}}\n",
       "\\end{equation}\n",
       " $$"
      ],
      "text/plain": [
       "(-(kᵣ^5)*(p^5)*(r^3)*v*((-kᵣ*p*(1 + p)) / (Kᵣ + p) + (-kₘ*s) / (Kₘ + s))) / ((Kᵣ + p)^5) + ((kᵣ^3)*(p^3)*(r^2)*(((kᵣ^2)*(p^2)*r*v) / ((Kᵣ + p)^2))*((-kᵣ*p*(1 + p)) / (Kᵣ + p) + (-kₘ*s) / (Kₘ + s))) / ((Kᵣ + p)^3)"
      ]
     },
     "metadata": {},
     "output_type": "display_data"
    },
    {
     "data": {
      "text/plain": [
       "\"sousDet1_F1_F01_F101_diff = (k_m*(k_r^2)*(p^2)*r*s*v*((-k_r*p*r*((k_r*p*r*((-k_m*s) / (K_m + s) + (-k_r*p*(1 + p)) / (K_r + p))) / (K_r + p))) / (K_r + p))) / ((K_m + s)*((K_r + p)^2)) + (-k_m*k_r*p*r*s*v*((-(k_r^3)*(p^3)*(r^2)*((-k_m*s) / (K_m + s) + (-k_r*p*(1 + p)) / \" ⋯ 267 bytes ⋯ \"f = (k_m*(k_r^3)*(p^3)*(r^2)*s*v*(((k_r^2)*(p^2)*r*v) / ((K_r + p)^2))) / ((K_m + s)*((K_r + p)^3)) + (-k_m*(k_r^5)*(p^5)*(r^3)*s*(v^2)) / ((K_m + s)*((K_r + p)^5))\\n\\ndisplay(sousDet1_F1_F01_F101_diff)\\ndisplay(sousDet3_F1_F01_F101_diff)\\ndisplay(sousDet4_F1_F01_F101_diff)\""
      ]
     },
     "metadata": {},
     "output_type": "display_data"
    }
   ],
   "source": [
    "mineur1_F1_F01_F101 = Symbolics.det(sousDet1_F1_F01_F101)\n",
    "mineur2_F1_F01_F101 = Symbolics.det(sousDet2_F1_F01_F101)\n",
    "mineur3_F1_F01_F101 = Symbolics.det(sousDet3_F1_F01_F101)\n",
    "mineur4_F1_F01_F101 = Symbolics.det(sousDet4_F1_F01_F101)\n",
    "\n",
    "display(mineur1_F1_F01_F101)\n",
    "display(mineur2_F1_F01_F101)\n",
    "display(mineur3_F1_F01_F101)\n",
    "display(mineur4_F1_F01_F101)\n",
    "\"\"\"\n",
    "sousDet1_F1_F01_F101_diff = (k_m*(k_r^2)*(p^2)*r*s*v*((-k_r*p*r*((k_r*p*r*((-k_m*s) / (K_m + s) + (-k_r*p*(1 + p)) / (K_r + p))) / (K_r + p))) / (K_r + p))) / ((K_m + s)*((K_r + p)^2)) + (-k_m*k_r*p*r*s*v*((-(k_r^3)*(p^3)*(r^2)*((-k_m*s) / (K_m + s) + (-k_r*p*(1 + p)) / (K_r + p))) / ((K_r + p)^3))) / ((K_m + s)*(K_r + p))\n",
    "sousDet3_F1_F01_F101_diff = (k_m*(k_r^3)*(p^3)*(r^2)*s*v*(((k_r^2)*(p^2)*r*v) / ((K_r + p)^2))) / ((K_m + s)*((K_r + p)^3)) + (-k_m*(k_r^5)*(p^5)*(r^3)*s*(v^2)) / ((K_m + s)*((K_r + p)^5))\n",
    "sousDet4_F1_F01_F101_diff = (k_m*(k_r^3)*(p^3)*(r^2)*s*v*(((k_r^2)*(p^2)*r*v) / ((K_r + p)^2))) / ((K_m + s)*((K_r + p)^3)) + (-k_m*(k_r^5)*(p^5)*(r^3)*s*(v^2)) / ((K_m + s)*((K_r + p)^5))\n",
    "\n",
    "display(sousDet1_F1_F01_F101_diff)\n",
    "display(sousDet3_F1_F01_F101_diff)\n",
    "display(sousDet4_F1_F01_F101_diff)\"\"\""
   ]
  },
  {
   "cell_type": "markdown",
   "metadata": {},
   "source": [
    "# Test numérique des déterminants de sous-matrices de mat_F1_F01_F101 : "
   ]
  }
 ],
 "metadata": {
  "kernelspec": {
   "display_name": "Julia 1.9.3",
   "language": "julia",
   "name": "julia-1.9"
  },
  "language_info": {
   "file_extension": ".jl",
   "mimetype": "application/julia",
   "name": "julia",
   "version": "1.9.3"
  }
 },
 "nbformat": 4,
 "nbformat_minor": 2
}
